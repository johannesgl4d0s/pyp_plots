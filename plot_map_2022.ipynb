{
 "cells": [
  {
   "cell_type": "code",
   "execution_count": null,
   "id": "8b96829c-83ef-4a51-8d31-ec71e7ce7ca3",
   "metadata": {},
   "outputs": [],
   "source": [
    "import pandas as pd\n",
    "import pypsa\n",
    "%matplotlib inline\n",
    "import matplotlib.pyplot as plt\n",
    "import geopandas as gpd\n",
    "import numpy as np\n",
    "import cartopy.crs as ccrs\n",
    "import ipynb\n",
    "import os\n",
    "from os import walk\n",
    "import plotly.express as px\n",
    "import json\n",
    "import plotly.graph_objs as gobj\n",
    "import plotly.graph_objects as go"
   ]
  },
  {
   "cell_type": "code",
   "execution_count": null,
   "id": "b8e3d383-a629-4520-85b3-5ccaccbf82d2",
   "metadata": {},
   "outputs": [],
   "source": [
    "def load_data(mypath1,filenames):\n",
    "    networks = {}\n",
    "    planning_horizon = []\n",
    "    for file in filenames:\n",
    "        year = file[-7:-3]\n",
    "        print(\"Loading year {} \".format(year))\n",
    "        networks[year] = pypsa.Network(os.path.join(mypath1,file))\n",
    "        planning_horizon.append(year)\n",
    "    print(\"I have done my deed now set me Free, mortal!\")\n",
    "    return(networks, planning_horizon)"
   ]
  },
  {
   "cell_type": "code",
   "execution_count": null,
   "id": "f3c409ef-6a7f-4f58-85a5-a342e3791df3",
   "metadata": {},
   "outputs": [],
   "source": [
    "def get_grid_df(n,carrier):\n",
    "    \"\"\"Gets all capacity dataframes for the grid\n",
    "    Parameters\n",
    "    ----------\n",
    "    n : Networks\n",
    "    carrier : string (== \"gas pipeline\", \"AC\", \"H2 pipeline\")\n",
    "        carrier (e.g. \"gas pipeline\", \"DC\") used in lines and links for transporting a specific energy\n",
    "    \n",
    "    Returns\n",
    "    -------\n",
    "    two dataframes:\n",
    "    normal = classic grid, including newly build H2 grid\n",
    "    retro only used for H2 retrofitted piplines.\n",
    "    \"\"\"\n",
    "    normal = n.copy()\n",
    "    retro = n.copy()\n",
    "    dc = n.copy()\n",
    "    if carrier == 'AC':\n",
    "        normal.lines = n.lines[n.lines.type ==\"Al/St 240/40 4-bundle 380.0\"]\n",
    "        dc.links = n.links[n.links.carrier == \"DC\"]\n",
    "        for bus in normal.buses[n.buses.carrier==\"AC\"].index:\n",
    "            dc.buses.loc[f\"{bus}\", [\"x\",\"y\"]] = normal.buses.loc[bus, [\"x\",\"y\"]]\n",
    "    else: \n",
    "        normal.links = n.links[(n.links.carrier == carrier)]\n",
    "        carrier_retro = carrier + \" retrofit\"\n",
    "        retro.links = n.links[(n.links.carrier == carrier_retro)]\n",
    "        for bus in normal.buses[n.buses.carrier==\"AC\"].index:\n",
    "            normal.buses.loc[f\"{bus}\"+ \" \"  + carrier[:3].strip(), [\"x\",\"y\"]] = normal.buses.loc[bus, [\"x\",\"y\"]]\n",
    "            retro.buses.loc[f\"{bus}\"+ \" \" + carrier[:3].strip(), [\"x\",\"y\"]] = retro.buses.loc[bus, [\"x\",\"y\"]]\n",
    "    return(normal,retro,dc)"
   ]
  },
  {
   "cell_type": "code",
   "execution_count": null,
   "id": "c78b7bc0-0a4e-42e4-9b3d-01d6bf7977b7",
   "metadata": {},
   "outputs": [],
   "source": [
    "countries = gpd.read_file(r'C:\\Users\\johannes.misensky\\OneDrive - AGGM\\Dokumente\\pyp\\Shapefile\\shape_nuts2.shp')\n",
    "#countries.plot(figsize = (15, 12))"
   ]
  },
  {
   "cell_type": "code",
   "execution_count": null,
   "id": "766773c5-1c9c-41ed-bbce-6d5ab2af9aef",
   "metadata": {},
   "outputs": [],
   "source": [
    "mypath = r\"C:\\Users\\johannes.misensky\\OneDrive - AGGM\\Dokumente\\ESM_Aus\\postnetworks\\test_1\"\n",
    "mypath1 = f\"{mypath}\"\n",
    "filenames = next(walk(mypath1), (None, None, []))[2]\n",
    "\n",
    "networks = {}\n",
    "planning_horizon = []\n",
    "filenames\n",
    "\n",
    "networks, planning_horizon = load_data(mypath1,filenames)"
   ]
  },
  {
   "cell_type": "code",
   "execution_count": null,
   "id": "4cc65b8a-ef7a-4a0c-acd5-ec0679ce6c55",
   "metadata": {},
   "outputs": [],
   "source": [
    "#countries.to_file(\"path_to_GeoJSON _file\", driver = \"GeoJSON\")\n",
    "with open(\"path_to_GeoJSON _file\") as geofile:\n",
    "    j_file = json.load(geofile)"
   ]
  },
  {
   "cell_type": "code",
   "execution_count": null,
   "id": "ceafcc7d-b98c-4c3b-9aac-d1594a6d0bc3",
   "metadata": {},
   "outputs": [],
   "source": [
    "# for i in range(100):\n",
    "#     print(j_file['features'][i]['properties'])\n",
    "\n",
    "# #j_file['features'][10]['properties']\n",
    "\n",
    "\n",
    "#normal.links[normal.links.index.str.contains('AT')]"
   ]
  },
  {
   "cell_type": "code",
   "execution_count": null,
   "id": "e5e9c6ff-0ea1-479d-bcb4-c0ec0f5e0939",
   "metadata": {},
   "outputs": [],
   "source": [
    "n= networks['2015']\n",
    "\n",
    "carrier = \"AC\"\n",
    "\n",
    "normal, retro, dc = get_grid_df(n,carrier)"
   ]
  },
  {
   "cell_type": "code",
   "execution_count": null,
   "id": "68afd620-ef8b-44b3-aea8-3d41bc79e85d",
   "metadata": {},
   "outputs": [],
   "source": [
    "dc.buses\n",
    "\n"
   ]
  },
  {
   "cell_type": "code",
   "execution_count": null,
   "id": "f46432ea-fdc1-4b28-a35b-d31c282eb8ff",
   "metadata": {},
   "outputs": [],
   "source": [
    "# carrier= carrier[:3].strip()          #dieser Snip ist wsl nicht notwendig => sollte später entfernt werden wenn get_data_skript verbessert ist. \n",
    "# df = normal.buses[normal.buses.carrier == carrier].copy()\n",
    "# df['ct'] = df.index.str[:2]\n",
    "\n",
    "# fig = go.Figure(data=go.Choropleth(\n",
    "#     geojson=j_file,\n",
    "#     featureidkey= 'properties.COUNTRY_ID',\n",
    "#     locationmode='geojson-id',\n",
    "#     locations=df['ct'],\n",
    "#     z=df['v_nom'], #Platzhalter für später = Soll eventuell mal verbrauch werden \n",
    "#     autocolorscale=False,\n",
    "#     showscale=False,\n",
    "#     hoverinfo = 'text',\n",
    "#     text = df['ct']\n",
    "    \n",
    "# ))\n",
    "\n",
    "\n",
    "# if carrier == 'AC':\n",
    "    \n",
    "#     for i in range(len(normal.lines.s_nom_opt)):\n",
    "#         fig.add_trace(\n",
    "#             go.Scattergeo(\n",
    "#                 locationmode = 'geojson-id',\n",
    "#                 lon = [df.loc[normal.lines.bus0[i]]['x'].round(3), df.loc[normal.lines.bus1[i]]['x'].round(3)],\n",
    "#                 lat = [df.loc[normal.lines.bus0[i]]['y'].round(3), df.loc[normal.lines.bus1[i]]['y'].round(3)],\n",
    "#                 mode = 'lines',\n",
    "#                 line = dict(width = (data['s_nom_opt'][i])/1e4,color = 'green'),\n",
    "#                 # opacity = float(df_flight_paths['cnt'][i]) / float(df_flight_paths['cnt'].max()),\n",
    "#             )\n",
    "#         )\n",
    "# else:\n",
    "    \n",
    "#     for i in range(len(normal.links.p_nom_opt)):\n",
    "#         fig.add_trace(\n",
    "#             go.Scattergeo(\n",
    "#                 locationmode = 'geojson-id',\n",
    "#                 lon = [df.loc[normal.links.bus0[i]]['x'].round(3), df.loc[normal.links.bus1[i]]['x'].round(3)],\n",
    "#                 lat = [df.loc[normal.links.bus0[i]]['y'].round(3), df.loc[normal.links.bus1[i]]['y'].round(3)],\n",
    "#                 mode = 'lines',\n",
    "#                 line = dict(width = (data['p_nom_opt'][i])/1e4,color = 'red'),\n",
    "#                 # opacity = float(df_flight_paths['cnt'][i]) / float(df_flight_paths['cnt'].max()),\n",
    "#             )\n",
    "#         )\n",
    "#     for i in range(len(retro.links.p_nom_opt)):\n",
    "#         fig.add_trace(\n",
    "#             go.Scattergeo(\n",
    "#                 locationmode = 'geojson-id',\n",
    "#                 lon = [df.loc[retro.links.bus0[i]]['x'].round(3), df.loc[retro.links.bus1[i]]['x'].round(3)],\n",
    "#                 lat = [df.loc[retro.links.bus0[i]]['y'].round(3), df.loc[retro.links.bus1[i]]['y'].round(3)],\n",
    "#                 mode = 'lines',\n",
    "#                 line = dict(width = (data['p_nom_opt_retro'][i])/1e4,color = 'blue'),\n",
    "#                 hoverinfo = 'text',\n",
    "#                 text = data['p_nom_opt_retro'][i],\n",
    "#                 # opacity = float(df_flight_paths['cnt'][i]) / float(df_flight_paths['cnt'].max()),\n",
    "#             )\n",
    "#         )\n",
    "\n",
    "\n",
    "# fig.update_geos(\n",
    "#     visible=False, resolution=50, scope=\"europe\",\n",
    "#     showcountries=True, countrycolor=\"Black\",\n",
    "#     #showsubunits=True, subunitcolor=\"Blue\"\n",
    "# )\n",
    "\n",
    "\n",
    "\n",
    "# fig.update_layout(\n",
    "#     autosize=False,\n",
    "#     width=1000,\n",
    "#     height=1000,\n",
    "#     showlegend = False,\n",
    "# )\n",
    "# fig.show()"
   ]
  },
  {
   "cell_type": "code",
   "execution_count": null,
   "id": "700c6991-504b-419c-aae8-7e4bf8853cfa",
   "metadata": {
    "tags": []
   },
   "outputs": [],
   "source": [
    "def plot_grid(normal, retro, carrier, year):\n",
    "    \"\"\"Plots a Geo. Figure in Plotly containing all clusters and a given grid\n",
    "    Parameters\n",
    "    ----------\n",
    "    normal : Dataframe containing Links and Buses for AC and H2/gas grid, should be provided by get_grid_df funktion\n",
    "    retro : Dataframe containing Links and Buses for retrofitted H2 grid, should be provided by get_grid_df funktion\n",
    "    carrier : string (== \"gas pipeline\", \"AC\", \"H2 pipeline\")\n",
    "        carrier (e.g. \"gas pipeline\", \"AC\") used to differenciate what grid to plot\n",
    "    \n",
    "    Returns\n",
    "    -------\n",
    "    Grid plot of a given carrier\n",
    "    \"\"\"\n",
    "    carrier= carrier[:3].strip()          #this part is unnecessary here should be deleted as soon as get_grid_df is modified \n",
    "    df = normal.buses[normal.buses.carrier == carrier].copy()\n",
    "    df['ct'] = df.index.str[:5]\n",
    "    \n",
    "    fig = go.Figure(data=go.Choropleth(\n",
    "        #eojson=j_file,\n",
    "        featureidkey= 'properties.COUNTRY_ID',\n",
    "        locationmode='geojson-id', # honestly no idea what this does\n",
    "        locations=df['ct'],\n",
    "        z=df['v_nom'], # Placeholder Variable for a later use could be colorcode for powerussage?  \n",
    "        autocolorscale=False,\n",
    "        showscale=False,\n",
    "        hoverinfo = 'text',\n",
    "        text = df['ct']\n",
    "\n",
    "    ))\n",
    "\n",
    "    #Plot grid lines and set width, AC has to be treated specially \n",
    "    if carrier == 'AC':\n",
    "\n",
    "        for i in range(len(normal.lines.s_nom_opt)):\n",
    "            fig.add_trace(\n",
    "                go.Scattergeo(\n",
    "                    locationmode = 'geojson-id',# honestly no idea what this does\n",
    "                    lon = [df.loc[normal.lines.bus0[i]]['x'].round(3), df.loc[normal.lines.bus1[i]]['x'].round(3)],\n",
    "                    lat = [df.loc[normal.lines.bus0[i]]['y'].round(3), df.loc[normal.lines.bus1[i]]['y'].round(3)],\n",
    "                    mode = 'lines',\n",
    "                    line = dict(width = (normal.lines.s_nom_opt[i])/1e4,color = 'green'),\n",
    "                    # opacity = float(df_flight_paths['cnt'][i]) / float(df_flight_paths['cnt'].max()),  => Could be used later\n",
    "                    name=\"AC Grid\"\n",
    "                )\n",
    "            )\n",
    "        for i in range(len(dc.links.p_nom_opt)):\n",
    "            fig.add_trace(\n",
    "                go.Scattergeo(\n",
    "                    locationmode = 'geojson-id',# honestly no idea what this does\n",
    "                    lon = [df.loc[retro.links.bus0[i]]['x'].round(3), df.loc[retro.links.bus1[i]]['x'].round(3)],\n",
    "                    lat = [df.loc[retro.links.bus0[i]]['y'].round(3), df.loc[retro.links.bus1[i]]['y'].round(3)],\n",
    "                    mode = 'lines',\n",
    "                    line = dict(width = (dc.links.p_nom_opt[i])/1e4,color = 'red'),\n",
    "                    hoverinfo = 'text',\n",
    "                    text = dc.links.p_nom[i].round(0),\n",
    "                    # opacity = float(df_flight_paths['cnt'][i]) / float(df_flight_paths['cnt'].max()),\n",
    "                    name=\"DC Grid\"\n",
    "                )\n",
    "            )\n",
    "\n",
    "    else:\n",
    "\n",
    "        for i in range(len(normal.links.p_nom_opt)):\n",
    "            fig.add_trace(\n",
    "                go.Scattergeo(\n",
    "                    locationmode = 'geojson-id',# honestly no idea what this does\n",
    "                    lon = [df.loc[normal.links.bus0[i]]['x'].round(3), df.loc[normal.links.bus1[i]]['x'].round(3)],\n",
    "                    lat = [df.loc[normal.links.bus0[i]]['y'].round(3), df.loc[normal.links.bus1[i]]['y'].round(3)],\n",
    "                    mode = 'lines',\n",
    "                    line = dict(width = (normal.links.p_nom_opt[i])/1e4,color = 'red'),\n",
    "                    # opacity = float(df_flight_paths['cnt'][i]) / float(df_flight_paths['cnt'].max()),\n",
    "                    text = normal.links.p_nom[i],\n",
    "                    name=\"new Pipeline\"\n",
    "                    \n",
    "                )\n",
    "            )\n",
    "        for i in range(len(retro.links.p_nom_opt)):\n",
    "            fig.add_trace(\n",
    "                go.Scattergeo(\n",
    "                    locationmode = 'geojson-id',# honestly no idea what this does\n",
    "                    lon = [df.loc[retro.links.bus0[i]]['x'].round(3), df.loc[retro.links.bus1[i]]['x'].round(3)],\n",
    "                    lat = [df.loc[retro.links.bus0[i]]['y'].round(3), df.loc[retro.links.bus1[i]]['y'].round(3)],\n",
    "                    mode = 'lines',\n",
    "                    line = dict(width = (retro.links.p_nom_opt[i])/1e4,color = 'blue'),\n",
    "                    hoverinfo = 'text',\n",
    "                    text = retro.links.p_nom[i].round(0),\n",
    "                    name=\"retrofitted Pipeline\"\n",
    "                    # opacity = float(df_flight_paths['cnt'][i]) / float(df_flight_paths['cnt'].max()),\n",
    "                )\n",
    "            )\n",
    "\n",
    "    #centralize on europe\n",
    "    fig.update_geos(\n",
    "        visible=False, resolution=50, \n",
    "        scope=\"europe\",\n",
    "        # center=dict(lon=11, lat=40),\n",
    "        # projection_rotation=dict(lon=30, lat=30, roll=30),\n",
    "        # lataxis_range=[10,11], lonaxis_range=[33,41],\n",
    "        showcountries=True, countrycolor=\"Black\",\n",
    "        #showsubunits=True, subunitcolor=\"Blue\"\n",
    "    )\n",
    "    \n",
    "\n",
    "    #Scale Figure \n",
    "    fig.update_layout(\n",
    "        title=f\" Grid Capacity in {year}\",\n",
    "        autosize=False,\n",
    "        width=1000,\n",
    "        height=1000,\n",
    "        showlegend = True,\n",
    "        legend=dict(itemsizing='constant')\n",
    "    )\n",
    "    names = set()\n",
    "    fig.for_each_trace(\n",
    "        lambda trace:\n",
    "        trace.update(showlegend=False)\n",
    "        if (trace.name in names) else names.add(trace.name))\n",
    "\n",
    "    return(fig)"
   ]
  },
  {
   "cell_type": "code",
   "execution_count": null,
   "id": "eed52d85-5891-47dc-9bec-7f8c0346a83a",
   "metadata": {},
   "outputs": [],
   "source": [
    "pip install dash-bootstrap-components"
   ]
  },
  {
   "cell_type": "code",
   "execution_count": null,
   "id": "ed15c8d6-e2aa-43ca-86a7-dd6ef862a674",
   "metadata": {},
   "outputs": [],
   "source": [
    "from dash import Dash, dcc, Output, Input  # pip install dash\n",
    "import dash_bootstrap_components as dbc    # pip install dash-bootstrap-components\n",
    "import plotly.express as px\n",
    "\n",
    "# incorporate data into app\n",
    "#df = px.data.medals_long()\n",
    "\n",
    "# Build your components\n",
    "app = Dash(__name__, external_stylesheets=[dbc.themes.SOLAR])\n",
    "mytitle = dcc.Markdown(children='# TEST TEST')\n",
    "mygraph = dcc.Graph(figure={})\n",
    "dropdown = dcc.Dropdown(options=['H2 pipeline', 'gas pipeline', \"AC\"],\n",
    "                        value='H2 pipeline',  # initial value displayed when page first loads\n",
    "                        clearable=False)\n",
    "dropdown_year = dcc.Dropdown(options=['2015','2020','2030','2040','2050'],\n",
    "                        value='2015',  # initial value displayed when page first loads\n",
    "                        clearable=False)\n",
    "\n",
    "# Customize your own Layout\n",
    "app.layout = dbc.Container([mytitle, dropdown, dropdown_year, mygraph])\n",
    "\n",
    "# Callback allows components to interact\n",
    "@app.callback(\n",
    "    Output(mygraph, component_property='figure'),\n",
    "    Input(dropdown, component_property='value'),\n",
    "    Input(dropdown_year, component_property='value')\n",
    ")\n",
    "def update_graph(user_input, dropdown_year):  # function arguments come from the component property of the Input\n",
    "    carrier = user_input\n",
    "    n = networks[dropdown_year]\n",
    "    normal,retro,dc = get_grid_df(n,carrier)\n",
    "    fig = plot_grid(normal, retro, carrier, dropdown_year)\n",
    "    return fig  # returned objects are assigned to the component property of the Output\n",
    "\n",
    "\n"
   ]
  },
  {
   "cell_type": "code",
   "execution_count": null,
   "id": "f0191be4-f3b6-46b0-88ac-66b808f27f4b",
   "metadata": {},
   "outputs": [],
   "source": [
    "# Run app\n",
    "if __name__=='__main__':\n",
    "    app.run_server(port=8043)"
   ]
  },
  {
   "cell_type": "markdown",
   "id": "2891c80b-4ef4-4df1-9363-c0b272da11d3",
   "metadata": {},
   "source": [
    "## Sachen die noch fehlen:\n",
    "\n",
    "1) Österreich richtig plotten\n",
    "2) Legende\n",
    "3) optimieren des Plots\n",
    "4) Flussrichtung"
   ]
  },
  {
   "cell_type": "code",
   "execution_count": null,
   "id": "eaa3171b-c295-402b-9a5e-4acba562cd7b",
   "metadata": {},
   "outputs": [],
   "source": [
    "dict_t = {}\n",
    "years = ['2015', '2020', '2030', '2040', '2050']\n",
    "\n",
    "for year in years:\n",
    "\n",
    "    n= networks[year]\n",
    "\n",
    "    carrier = \"gas pipeline\"\n",
    "\n",
    "    normal,retro = get_grid_df(n,carrier)\n",
    "    \n",
    "    dict_t[year] = normal.links[normal.links.carrier == 'gas pipeline'][['bus0','bus1','carrier','p_nom','p_nom_opt']]\n"
   ]
  },
  {
   "cell_type": "code",
   "execution_count": null,
   "id": "824423b6-2a75-4f6e-813e-c395f7262e84",
   "metadata": {},
   "outputs": [],
   "source": [
    "normal.links"
   ]
  },
  {
   "cell_type": "code",
   "execution_count": null,
   "id": "4cfa364a-3f35-4c86-bd9c-f3c408b68466",
   "metadata": {},
   "outputs": [],
   "source": [
    "dict_t['2020']\n"
   ]
  },
  {
   "cell_type": "code",
   "execution_count": null,
   "id": "abb72279-9be7-44ec-9c72-6ba88bc94ae0",
   "metadata": {},
   "outputs": [],
   "source": [
    "dict_t['2030']"
   ]
  },
  {
   "cell_type": "code",
   "execution_count": null,
   "id": "be70e472-80ee-4326-a322-de6f3e58aef2",
   "metadata": {},
   "outputs": [],
   "source": [
    "dict_t['2040']"
   ]
  },
  {
   "cell_type": "code",
   "execution_count": null,
   "id": "108d342c-68d7-415e-b578-de636d965c1b",
   "metadata": {},
   "outputs": [],
   "source": [
    "dict_t['2050']"
   ]
  },
  {
   "cell_type": "code",
   "execution_count": null,
   "id": "94816cc8-ac42-446c-8edd-5579d3c04eec",
   "metadata": {},
   "outputs": [],
   "source": [
    "n = networks['2050']"
   ]
  },
  {
   "cell_type": "code",
   "execution_count": null,
   "id": "f9059ade-d849-4da9-b74b-9f8a810f5b73",
   "metadata": {},
   "outputs": [],
   "source": [
    "import plotly.graph_objects as go\n",
    "\n",
    "fig = go.Figure(go.Scattergeo())\n",
    "fig.update_geos(\n",
    "    center=dict(lon=11, lat=40),\n",
    "    projection_rotation=dict(lon=30, lat=30, roll=30),\n",
    "    lataxis_range=[10,12], lonaxis_range=[20, 41]\n",
    ")\n",
    "fig.update_layout(height=300, margin={\"r\":0,\"t\":0,\"l\":0,\"b\":0})\n",
    "fig.show()"
   ]
  },
  {
   "cell_type": "code",
   "execution_count": null,
   "id": "6e447a8a-d4be-41e6-8695-9ebc9fc24ddb",
   "metadata": {},
   "outputs": [],
   "source": [
    "normal.buses[:11]"
   ]
  },
  {
   "cell_type": "code",
   "execution_count": null,
   "id": "d26664ca-c891-49f1-b4de-21801ad97ba8",
   "metadata": {},
   "outputs": [],
   "source": [
    "at = ['AT0 0', 'AT0 1', 'AT0 2', 'AT0 3', 'AT0 4', 'AT0 5', 'AT0 6', 'AT0 7', 'AT0 8', 'AT0 9'] "
   ]
  },
  {
   "cell_type": "code",
   "execution_count": null,
   "id": "efe808f8-0cbe-4b4f-8c4a-20022d789395",
   "metadata": {},
   "outputs": [],
   "source": []
  },
  {
   "cell_type": "code",
   "execution_count": null,
   "id": "028a3ca4-86f1-44bc-a27d-8d7e77a00124",
   "metadata": {},
   "outputs": [],
   "source": []
  },
  {
   "cell_type": "code",
   "execution_count": null,
   "id": "165adef0-5452-4a43-8000-ecd438e26be5",
   "metadata": {},
   "outputs": [],
   "source": [
    "# Build your components\n",
    "app = dash.Dash(__name__, external_stylesheets=[dbc.themes.SOLAR])\n",
    "mytext = dcc.Markdown(children='')\n",
    "myinput = dbc.Input(value=\"# Hello World - let's build web apps in Python!\")\n",
    "app.title = \"Avocado Analytics: Understand Your Avocados!\"\n",
    "\n",
    "app.layout = html.Div(\n",
    "    children=[\n",
    "        html.Div(\n",
    "            children=[\n",
    "                html.P(children=\"🥑\", className=\"header-emoji\"),\n",
    "                html.H1(\n",
    "                    children=\"Avocado Analytics\", className=\"header-title\"\n",
    "                ),\n",
    "                html.P(\n",
    "                    children=\"Analyze the behavior of avocado prices\"\n",
    "                    \" and the number of avocados sold in the US\"\n",
    "                    \" between 2015 and 2018\",\n",
    "                    className=\"header-description\",\n",
    "                ),\n",
    "            ],\n",
    "            className=\"header\",\n",
    "        ),\n",
    "        html.Div(\n",
    "            children=[\n",
    "                html.Div(\n",
    "    dcc.Graph(figure=fig)\n",
    "            )\n",
    "# Customize your own Layout\n",
    "#app.layout = dbc.Container([mytext, myinput])\n",
    "\n",
    "# Callback allows components to interact\n",
    "@app.callback(\n",
    "    Output(mytext, component_property='children'),\n",
    "    Input(myinput, component_property='value')\n",
    ")\n",
    "def update_title(user_input):  # function arguments come from the component property of the Input\n",
    "    return user_input  # returned objects are assigned to the component property of the Output"
   ]
  },
  {
   "cell_type": "code",
   "execution_count": null,
   "id": "e0bab29c-09c6-4ad0-a7d1-35350a5f7e78",
   "metadata": {},
   "outputs": [],
   "source": [
    "normal.links.head()"
   ]
  },
  {
   "cell_type": "code",
   "execution_count": null,
   "id": "e396f76e-6176-42f5-9f3d-b0422c3f4437",
   "metadata": {},
   "outputs": [],
   "source": [
    "len(df)"
   ]
  },
  {
   "cell_type": "code",
   "execution_count": null,
   "id": "435c9788-7e13-4358-94c2-3b7fa0ac4453",
   "metadata": {},
   "outputs": [],
   "source": [
    "normal.buses[normal.buses.carrier == \"gas\"]"
   ]
  },
  {
   "cell_type": "code",
   "execution_count": null,
   "id": "57ecb94b-402e-4c5a-9c52-29162387c449",
   "metadata": {},
   "outputs": [],
   "source": [
    "normal.links.p_nom_opt[0]"
   ]
  },
  {
   "cell_type": "code",
   "execution_count": null,
   "id": "c6fa0689-c2e0-4eb7-8955-b5a146ecc603",
   "metadata": {},
   "outputs": [],
   "source": []
  },
  {
   "cell_type": "markdown",
   "id": "6d53cdfe-4fbf-4df2-a176-01bdf415ec52",
   "metadata": {},
   "source": [
    "# AB hier beginnt BS "
   ]
  },
  {
   "cell_type": "code",
   "execution_count": null,
   "id": "ffb4da6a-4beb-4990-8295-a4b7d35062bb",
   "metadata": {},
   "outputs": [],
   "source": [
    "n.lines.s_nom_opt"
   ]
  },
  {
   "cell_type": "code",
   "execution_count": null,
   "id": "55c68b3c-8853-489e-9a5b-6f246094fa67",
   "metadata": {},
   "outputs": [],
   "source": [
    "#  i=1\n",
    "# for feature in j_file[\"features\"]:\n",
    "#     feature ['id'] = str(i).zfill(2)\n",
    "#     i += 1\n",
    "# normal.lines = n.lines[n.lines.type ==\"Al/St 240/40 4-bundle 380.0\"]"
   ]
  },
  {
   "cell_type": "code",
   "execution_count": null,
   "id": "120e72c3-e0b4-49c5-88a7-3d038849b204",
   "metadata": {},
   "outputs": [],
   "source": [
    "#normal.buses[normal.buses.carrier == 'AC'].head()"
   ]
  },
  {
   "cell_type": "code",
   "execution_count": null,
   "id": "15f9a48d-648f-432b-898b-a9aa836df8c0",
   "metadata": {},
   "outputs": [],
   "source": [
    "#normal.lines[normal.lines.type ==\"Al/St 240/40 4-bundle 380.0\"].head()"
   ]
  },
  {
   "cell_type": "code",
   "execution_count": null,
   "id": "96ca1132-043b-4a1a-9219-a3d0eb075d01",
   "metadata": {},
   "outputs": [],
   "source": [
    "carrier= carrier[:3].strip()\n",
    "df = normal.buses[normal.buses.carrier == carrier].copy()\n",
    "df2 = normal.lines[normal.lines.type ==\"Al/St 240/40 4-bundle 380.0\"].copy()\n",
    "df['ct'] = df.index.str[:2]\n",
    "coord_round=3\n"
   ]
  },
  {
   "cell_type": "code",
   "execution_count": null,
   "id": "8f34fbdc-4fce-4995-a0b6-e0e167111097",
   "metadata": {},
   "outputs": [],
   "source": [
    "data = {\"index\" : list(normal.links.index),\n",
    "            \"bus0\" : list(normal.links.bus0),\n",
    "            \"bus1\" : list(normal.links.bus1),\n",
    "            \"x0\" : list(normal.links.bus0.map(df.x).round(coord_round)),\n",
    "            \"y0\" : list(normal.links.bus0.map(df.y).round(coord_round)),\n",
    "            \"x1\" : list(normal.links.bus1.map(df.x).round(coord_round)),\n",
    "            \"y1\" : list(normal.links.bus1.map(df.y).round(coord_round)),\n",
    "            \"p_nom_opt\" : list(normal.links.p_nom_opt.round(0)),\n",
    "            \"s_nom_opt\" : list(normal.lines.s_nom_opt.round(0)),\n",
    "            \"x0_AC\" : list(normal.lines.bus0.map(df.x).round(coord_round)),\n",
    "            \"y0_AC\" : list(normal.lines.bus0.map(df.y).round(coord_round)),\n",
    "            \"x1_AC\" : list(normal.lines.bus1.map(df.x).round(coord_round)),\n",
    "            \"y1_AC\" : list(normal.lines.bus1.map(df.y).round(coord_round)),\n",
    "        \n",
    "        \n",
    "        \"index_retro\" : list(retro.links.index),\n",
    "            \"bus0_retro\" : list(retro.links.bus0),\n",
    "            \"bus1_retro\" : list(retro.links.bus1),\n",
    "            \"x0_retro\" : list(retro.links.bus0.map(df.x).round(coord_round)),\n",
    "            \"y0_retro\" : list(retro.links.bus0.map(df.y).round(coord_round)),\n",
    "            \"x1_retro\" : list(retro.links.bus1.map(df.x).round(coord_round)),\n",
    "            \"y1_retro\" : list(retro.links.bus1.map(df.y).round(coord_round)),\n",
    "            \"p_nom_opt_retro\" : list(retro.links.p_nom_opt.round(0)),\n",
    "       }\n",
    "\n",
    "\n",
    "   "
   ]
  },
  {
   "cell_type": "code",
   "execution_count": null,
   "id": "cc280256-50d5-4ce6-8003-74b171c950e5",
   "metadata": {},
   "outputs": [],
   "source": [
    "normal.buses[normal.buses.carrier == carrier].head()['ct'] = normal.buses[normal.buses.carrier == carrier].head().index.str[:2]\n",
    "\n",
    "normal.buses[normal.buses.carrier == carrier].head()"
   ]
  },
  {
   "cell_type": "code",
   "execution_count": null,
   "id": "1d4a8094-ddc6-4fa7-871b-c053f0699529",
   "metadata": {},
   "outputs": [],
   "source": [
    "df.head()"
   ]
  },
  {
   "cell_type": "code",
   "execution_count": null,
   "id": "d760b0ad-41f4-4059-8c0a-84ba44c800be",
   "metadata": {},
   "outputs": [],
   "source": [
    "\n",
    " #   ,df.loc[normal.lines.bus0[i]]['y']][df.loc[normal.lines.bus1[i]]['x'],df.loc[normal.lines.bus1[i]]['y']] ,data['y0_AC'][i] ][data['x1_AC'][i], data['y1_AC'][i]"
   ]
  },
  {
   "cell_type": "code",
   "execution_count": null,
   "id": "c307cd79-2e23-44ac-b686-6e2c50fdcd34",
   "metadata": {},
   "outputs": [],
   "source": [
    "# for i in range(len(normal.lines.s_nom_opt)): \n",
    "#     if df.loc[normal.lines.bus1[i]]['x'].round(3) == [data['x1_AC'][i]]:\n",
    "#         print( i, \"ok\")\n",
    "#     else:\n",
    "#         print(\"no\")\n"
   ]
  },
  {
   "cell_type": "code",
   "execution_count": null,
   "id": "d83cfd92-b2a9-46ce-9455-aae90e230194",
   "metadata": {},
   "outputs": [],
   "source": [
    "[data['x0_AC'][0],data['y0_AC'][0] ],[data['x1_AC'][0], data['y1_AC'][0]]"
   ]
  },
  {
   "cell_type": "code",
   "execution_count": null,
   "id": "0db73f73-b3f5-45d5-b1c1-480eaa82ab45",
   "metadata": {},
   "outputs": [],
   "source": []
  },
  {
   "cell_type": "code",
   "execution_count": null,
   "id": "a85f5dd7-853f-4667-bd78-65b201619978",
   "metadata": {},
   "outputs": [],
   "source": [
    "fig = go.Figure(data=go.Choropleth(\n",
    "    geojson=j_file,\n",
    "    featureidkey= 'properties.COUNTRY_ID',\n",
    "    locationmode='geojson-id',\n",
    "    locations=df['ct'],\n",
    "    z=df['v_nom'], #Platzhalter für später = Soll eventuell mal verbrauch werden \n",
    "    autocolorscale=False,\n",
    "    showscale=False,\n",
    "    hoverinfo = 'text',\n",
    "    text = df['ct']\n",
    "    \n",
    "))\n",
    "\n",
    "if carrier == 'AC':\n",
    "    \n",
    "    for i in range(len(data['x0_AC'])):\n",
    "        fig.add_trace(\n",
    "            go.Scattergeo(\n",
    "                locationmode = 'geojson-id',\n",
    "                lon = [data['x0_AC'][i], data['x1_AC'][i]],\n",
    "                lat = [data['y0_AC'][i], data['y1_AC'][i]],\n",
    "                mode = 'lines',\n",
    "                line = dict(width = (data['s_nom_opt'][i])/1e4,color = 'green'),\n",
    "                # opacity = float(df_flight_paths['cnt'][i]) / float(df_flight_paths['cnt'].max()),\n",
    "            )\n",
    "        )\n",
    "else:\n",
    "    \n",
    "    for i in range(len(data['x0'])):\n",
    "        fig.add_trace(\n",
    "            go.Scattergeo(\n",
    "                locationmode = 'geojson-id',\n",
    "                lon = [data['x0'][i], data['x1'][i]],\n",
    "                lat = [data['y0'][i], data['y1'][i]],\n",
    "                mode = 'lines',\n",
    "                line = dict(width = (data['p_nom_opt'][i])/1e4,color = 'red'),\n",
    "                # opacity = float(df_flight_paths['cnt'][i]) / float(df_flight_paths['cnt'].max()),\n",
    "            )\n",
    "        )\n",
    "    for i in range(len(data['x0_retro'])):\n",
    "        fig.add_trace(\n",
    "            go.Scattergeo(\n",
    "                locationmode = 'geojson-id',\n",
    "                lon = [data['x0_retro'][i], data['x1_retro'][i]],\n",
    "                lat = [data['y0_retro'][i], data['y1_retro'][i]],\n",
    "                mode = 'lines',\n",
    "                line = dict(width = (data['p_nom_opt_retro'][i])/1e4,color = 'blue'),\n",
    "                hoverinfo = 'text',\n",
    "                text = data['p_nom_opt_retro'][i],\n",
    "                # opacity = float(df_flight_paths['cnt'][i]) / float(df_flight_paths['cnt'].max()),\n",
    "            )\n",
    "        )\n",
    "\n",
    "\n",
    "fig.update_geos(\n",
    "    visible=False, resolution=50, scope=\"europe\",\n",
    "    showcountries=True, countrycolor=\"Black\",\n",
    "    #showsubunits=True, subunitcolor=\"Blue\"\n",
    ")\n",
    "\n",
    "\n",
    "\n",
    "fig.update_layout(\n",
    "    autosize=False,\n",
    "    width=1000,\n",
    "    height=1000,\n",
    "    showlegend = False,\n",
    ")\n",
    "fig.show()"
   ]
  },
  {
   "cell_type": "code",
   "execution_count": null,
   "id": "1773b975-fe2b-49c1-a5bc-0a1d3f2a2d6a",
   "metadata": {},
   "outputs": [],
   "source": [
    "import dash\n",
    "from dash import dcc, html\n",
    "import dash_bootstrap_components as dbc \n",
    "\n",
    "\n",
    "app = dash.Dash(__name__, external_stylesheets=[dbc.themes.SOLAR])\n",
    "app.layout = html.Div([\n",
    "    dcc.Graph(figure=fig)\n",
    "])"
   ]
  },
  {
   "cell_type": "code",
   "execution_count": null,
   "id": "b4acc2ee-2ed9-44f4-b2a4-1c0ce01424e0",
   "metadata": {},
   "outputs": [],
   "source": [
    "if __name__=='__main__':\n",
    "    app.run_server(port=8041)\n"
   ]
  },
  {
   "cell_type": "code",
   "execution_count": null,
   "id": "828931e5-efa6-482f-baeb-0607a2060221",
   "metadata": {},
   "outputs": [],
   "source": [
    "import plotly.graph_objects as go\n",
    "import pandas as pd\n",
    "\n",
    "df_airports = pd.read_csv('https://raw.githubusercontent.com/plotly/datasets/master/2011_february_us_airport_traffic.csv')\n",
    "df_airports.head()\n",
    "\n",
    "df_flight_paths = pd.read_csv('https://raw.githubusercontent.com/plotly/datasets/master/2011_february_aa_flight_paths.csv')\n",
    "df_flight_paths.head()\n",
    "\n",
    "fig = go.Figure()\n",
    "\n",
    "fig.add_trace(go.Scattergeo(\n",
    "    locationmode = 'USA-states',\n",
    "    lon = df_airports['long'],\n",
    "    lat = df_airports['lat'],\n",
    "    hoverinfo = 'text',\n",
    "    text = df_airports['airport'],\n",
    "    mode = 'markers',\n",
    "    marker = dict(\n",
    "        size = 2,\n",
    "        color = 'rgb(255, 0, 0)',\n",
    "        line = dict(\n",
    "            width = 3,\n",
    "            color = 'rgba(68, 68, 68, 0)'\n",
    "        )\n",
    "    )))\n",
    "\n",
    "flight_paths = []\n",
    "for i in range(len(df_flight_paths)):\n",
    "    fig.add_trace(\n",
    "        go.Scattergeo(\n",
    "            locationmode = 'USA-states',\n",
    "            lon = [df_flight_paths['start_lon'][i], df_flight_paths['end_lon'][i]],\n",
    "            lat = [df_flight_paths['start_lat'][i], df_flight_paths['end_lat'][i]],\n",
    "            mode = 'lines',\n",
    "            line = dict(width = 1,color = 'red'),\n",
    "            opacity = float(df_flight_paths['cnt'][i]) / float(df_flight_paths['cnt'].max()),\n",
    "        )\n",
    "    )\n",
    "\n",
    "fig.update_layout(\n",
    "    title_text = 'Feb. 2011 American Airline flight paths<br>(Hover for airport names)',\n",
    "    showlegend = False,\n",
    "    geo = dict(\n",
    "        scope = 'north america',\n",
    "        projection_type = 'azimuthal equal area',\n",
    "        showland = True,\n",
    "        landcolor = 'rgb(243, 243, 243)',\n",
    "        countrycolor = 'rgb(204, 204, 204)',\n",
    "    ),\n",
    ")\n",
    "\n",
    "fig.show()"
   ]
  },
  {
   "cell_type": "code",
   "execution_count": null,
   "id": "fe7489ff-50b7-4cba-9505-976089525dd9",
   "metadata": {},
   "outputs": [],
   "source": []
  },
  {
   "cell_type": "code",
   "execution_count": null,
   "id": "2e1bee2d-50da-4587-b170-cf8e0d4473a5",
   "metadata": {},
   "outputs": [],
   "source": [
    "[lon_x0,lon_x1]"
   ]
  },
  {
   "cell_type": "code",
   "execution_count": null,
   "id": "7460ffba-cf29-4b6c-8bcc-2d748bdfde8b",
   "metadata": {},
   "outputs": [],
   "source": [
    "data['x0'][1], data['x1'][1]"
   ]
  },
  {
   "cell_type": "code",
   "execution_count": null,
   "id": "8a17ce22-c7a7-4e36-a2e9-cf7b5bacfdc0",
   "metadata": {},
   "outputs": [],
   "source": [
    "with open('json_data.json', 'w') as outfile:\n",
    "    json.dump(data, outfile)"
   ]
  },
  {
   "cell_type": "code",
   "execution_count": null,
   "id": "f80083de-fd49-46e9-9590-4e480d23c839",
   "metadata": {},
   "outputs": [],
   "source": [
    "with open('json_data.json') as geofile:\n",
    "    link_file = json.load(geofile)"
   ]
  },
  {
   "cell_type": "code",
   "execution_count": null,
   "id": "609a4367-55b5-4622-91cc-399be512c38f",
   "metadata": {},
   "outputs": [],
   "source": [
    "df2 = df1[df1.iso_alpha == 'AGO']"
   ]
  },
  {
   "cell_type": "code",
   "execution_count": null,
   "id": "ac55b92d-511c-4abd-aede-9cdf34820be7",
   "metadata": {},
   "outputs": [],
   "source": [
    "normal.links['end'] = normal.links.bus1.str[:2]"
   ]
  },
  {
   "cell_type": "code",
   "execution_count": null,
   "id": "f1831192-5f74-420c-9063-78a3c77b6bd9",
   "metadata": {},
   "outputs": [],
   "source": [
    "df2 = df1[df1.continent == \"Africa\"][:2]"
   ]
  },
  {
   "cell_type": "code",
   "execution_count": null,
   "id": "32b62650-ba93-4af8-88be-cfb1557c7b61",
   "metadata": {},
   "outputs": [],
   "source": [
    "df1"
   ]
  },
  {
   "cell_type": "code",
   "execution_count": null,
   "id": "86401db5-b03e-4ee4-9104-1a3d6cbc2618",
   "metadata": {},
   "outputs": [],
   "source": [
    "n.links[n.links.carrier == 'helmeth'][['bus0','bus1','bus2','bus3','carrier']].head()"
   ]
  },
  {
   "cell_type": "code",
   "execution_count": null,
   "id": "24641174-271a-4032-b532-f99070d7acfb",
   "metadata": {},
   "outputs": [],
   "source": [
    "n.links_t.p1[[\"AT0 0 Sabatier\"]].head()"
   ]
  },
  {
   "cell_type": "code",
   "execution_count": null,
   "id": "e06c5510-bd3a-466b-9f7c-e7dadf569ef7",
   "metadata": {},
   "outputs": [],
   "source": [
    "n.links[n.links.index.str.contains('AT0 0 biogas')]"
   ]
  },
  {
   "cell_type": "code",
   "execution_count": null,
   "id": "91e94135-4feb-43c1-b82d-07c91cd050f1",
   "metadata": {},
   "outputs": [],
   "source": [
    "n.links.carrier.unique()"
   ]
  },
  {
   "cell_type": "code",
   "execution_count": null,
   "id": "b80d2668-3d26-4d26-bbba-71feadfa0dce",
   "metadata": {},
   "outputs": [],
   "source": []
  }
 ],
 "metadata": {
  "kernelspec": {
   "display_name": "knep",
   "language": "python",
   "name": "knep"
  },
  "language_info": {
   "codemirror_mode": {
    "name": "ipython",
    "version": 3
   },
   "file_extension": ".py",
   "mimetype": "text/x-python",
   "name": "python",
   "nbconvert_exporter": "python",
   "pygments_lexer": "ipython3",
   "version": "3.8.13"
  }
 },
 "nbformat": 4,
 "nbformat_minor": 5
}
