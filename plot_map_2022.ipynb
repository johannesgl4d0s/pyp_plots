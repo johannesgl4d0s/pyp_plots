{
 "cells": [
  {
   "cell_type": "code",
   "execution_count": 1,
   "id": "8b96829c-83ef-4a51-8d31-ec71e7ce7ca3",
   "metadata": {},
   "outputs": [],
   "source": [
    "import pandas as pd\n",
    "import pypsa\n",
    "%matplotlib inline\n",
    "import matplotlib.pyplot as plt\n",
    "import geopandas as gpd\n",
    "import numpy as np\n",
    "import cartopy.crs as ccrs\n",
    "import ipynb\n",
    "import os\n",
    "from os import walk\n",
    "import plotly.express as px\n",
    "import json\n",
    "import plotly.graph_objs as gobj\n",
    "import plotly.graph_objects as go"
   ]
  },
  {
   "cell_type": "code",
   "execution_count": 2,
   "id": "b8e3d383-a629-4520-85b3-5ccaccbf82d2",
   "metadata": {},
   "outputs": [],
   "source": [
    "def load_data(mypath1,filenames):\n",
    "    networks = {}\n",
    "    planning_horizon = []\n",
    "    for file in filenames:\n",
    "        year = file[-7:-3]\n",
    "        print(\"Loading year {} \".format(year))\n",
    "        networks[year] = pypsa.Network(os.path.join(mypath1,file))\n",
    "        planning_horizon.append(year)\n",
    "    print(\"I have done my deed now set me Free, mortal!\")\n",
    "    return(networks, planning_horizon)"
   ]
  },
  {
   "cell_type": "code",
   "execution_count": 3,
   "id": "f3c409ef-6a7f-4f58-85a5-a342e3791df3",
   "metadata": {},
   "outputs": [],
   "source": [
    "def get_grid_df(n,carrier):\n",
    "    \"\"\"Gets all capacity dataframes for the grid\n",
    "    Parameters\n",
    "    ----------\n",
    "    n : Networks\n",
    "    carrier : string (== \"gas pipeline\", \"AC\", \"H2 pipeline\")\n",
    "        carrier (e.g. \"gas pipeline\", \"DC\") used in lines and links for transporting a specific energy\n",
    "    \n",
    "    Returns\n",
    "    -------\n",
    "    two dataframes:\n",
    "    normal = classic grid, including newly build H2 grid\n",
    "    retro only used for H2 retrofitted piplines.\n",
    "    \"\"\"\n",
    "    normal = n.copy()\n",
    "    retro = n.copy()\n",
    "    dc = n.copy()\n",
    "    if carrier == 'AC':\n",
    "        normal.lines = n.lines[n.lines.type ==\"Al/St 240/40 4-bundle 380.0\"]\n",
    "        dc.links = n.links[n.links.carrier == \"DC\"]\n",
    "        for bus in normal.buses[n.buses.carrier==\"AC\"].index:\n",
    "            dc.buses.loc[f\"{bus}\", [\"x\",\"y\"]] = normal.buses.loc[bus, [\"x\",\"y\"]]\n",
    "    else: \n",
    "        normal.links = n.links[(n.links.carrier == carrier)]\n",
    "        carrier_retro = carrier + \" retrofit\"\n",
    "        retro.links = n.links[(n.links.carrier == carrier_retro)]\n",
    "        for bus in normal.buses[n.buses.carrier==\"AC\"].index:\n",
    "            normal.buses.loc[f\"{bus}\"+ \" \"  + carrier[:3].strip(), [\"x\",\"y\"]] = normal.buses.loc[bus, [\"x\",\"y\"]]\n",
    "            retro.buses.loc[f\"{bus}\"+ \" \" + carrier[:3].strip(), [\"x\",\"y\"]] = retro.buses.loc[bus, [\"x\",\"y\"]]\n",
    "    return(normal,retro,dc)"
   ]
  },
  {
   "cell_type": "code",
   "execution_count": 4,
   "id": "c78b7bc0-0a4e-42e4-9b3d-01d6bf7977b7",
   "metadata": {},
   "outputs": [],
   "source": [
    "countries = gpd.read_file(r'C:\\Users\\johannes.misensky\\OneDrive - AGGM\\Dokumente\\pyp\\Shapefile\\shape_nuts2.shp')\n"
   ]
  },
  {
   "cell_type": "code",
   "execution_count": 5,
   "id": "766773c5-1c9c-41ed-bbce-6d5ab2af9aef",
   "metadata": {},
   "outputs": [
    {
     "name": "stdout",
     "output_type": "stream",
     "text": [
      "Loading year 2015 \n"
     ]
    },
    {
     "name": "stderr",
     "output_type": "stream",
     "text": [
      "WARNING:pypsa.io:\n",
      "Importing PyPSA from older version of PyPSA than current version.\n",
      "Please read the release notes at https://pypsa.readthedocs.io/en/latest/release_notes.html\n",
      "carefully to prepare your network for import.\n",
      "Currently used PyPSA version [0, 20, 1], imported network file PyPSA version [0, 17, 1].\n",
      "\n",
      "INFO:pypsa.components:Applying weightings to all columns of `snapshot_weightings`\n",
      "INFO:pypsa.io:Imported network elec_s_AT10_lv1.0__Co2L0p79-120H-T-H-B-I_2015.nc has buses, carriers, generators, global_constraints, lines, links, loads, storage_units, stores\n"
     ]
    },
    {
     "name": "stdout",
     "output_type": "stream",
     "text": [
      "Loading year 2020 \n"
     ]
    },
    {
     "name": "stderr",
     "output_type": "stream",
     "text": [
      "WARNING:pypsa.io:\n",
      "Importing PyPSA from older version of PyPSA than current version.\n",
      "Please read the release notes at https://pypsa.readthedocs.io/en/latest/release_notes.html\n",
      "carefully to prepare your network for import.\n",
      "Currently used PyPSA version [0, 20, 1], imported network file PyPSA version [0, 17, 1].\n",
      "\n",
      "INFO:pypsa.components:Applying weightings to all columns of `snapshot_weightings`\n",
      "INFO:pypsa.io:Imported network elec_s_AT10_lv1.0__Co2L0p79-120H-T-H-B-I_2020.nc has buses, carriers, generators, global_constraints, lines, links, loads, storage_units, stores\n"
     ]
    },
    {
     "name": "stdout",
     "output_type": "stream",
     "text": [
      "Loading year 2030 \n"
     ]
    },
    {
     "name": "stderr",
     "output_type": "stream",
     "text": [
      "WARNING:pypsa.io:\n",
      "Importing PyPSA from older version of PyPSA than current version.\n",
      "Please read the release notes at https://pypsa.readthedocs.io/en/latest/release_notes.html\n",
      "carefully to prepare your network for import.\n",
      "Currently used PyPSA version [0, 20, 1], imported network file PyPSA version [0, 17, 1].\n",
      "\n",
      "INFO:pypsa.components:Applying weightings to all columns of `snapshot_weightings`\n",
      "INFO:pypsa.io:Imported network elec_s_AT10_lv1.0__Co2L0p79-120H-T-H-B-I_2030.nc has buses, carriers, generators, global_constraints, lines, links, loads, storage_units, stores\n"
     ]
    },
    {
     "name": "stdout",
     "output_type": "stream",
     "text": [
      "Loading year 2040 \n"
     ]
    },
    {
     "name": "stderr",
     "output_type": "stream",
     "text": [
      "WARNING:pypsa.io:\n",
      "Importing PyPSA from older version of PyPSA than current version.\n",
      "Please read the release notes at https://pypsa.readthedocs.io/en/latest/release_notes.html\n",
      "carefully to prepare your network for import.\n",
      "Currently used PyPSA version [0, 20, 1], imported network file PyPSA version [0, 17, 1].\n",
      "\n",
      "INFO:pypsa.components:Applying weightings to all columns of `snapshot_weightings`\n",
      "INFO:pypsa.io:Imported network elec_s_AT10_lv1.0__Co2L0p79-120H-T-H-B-I_2040.nc has buses, carriers, generators, global_constraints, lines, links, loads, storage_units, stores\n"
     ]
    },
    {
     "name": "stdout",
     "output_type": "stream",
     "text": [
      "Loading year 2050 \n"
     ]
    },
    {
     "name": "stderr",
     "output_type": "stream",
     "text": [
      "WARNING:pypsa.io:\n",
      "Importing PyPSA from older version of PyPSA than current version.\n",
      "Please read the release notes at https://pypsa.readthedocs.io/en/latest/release_notes.html\n",
      "carefully to prepare your network for import.\n",
      "Currently used PyPSA version [0, 20, 1], imported network file PyPSA version [0, 17, 1].\n",
      "\n",
      "INFO:pypsa.components:Applying weightings to all columns of `snapshot_weightings`\n",
      "INFO:pypsa.io:Imported network elec_s_AT10_lv1.0__Co2L0p79-120H-T-H-B-I_2050.nc has buses, carriers, generators, global_constraints, lines, links, loads, storage_units, stores\n"
     ]
    },
    {
     "name": "stdout",
     "output_type": "stream",
     "text": [
      "I have done my deed now set me Free, mortal!\n"
     ]
    }
   ],
   "source": [
    "mypath = r\"C:\\Users\\johannes.misensky\\OneDrive - AGGM\\Dokumente\\ESM_Aus\\postnetworks\\test_1\"\n",
    "mypath1 = f\"{mypath}\"\n",
    "filenames = next(walk(mypath1), (None, None, []))[2]\n",
    "\n",
    "networks = {}\n",
    "planning_horizon = []\n",
    "filenames\n",
    "\n",
    "networks, planning_horizon = load_data(mypath1,filenames)"
   ]
  },
  {
   "cell_type": "code",
   "execution_count": 6,
   "id": "4cc65b8a-ef7a-4a0c-acd5-ec0679ce6c55",
   "metadata": {},
   "outputs": [],
   "source": [
    "#countries.to_file(\"path_to_GeoJSON _file\", driver = \"GeoJSON\")\n",
    "with open(\"path_to_GeoJSON _file\") as geofile:\n",
    "    j_file = json.load(geofile)"
   ]
  },
  {
   "cell_type": "code",
   "execution_count": 136,
   "id": "f46432ea-fdc1-4b28-a35b-d31c282eb8ff",
   "metadata": {},
   "outputs": [
    {
     "data": {
      "application/vnd.plotly.v1+json": {
       "config": {
        "plotlyServerURL": "https://plot.ly"
       },
       "data": [
        {
         "autocolorscale": false,
         "featureidkey": "properties.COUNTRY_ID",
         "hoverinfo": "text",
         "locationmode": "geojson-id",
         "locations": [
          "AL0 0",
          "AT0 0",
          "AT0 1",
          "AT0 2",
          "AT0 3",
          "AT0 4",
          "AT0 5",
          "AT0 6",
          "AT0 7",
          "AT0 8",
          "AT0 9",
          "BA0 0",
          "BE0 0",
          "BG0 0",
          "CH0 0",
          "CZ0 0",
          "DE0 0",
          "DE0 1",
          "DE0 2",
          "DE0 3",
          "DE0 4",
          "DK0 0",
          "DK3 0",
          "EE6 0",
          "ES0 0",
          "ES2 0",
          "FI3 0",
          "FR0 0",
          "GB4 0",
          "GB5 0",
          "GR0 0",
          "HR0 0",
          "HU0 0",
          "IE4 0",
          "IT0 0",
          "IT1 0",
          "LT6 0",
          "LU0 0",
          "LV6 0",
          "ME0 0",
          "MK0 0",
          "NL0 0",
          "NO3 0",
          "PL0 0",
          "PT0 0",
          "RO0 0",
          "RS0 0",
          "SE3 0",
          "SI0 0",
          "SK0 0"
         ],
         "showlegend": false,
         "showscale": false,
         "text": [
          "AL0 0",
          "AT0 0",
          "AT0 1",
          "AT0 2",
          "AT0 3",
          "AT0 4",
          "AT0 5",
          "AT0 6",
          "AT0 7",
          "AT0 8",
          "AT0 9",
          "BA0 0",
          "BE0 0",
          "BG0 0",
          "CH0 0",
          "CZ0 0",
          "DE0 0",
          "DE0 1",
          "DE0 2",
          "DE0 3",
          "DE0 4",
          "DK0 0",
          "DK3 0",
          "EE6 0",
          "ES0 0",
          "ES2 0",
          "FI3 0",
          "FR0 0",
          "GB4 0",
          "GB5 0",
          "GR0 0",
          "HR0 0",
          "HU0 0",
          "IE4 0",
          "IT0 0",
          "IT1 0",
          "LT6 0",
          "LU0 0",
          "LV6 0",
          "ME0 0",
          "MK0 0",
          "NL0 0",
          "NO3 0",
          "PL0 0",
          "PT0 0",
          "RO0 0",
          "RS0 0",
          "SE3 0",
          "SI0 0",
          "SK0 0"
         ],
         "type": "choropleth",
         "z": [
          1,
          1,
          1,
          1,
          1,
          1,
          1,
          1,
          1,
          1,
          1,
          1,
          1,
          1,
          1,
          1,
          1,
          1,
          1,
          1,
          1,
          1,
          1,
          1,
          1,
          1,
          1,
          1,
          1,
          1,
          1,
          1,
          1,
          1,
          1,
          1,
          1,
          1,
          1,
          1,
          1,
          1,
          1,
          1,
          1,
          1,
          1,
          1,
          1,
          1
         ]
        },
        {
         "lat": [
          41.562,
          38.949
         ],
         "line": {
          "color": "red",
          "width": 0.12691702956839856
         },
         "locationmode": "geojson-id",
         "lon": [
          19.895,
          22.73
         ],
         "mode": "lines",
         "name": "0 GW Pipeline",
         "showlegend": false,
         "text": "12428.561983040805",
         "type": "scattergeo"
        },
        {
         "lat": [
          41.562,
          43.584
         ],
         "line": {
          "color": "red",
          "width": 1.2423535058230547e-05
         },
         "locationmode": "geojson-id",
         "lon": [
          19.895,
          11.707
         ],
         "mode": "lines",
         "name": "0 GW Pipeline",
         "showlegend": false,
         "text": "12899.543378995431",
         "type": "scattergeo"
        },
        {
         "lat": [
          47.746,
          47.217
         ],
         "line": {
          "color": "red",
          "width": 0.2500703955327931
         },
         "locationmode": "geojson-id",
         "lon": [
          16.608,
          18.879
         ],
         "mode": "lines",
         "name": "0 GW Pipeline",
         "showlegend": false,
         "text": "5247.280585768429",
         "type": "scattergeo"
        },
        {
         "lat": [
          48.116,
          48.653
         ],
         "line": {
          "color": "red",
          "width": 2.0282192571338515
         },
         "locationmode": "geojson-id",
         "lon": [
          15.661,
          19.028
         ],
         "mode": "lines",
         "name": "2 GW Pipeline",
         "showlegend": false,
         "text": "69145.09307556092",
         "type": "scattergeo"
        },
        {
         "lat": [
          46.615,
          43.584
         ],
         "line": {
          "color": "red",
          "width": 0.5734050687166771
         },
         "locationmode": "geojson-id",
         "lon": [
          14.142,
          11.707
         ],
         "mode": "lines",
         "name": "0 GW Pipeline",
         "showlegend": false,
         "text": "46299.90833052606",
         "type": "scattergeo"
        },
        {
         "lat": [
          47.173,
          46.121
         ],
         "line": {
          "color": "red",
          "width": 4.7259954252744846e-05
         },
         "locationmode": "geojson-id",
         "lon": [
          15.017,
          14.805
         ],
         "mode": "lines",
         "name": "0 GW Pipeline",
         "showlegend": false,
         "text": "0.0",
         "type": "scattergeo"
        },
        {
         "lat": [
          48.047,
          48.952
         ],
         "line": {
          "color": "red",
          "width": 4.650282662223142e-05
         },
         "locationmode": "geojson-id",
         "lon": [
          13.997,
          11.262
         ],
         "mode": "lines",
         "name": "0 GW Pipeline",
         "showlegend": false,
         "text": "24838.282943517872",
         "type": "scattergeo"
        },
        {
         "lat": [
          47.215,
          48.952
         ],
         "line": {
          "color": "red",
          "width": 9.43498917672883e-06
         },
         "locationmode": "geojson-id",
         "lon": [
          10.935,
          11.262
         ],
         "mode": "lines",
         "name": "0 GW Pipeline",
         "showlegend": false,
         "text": "0.0",
         "type": "scattergeo"
        },
        {
         "lat": [
          43.811,
          44.073
         ],
         "line": {
          "color": "red",
          "width": 8.815813840627442e-06
         },
         "locationmode": "geojson-id",
         "lon": [
          18.123,
          20.687
         ],
         "mode": "lines",
         "name": "0 GW Pipeline",
         "showlegend": false,
         "text": "0.0",
         "type": "scattergeo"
        },
        {
         "lat": [
          50.743,
          50.837
         ],
         "line": {
          "color": "red",
          "width": 9.424672615347228
         },
         "locationmode": "geojson-id",
         "lon": [
          4.799,
          7.683
         ],
         "mode": "lines",
         "name": "9 GW Pipeline",
         "showlegend": false,
         "text": "8982.754822287505",
         "type": "scattergeo"
        },
        {
         "lat": [
          50.743,
          46.809
         ],
         "line": {
          "color": "red",
          "width": 1.4940646505441912e-05
         },
         "locationmode": "geojson-id",
         "lon": [
          4.799,
          3.156
         ],
         "mode": "lines",
         "name": "0 GW Pipeline",
         "showlegend": false,
         "text": "25051.083810698063",
         "type": "scattergeo"
        },
        {
         "lat": [
          50.743,
          53.282
         ],
         "line": {
          "color": "red",
          "width": 1.2256392252182616e-05
         },
         "locationmode": "geojson-id",
         "lon": [
          4.799,
          -1.976
         ],
         "mode": "lines",
         "name": "0 GW Pipeline",
         "showlegend": false,
         "text": "0.0",
         "type": "scattergeo"
        },
        {
         "lat": [
          50.743,
          49.677
         ],
         "line": {
          "color": "red",
          "width": 4.362923492159433e-05
         },
         "locationmode": "geojson-id",
         "lon": [
          4.799,
          6.131
         ],
         "mode": "lines",
         "name": "0 GW Pipeline",
         "showlegend": false,
         "text": "1320.3012390180006",
         "type": "scattergeo"
        },
        {
         "lat": [
          50.743,
          52.374
         ],
         "line": {
          "color": "red",
          "width": 3.789345757157045e-05
         },
         "locationmode": "geojson-id",
         "lon": [
          4.799,
          5.551
         ],
         "mode": "lines",
         "name": "0 GW Pipeline",
         "showlegend": false,
         "text": "50749.54811802288",
         "type": "scattergeo"
        },
        {
         "lat": [
          42.765,
          38.949
         ],
         "line": {
          "color": "red",
          "width": 1.4795912998794415e-05
         },
         "locationmode": "geojson-id",
         "lon": [
          24.674,
          22.73
         ],
         "mode": "lines",
         "name": "0 GW Pipeline",
         "showlegend": false,
         "text": "0.0",
         "type": "scattergeo"
        },
        {
         "lat": [
          42.765,
          41.581
         ],
         "line": {
          "color": "red",
          "width": 6.297232172196099e-06
         },
         "locationmode": "geojson-id",
         "lon": [
          24.674,
          21.587
         ],
         "mode": "lines",
         "name": "0 GW Pipeline",
         "showlegend": false,
         "text": "984.8466454560166",
         "type": "scattergeo"
        },
        {
         "lat": [
          42.765,
          45.56
         ],
         "line": {
          "color": "red",
          "width": 0.3972726733283736
         },
         "locationmode": "geojson-id",
         "lon": [
          24.674,
          25.046
         ],
         "mode": "lines",
         "name": "0 GW Pipeline",
         "showlegend": false,
         "text": "28486.03475446447",
         "type": "scattergeo"
        },
        {
         "lat": [
          46.823,
          48.652
         ],
         "line": {
          "color": "red",
          "width": 3.85920529636946e-05
         },
         "locationmode": "geojson-id",
         "lon": [
          8.208,
          9.005
         ],
         "mode": "lines",
         "name": "0 GW Pipeline",
         "showlegend": false,
         "text": "0.0",
         "type": "scattergeo"
        },
        {
         "lat": [
          46.823,
          46.809
         ],
         "line": {
          "color": "red",
          "width": 5.898405960004526e-05
         },
         "locationmode": "geojson-id",
         "lon": [
          8.208,
          3.156
         ],
         "mode": "lines",
         "name": "0 GW Pipeline",
         "showlegend": false,
         "text": "0.0",
         "type": "scattergeo"
        },
        {
         "lat": [
          46.823,
          43.584
         ],
         "line": {
          "color": "red",
          "width": 1.6653382123253715
         },
         "locationmode": "geojson-id",
         "lon": [
          8.208,
          11.707
         ],
         "mode": "lines",
         "name": "1 GW Pipeline",
         "showlegend": false,
         "text": "13567.7354302207",
         "type": "scattergeo"
        },
        {
         "lat": [
          49.843,
          48.952
         ],
         "line": {
          "color": "red",
          "width": 0.0003495389896829573
         },
         "locationmode": "geojson-id",
         "lon": [
          15.238,
          11.262
         ],
         "mode": "lines",
         "name": "0 GW Pipeline",
         "showlegend": false,
         "text": "35198.853329640544",
         "type": "scattergeo"
        },
        {
         "lat": [
          49.843,
          51.879
         ],
         "line": {
          "color": "red",
          "width": 2.646045770842555e-05
         },
         "locationmode": "geojson-id",
         "lon": [
          15.238,
          12.917
         ],
         "mode": "lines",
         "name": "0 GW Pipeline",
         "showlegend": false,
         "text": "46668.11722889118",
         "type": "scattergeo"
        },
        {
         "lat": [
          49.843,
          51.572
         ],
         "line": {
          "color": "red",
          "width": 5.972372696975297e-06
         },
         "locationmode": "geojson-id",
         "lon": [
          15.238,
          18.902
         ],
         "mode": "lines",
         "name": "0 GW Pipeline",
         "showlegend": false,
         "text": "1168.75",
         "type": "scattergeo"
        },
        {
         "lat": [
          49.843,
          48.653
         ],
         "line": {
          "color": "red",
          "width": 0.8367131058372507
         },
         "locationmode": "geojson-id",
         "lon": [
          15.238,
          19.028
         ],
         "mode": "lines",
         "name": "0 GW Pipeline",
         "showlegend": false,
         "text": "22423.68017472073",
         "type": "scattergeo"
        },
        {
         "lat": [
          48.952,
          48.652
         ],
         "line": {
          "color": "red",
          "width": 1.1355810460302084e-05
         },
         "locationmode": "geojson-id",
         "lon": [
          11.262,
          9.005
         ],
         "mode": "lines",
         "name": "0 GW Pipeline",
         "showlegend": false,
         "text": "8903.661333333333",
         "type": "scattergeo"
        },
        {
         "lat": [
          48.952,
          50.837
         ],
         "line": {
          "color": "red",
          "width": 0.10789290631643554
         },
         "locationmode": "geojson-id",
         "lon": [
          11.262,
          7.683
         ],
         "mode": "lines",
         "name": "0 GW Pipeline",
         "showlegend": false,
         "text": "195654.07660694295",
         "type": "scattergeo"
        },
        {
         "lat": [
          48.652,
          50.837
         ],
         "line": {
          "color": "red",
          "width": 0.9509252226541196
         },
         "locationmode": "geojson-id",
         "lon": [
          9.005,
          7.683
         ],
         "mode": "lines",
         "name": "0 GW Pipeline",
         "showlegend": false,
         "text": "59784.16017707302",
         "type": "scattergeo"
        },
        {
         "lat": [
          50.837,
          51.879
         ],
         "line": {
          "color": "red",
          "width": 1.825728530722975e-05
         },
         "locationmode": "geojson-id",
         "lon": [
          7.683,
          12.917
         ],
         "mode": "lines",
         "name": "0 GW Pipeline",
         "showlegend": false,
         "text": "15229.166666666666",
         "type": "scattergeo"
        },
        {
         "lat": [
          50.837,
          53.273
         ],
         "line": {
          "color": "red",
          "width": 0.00019426385152526558
         },
         "locationmode": "geojson-id",
         "lon": [
          7.683,
          9.879
         ],
         "mode": "lines",
         "name": "0 GW Pipeline",
         "showlegend": false,
         "text": "248566.75517847223",
         "type": "scattergeo"
        },
        {
         "lat": [
          50.837,
          46.809
         ],
         "line": {
          "color": "red",
          "width": 1.6745237075839107e-05
         },
         "locationmode": "geojson-id",
         "lon": [
          7.683,
          3.156
         ],
         "mode": "lines",
         "name": "0 GW Pipeline",
         "showlegend": false,
         "text": "11522.016305106898",
         "type": "scattergeo"
        },
        {
         "lat": [
          50.837,
          49.677
         ],
         "line": {
          "color": "red",
          "width": 1.187145917540181e-05
         },
         "locationmode": "geojson-id",
         "lon": [
          7.683,
          6.131
         ],
         "mode": "lines",
         "name": "0 GW Pipeline",
         "showlegend": false,
         "text": "1612.9166666666667",
         "type": "scattergeo"
        },
        {
         "lat": [
          50.837,
          52.374
         ],
         "line": {
          "color": "red",
          "width": 0.0004832553348302463
         },
         "locationmode": "geojson-id",
         "lon": [
          7.683,
          5.551
         ],
         "mode": "lines",
         "name": "0 GW Pipeline",
         "showlegend": false,
         "text": "42391.818567411276",
         "type": "scattergeo"
        },
        {
         "lat": [
          51.879,
          53.273
         ],
         "line": {
          "color": "red",
          "width": 9.518459881333307
         },
         "locationmode": "geojson-id",
         "lon": [
          12.917,
          9.879
         ],
         "mode": "lines",
         "name": "9 GW Pipeline",
         "showlegend": false,
         "text": "146670.25327919787",
         "type": "scattergeo"
        },
        {
         "lat": [
          51.879,
          51.572
         ],
         "line": {
          "color": "red",
          "width": 2.7038059314395153e-05
         },
         "locationmode": "geojson-id",
         "lon": [
          12.917,
          18.902
         ],
         "mode": "lines",
         "name": "0 GW Pipeline",
         "showlegend": false,
         "text": "18496.806619593226",
         "type": "scattergeo"
        },
        {
         "lat": [
          53.273,
          55.99
         ],
         "line": {
          "color": "red",
          "width": 0.43752303919873575
         },
         "locationmode": "geojson-id",
         "lon": [
          9.879,
          9.732
         ],
         "mode": "lines",
         "name": "0 GW Pipeline",
         "showlegend": false,
         "text": "0.0",
         "type": "scattergeo"
        },
        {
         "lat": [
          53.273,
          52.374
         ],
         "line": {
          "color": "red",
          "width": 1.6490360974592116e-05
         },
         "locationmode": "geojson-id",
         "lon": [
          9.879,
          5.551
         ],
         "mode": "lines",
         "name": "0 GW Pipeline",
         "showlegend": false,
         "text": "41397.65875583334",
         "type": "scattergeo"
        },
        {
         "lat": [
          53.273,
          60.979
         ],
         "line": {
          "color": "red",
          "width": 7.406637974271712e-06
         },
         "locationmode": "geojson-id",
         "lon": [
          9.879,
          8.605
         ],
         "mode": "lines",
         "name": "0 GW Pipeline",
         "showlegend": false,
         "text": "29246.136159581434",
         "type": "scattergeo"
        },
        {
         "lat": [
          55.51,
          61.358
         ],
         "line": {
          "color": "red",
          "width": 0.23743798275260777
         },
         "locationmode": "geojson-id",
         "lon": [
          12.284,
          16.278
         ],
         "mode": "lines",
         "name": "0 GW Pipeline",
         "showlegend": false,
         "text": "0.0",
         "type": "scattergeo"
        },
        {
         "lat": [
          58.98,
          56.839
         ],
         "line": {
          "color": "red",
          "width": 0.12134521190093002
         },
         "locationmode": "geojson-id",
         "lon": [
          25.879,
          23.725
         ],
         "mode": "lines",
         "name": "0 GW Pipeline",
         "showlegend": false,
         "text": "0.0",
         "type": "scattergeo"
        },
        {
         "lat": [
          40.601,
          46.809
         ],
         "line": {
          "color": "red",
          "width": 5.417172368291838e-06
         },
         "locationmode": "geojson-id",
         "lon": [
          -3.434,
          3.156
         ],
         "mode": "lines",
         "name": "0 GW Pipeline",
         "showlegend": false,
         "text": "0.0",
         "type": "scattergeo"
        },
        {
         "lat": [
          40.601,
          40.262
         ],
         "line": {
          "color": "red",
          "width": 1.2055376706570887e-05
         },
         "locationmode": "geojson-id",
         "lon": [
          -3.434,
          -8.299
         ],
         "mode": "lines",
         "name": "0 GW Pipeline",
         "showlegend": false,
         "text": "4724.074953477519",
         "type": "scattergeo"
        },
        {
         "lat": [
          54.669,
          53.282
         ],
         "line": {
          "color": "red",
          "width": 1.6730082412858e-05
         },
         "locationmode": "geojson-id",
         "lon": [
          -6.098,
          -1.976
         ],
         "mode": "lines",
         "name": "0 GW Pipeline",
         "showlegend": false,
         "text": "0.0",
         "type": "scattergeo"
        },
        {
         "lat": [
          53.282,
          52.8
         ],
         "line": {
          "color": "red",
          "width": 1.7765385671700695e-05
         },
         "locationmode": "geojson-id",
         "lon": [
          -1.976,
          -7.631
         ],
         "mode": "lines",
         "name": "0 GW Pipeline",
         "showlegend": false,
         "text": "8393.944964334552",
         "type": "scattergeo"
        },
        {
         "lat": [
          53.282,
          52.374
         ],
         "line": {
          "color": "red",
          "width": 1.289468769423498e-05
         },
         "locationmode": "geojson-id",
         "lon": [
          -1.976,
          5.551
         ],
         "mode": "lines",
         "name": "0 GW Pipeline",
         "showlegend": false,
         "text": "0.0",
         "type": "scattergeo"
        },
        {
         "lat": [
          38.949,
          43.584
         ],
         "line": {
          "color": "red",
          "width": 5.941361113700087e-06
         },
         "locationmode": "geojson-id",
         "lon": [
          22.73,
          11.707
         ],
         "mode": "lines",
         "name": "0 GW Pipeline",
         "showlegend": false,
         "text": "19349.31506849315",
         "type": "scattergeo"
        },
        {
         "lat": [
          45.207,
          47.217
         ],
         "line": {
          "color": "red",
          "width": 1.2343837966315057e-05
         },
         "locationmode": "geojson-id",
         "lon": [
          16.158,
          18.879
         ],
         "mode": "lines",
         "name": "0 GW Pipeline",
         "showlegend": false,
         "text": "2380.5915982510815",
         "type": "scattergeo"
        },
        {
         "lat": [
          45.207,
          46.121
         ],
         "line": {
          "color": "red",
          "width": 1.2941222940755584e-05
         },
         "locationmode": "geojson-id",
         "lon": [
          16.158,
          14.805
         ],
         "mode": "lines",
         "name": "0 GW Pipeline",
         "showlegend": false,
         "text": "0.0",
         "type": "scattergeo"
        },
        {
         "lat": [
          47.217,
          45.56
         ],
         "line": {
          "color": "red",
          "width": 3.3598566323014735e-06
         },
         "locationmode": "geojson-id",
         "lon": [
          18.879,
          25.046
         ],
         "mode": "lines",
         "name": "0 GW Pipeline",
         "showlegend": false,
         "text": "2127.0833333333335",
         "type": "scattergeo"
        },
        {
         "lat": [
          47.217,
          44.073
         ],
         "line": {
          "color": "red",
          "width": 0.6690598958701297
         },
         "locationmode": "geojson-id",
         "lon": [
          18.879,
          20.687
         ],
         "mode": "lines",
         "name": "0 GW Pipeline",
         "showlegend": false,
         "text": "4424.034953069964",
         "type": "scattergeo"
        },
        {
         "lat": [
          47.217,
          48.653
         ],
         "line": {
          "color": "red",
          "width": 0.6603910842613723
         },
         "locationmode": "geojson-id",
         "lon": [
          18.879,
          19.028
         ],
         "mode": "lines",
         "name": "0 GW Pipeline",
         "showlegend": false,
         "text": "0.0",
         "type": "scattergeo"
        },
        {
         "lat": [
          43.584,
          46.121
         ],
         "line": {
          "color": "red",
          "width": 5.449337761864237e-06
         },
         "locationmode": "geojson-id",
         "lon": [
          11.707,
          14.805
         ],
         "mode": "lines",
         "name": "0 GW Pipeline",
         "showlegend": false,
         "text": "1166.6666666666667",
         "type": "scattergeo"
        },
        {
         "lat": [
          55.197,
          56.839
         ],
         "line": {
          "color": "red",
          "width": 0.029647402535054566
         },
         "locationmode": "geojson-id",
         "lon": [
          23.114,
          23.725
         ],
         "mode": "lines",
         "name": "0 GW Pipeline",
         "showlegend": false,
         "text": "0.0",
         "type": "scattergeo"
        },
        {
         "lat": [
          48.133,
          48.116
         ],
         "line": {
          "color": "red",
          "width": 0.5509465199295456
         },
         "locationmode": "geojson-id",
         "lon": [
          16.357,
          15.661
         ],
         "mode": "lines",
         "name": "0 GW Pipeline",
         "showlegend": false,
         "text": "14971.914404678459",
         "type": "scattergeo"
        },
        {
         "lat": [
          48.116,
          48.047
         ],
         "line": {
          "color": "red",
          "width": 0.8779381381805312
         },
         "locationmode": "geojson-id",
         "lon": [
          15.661,
          13.997
         ],
         "mode": "lines",
         "name": "0 GW Pipeline",
         "showlegend": false,
         "text": "16070.583333333334",
         "type": "scattergeo"
        },
        {
         "lat": [
          48.047,
          47.173
         ],
         "line": {
          "color": "red",
          "width": 0.38455017244408796
         },
         "locationmode": "geojson-id",
         "lon": [
          13.997,
          15.017
         ],
         "mode": "lines",
         "name": "0 GW Pipeline",
         "showlegend": false,
         "text": "11439.55566538564",
         "type": "scattergeo"
        },
        {
         "lat": [
          47.173,
          47.215
         ],
         "line": {
          "color": "red",
          "width": 2.3827334891468724e-05
         },
         "locationmode": "geojson-id",
         "lon": [
          15.017,
          10.935
         ],
         "mode": "lines",
         "name": "0 GW Pipeline",
         "showlegend": false,
         "text": "16070.583333333334",
         "type": "scattergeo"
        },
        {
         "lat": [
          47.215,
          46.615
         ],
         "line": {
          "color": "red",
          "width": 0.21775074217864793
         },
         "locationmode": "geojson-id",
         "lon": [
          10.935,
          14.142
         ],
         "mode": "lines",
         "name": "0 GW Pipeline",
         "showlegend": false,
         "text": "15569.637552478853",
         "type": "scattergeo"
        },
        {
         "lat": [
          46.615,
          47.562
         ],
         "line": {
          "color": "red",
          "width": 0.1761629588263752
         },
         "locationmode": "geojson-id",
         "lon": [
          14.142,
          12.77
         ],
         "mode": "lines",
         "name": "0 GW Pipeline",
         "showlegend": false,
         "text": "16070.583333333334",
         "type": "scattergeo"
        },
        {
         "lat": [
          47.562,
          47.32
         ],
         "line": {
          "color": "red",
          "width": 3.1631884832685253e-05
         },
         "locationmode": "geojson-id",
         "lon": [
          12.77,
          9.717
         ],
         "mode": "lines",
         "name": "0 GW Pipeline",
         "showlegend": false,
         "text": "16070.583333333334",
         "type": "scattergeo"
        },
        {
         "lat": [
          47.32,
          47.746
         ],
         "line": {
          "color": "red",
          "width": 0.12102483341727271
         },
         "locationmode": "geojson-id",
         "lon": [
          9.717,
          16.608
         ],
         "mode": "lines",
         "name": "0 GW Pipeline",
         "showlegend": false,
         "text": "16070.583333333334",
         "type": "scattergeo"
        },
        {
         "lat": [
          47.746,
          46.798
         ],
         "line": {
          "color": "red",
          "width": 0.018687978622073748
         },
         "locationmode": "geojson-id",
         "lon": [
          16.608,
          12.693
         ],
         "mode": "lines",
         "name": "0 GW Pipeline",
         "showlegend": false,
         "text": "16070.583333333334",
         "type": "scattergeo"
        },
        {
         "lat": [
          55.99,
          55.51
         ],
         "line": {
          "color": "red",
          "width": 1.1167387697371774e-05
         },
         "locationmode": "geojson-id",
         "lon": [
          9.732,
          12.284
         ],
         "mode": "lines",
         "name": "0 GW Pipeline",
         "showlegend": false,
         "text": "3095.8333333333335",
         "type": "scattergeo"
        },
        {
         "lat": [
          40.601,
          39.673
         ],
         "line": {
          "color": "red",
          "width": 1.078131410992479e-05
         },
         "locationmode": "geojson-id",
         "lon": [
          -3.434,
          2.739
         ],
         "mode": "lines",
         "name": "0 GW Pipeline",
         "showlegend": false,
         "text": "6541.666666666667",
         "type": "scattergeo"
        },
        {
         "lat": [
          43.584,
          39.968
         ],
         "line": {
          "color": "red",
          "width": 0.20282567608431815
         },
         "locationmode": "geojson-id",
         "lon": [
          11.707,
          8.746
         ],
         "mode": "lines",
         "name": "0 GW Pipeline",
         "showlegend": false,
         "text": "53702.34589041095",
         "type": "scattergeo"
        }
       ],
       "layout": {
        "autosize": false,
        "geo": {
         "center": {
          "lat": 76.97952860656319,
          "lon": -101.070168628271
         },
         "countrycolor": "Black",
         "projection": {
          "scale": 1.1486983549970358
         },
         "resolution": 50,
         "scope": "europe",
         "showcountries": true,
         "visible": false
        },
        "height": 1000,
        "template": {
         "data": {
          "bar": [
           {
            "error_x": {
             "color": "#2a3f5f"
            },
            "error_y": {
             "color": "#2a3f5f"
            },
            "marker": {
             "line": {
              "color": "#E5ECF6",
              "width": 0.5
             },
             "pattern": {
              "fillmode": "overlay",
              "size": 10,
              "solidity": 0.2
             }
            },
            "type": "bar"
           }
          ],
          "barpolar": [
           {
            "marker": {
             "line": {
              "color": "#E5ECF6",
              "width": 0.5
             },
             "pattern": {
              "fillmode": "overlay",
              "size": 10,
              "solidity": 0.2
             }
            },
            "type": "barpolar"
           }
          ],
          "carpet": [
           {
            "aaxis": {
             "endlinecolor": "#2a3f5f",
             "gridcolor": "white",
             "linecolor": "white",
             "minorgridcolor": "white",
             "startlinecolor": "#2a3f5f"
            },
            "baxis": {
             "endlinecolor": "#2a3f5f",
             "gridcolor": "white",
             "linecolor": "white",
             "minorgridcolor": "white",
             "startlinecolor": "#2a3f5f"
            },
            "type": "carpet"
           }
          ],
          "choropleth": [
           {
            "colorbar": {
             "outlinewidth": 0,
             "ticks": ""
            },
            "type": "choropleth"
           }
          ],
          "contour": [
           {
            "colorbar": {
             "outlinewidth": 0,
             "ticks": ""
            },
            "colorscale": [
             [
              0,
              "#0d0887"
             ],
             [
              0.1111111111111111,
              "#46039f"
             ],
             [
              0.2222222222222222,
              "#7201a8"
             ],
             [
              0.3333333333333333,
              "#9c179e"
             ],
             [
              0.4444444444444444,
              "#bd3786"
             ],
             [
              0.5555555555555556,
              "#d8576b"
             ],
             [
              0.6666666666666666,
              "#ed7953"
             ],
             [
              0.7777777777777778,
              "#fb9f3a"
             ],
             [
              0.8888888888888888,
              "#fdca26"
             ],
             [
              1,
              "#f0f921"
             ]
            ],
            "type": "contour"
           }
          ],
          "contourcarpet": [
           {
            "colorbar": {
             "outlinewidth": 0,
             "ticks": ""
            },
            "type": "contourcarpet"
           }
          ],
          "heatmap": [
           {
            "colorbar": {
             "outlinewidth": 0,
             "ticks": ""
            },
            "colorscale": [
             [
              0,
              "#0d0887"
             ],
             [
              0.1111111111111111,
              "#46039f"
             ],
             [
              0.2222222222222222,
              "#7201a8"
             ],
             [
              0.3333333333333333,
              "#9c179e"
             ],
             [
              0.4444444444444444,
              "#bd3786"
             ],
             [
              0.5555555555555556,
              "#d8576b"
             ],
             [
              0.6666666666666666,
              "#ed7953"
             ],
             [
              0.7777777777777778,
              "#fb9f3a"
             ],
             [
              0.8888888888888888,
              "#fdca26"
             ],
             [
              1,
              "#f0f921"
             ]
            ],
            "type": "heatmap"
           }
          ],
          "heatmapgl": [
           {
            "colorbar": {
             "outlinewidth": 0,
             "ticks": ""
            },
            "colorscale": [
             [
              0,
              "#0d0887"
             ],
             [
              0.1111111111111111,
              "#46039f"
             ],
             [
              0.2222222222222222,
              "#7201a8"
             ],
             [
              0.3333333333333333,
              "#9c179e"
             ],
             [
              0.4444444444444444,
              "#bd3786"
             ],
             [
              0.5555555555555556,
              "#d8576b"
             ],
             [
              0.6666666666666666,
              "#ed7953"
             ],
             [
              0.7777777777777778,
              "#fb9f3a"
             ],
             [
              0.8888888888888888,
              "#fdca26"
             ],
             [
              1,
              "#f0f921"
             ]
            ],
            "type": "heatmapgl"
           }
          ],
          "histogram": [
           {
            "marker": {
             "pattern": {
              "fillmode": "overlay",
              "size": 10,
              "solidity": 0.2
             }
            },
            "type": "histogram"
           }
          ],
          "histogram2d": [
           {
            "colorbar": {
             "outlinewidth": 0,
             "ticks": ""
            },
            "colorscale": [
             [
              0,
              "#0d0887"
             ],
             [
              0.1111111111111111,
              "#46039f"
             ],
             [
              0.2222222222222222,
              "#7201a8"
             ],
             [
              0.3333333333333333,
              "#9c179e"
             ],
             [
              0.4444444444444444,
              "#bd3786"
             ],
             [
              0.5555555555555556,
              "#d8576b"
             ],
             [
              0.6666666666666666,
              "#ed7953"
             ],
             [
              0.7777777777777778,
              "#fb9f3a"
             ],
             [
              0.8888888888888888,
              "#fdca26"
             ],
             [
              1,
              "#f0f921"
             ]
            ],
            "type": "histogram2d"
           }
          ],
          "histogram2dcontour": [
           {
            "colorbar": {
             "outlinewidth": 0,
             "ticks": ""
            },
            "colorscale": [
             [
              0,
              "#0d0887"
             ],
             [
              0.1111111111111111,
              "#46039f"
             ],
             [
              0.2222222222222222,
              "#7201a8"
             ],
             [
              0.3333333333333333,
              "#9c179e"
             ],
             [
              0.4444444444444444,
              "#bd3786"
             ],
             [
              0.5555555555555556,
              "#d8576b"
             ],
             [
              0.6666666666666666,
              "#ed7953"
             ],
             [
              0.7777777777777778,
              "#fb9f3a"
             ],
             [
              0.8888888888888888,
              "#fdca26"
             ],
             [
              1,
              "#f0f921"
             ]
            ],
            "type": "histogram2dcontour"
           }
          ],
          "mesh3d": [
           {
            "colorbar": {
             "outlinewidth": 0,
             "ticks": ""
            },
            "type": "mesh3d"
           }
          ],
          "parcoords": [
           {
            "line": {
             "colorbar": {
              "outlinewidth": 0,
              "ticks": ""
             }
            },
            "type": "parcoords"
           }
          ],
          "pie": [
           {
            "automargin": true,
            "type": "pie"
           }
          ],
          "scatter": [
           {
            "fillpattern": {
             "fillmode": "overlay",
             "size": 10,
             "solidity": 0.2
            },
            "type": "scatter"
           }
          ],
          "scatter3d": [
           {
            "line": {
             "colorbar": {
              "outlinewidth": 0,
              "ticks": ""
             }
            },
            "marker": {
             "colorbar": {
              "outlinewidth": 0,
              "ticks": ""
             }
            },
            "type": "scatter3d"
           }
          ],
          "scattercarpet": [
           {
            "marker": {
             "colorbar": {
              "outlinewidth": 0,
              "ticks": ""
             }
            },
            "type": "scattercarpet"
           }
          ],
          "scattergeo": [
           {
            "marker": {
             "colorbar": {
              "outlinewidth": 0,
              "ticks": ""
             }
            },
            "type": "scattergeo"
           }
          ],
          "scattergl": [
           {
            "marker": {
             "colorbar": {
              "outlinewidth": 0,
              "ticks": ""
             }
            },
            "type": "scattergl"
           }
          ],
          "scattermapbox": [
           {
            "marker": {
             "colorbar": {
              "outlinewidth": 0,
              "ticks": ""
             }
            },
            "type": "scattermapbox"
           }
          ],
          "scatterpolar": [
           {
            "marker": {
             "colorbar": {
              "outlinewidth": 0,
              "ticks": ""
             }
            },
            "type": "scatterpolar"
           }
          ],
          "scatterpolargl": [
           {
            "marker": {
             "colorbar": {
              "outlinewidth": 0,
              "ticks": ""
             }
            },
            "type": "scatterpolargl"
           }
          ],
          "scatterternary": [
           {
            "marker": {
             "colorbar": {
              "outlinewidth": 0,
              "ticks": ""
             }
            },
            "type": "scatterternary"
           }
          ],
          "surface": [
           {
            "colorbar": {
             "outlinewidth": 0,
             "ticks": ""
            },
            "colorscale": [
             [
              0,
              "#0d0887"
             ],
             [
              0.1111111111111111,
              "#46039f"
             ],
             [
              0.2222222222222222,
              "#7201a8"
             ],
             [
              0.3333333333333333,
              "#9c179e"
             ],
             [
              0.4444444444444444,
              "#bd3786"
             ],
             [
              0.5555555555555556,
              "#d8576b"
             ],
             [
              0.6666666666666666,
              "#ed7953"
             ],
             [
              0.7777777777777778,
              "#fb9f3a"
             ],
             [
              0.8888888888888888,
              "#fdca26"
             ],
             [
              1,
              "#f0f921"
             ]
            ],
            "type": "surface"
           }
          ],
          "table": [
           {
            "cells": {
             "fill": {
              "color": "#EBF0F8"
             },
             "line": {
              "color": "white"
             }
            },
            "header": {
             "fill": {
              "color": "#C8D4E3"
             },
             "line": {
              "color": "white"
             }
            },
            "type": "table"
           }
          ]
         },
         "layout": {
          "annotationdefaults": {
           "arrowcolor": "#2a3f5f",
           "arrowhead": 0,
           "arrowwidth": 1
          },
          "autotypenumbers": "strict",
          "coloraxis": {
           "colorbar": {
            "outlinewidth": 0,
            "ticks": ""
           }
          },
          "colorscale": {
           "diverging": [
            [
             0,
             "#8e0152"
            ],
            [
             0.1,
             "#c51b7d"
            ],
            [
             0.2,
             "#de77ae"
            ],
            [
             0.3,
             "#f1b6da"
            ],
            [
             0.4,
             "#fde0ef"
            ],
            [
             0.5,
             "#f7f7f7"
            ],
            [
             0.6,
             "#e6f5d0"
            ],
            [
             0.7,
             "#b8e186"
            ],
            [
             0.8,
             "#7fbc41"
            ],
            [
             0.9,
             "#4d9221"
            ],
            [
             1,
             "#276419"
            ]
           ],
           "sequential": [
            [
             0,
             "#0d0887"
            ],
            [
             0.1111111111111111,
             "#46039f"
            ],
            [
             0.2222222222222222,
             "#7201a8"
            ],
            [
             0.3333333333333333,
             "#9c179e"
            ],
            [
             0.4444444444444444,
             "#bd3786"
            ],
            [
             0.5555555555555556,
             "#d8576b"
            ],
            [
             0.6666666666666666,
             "#ed7953"
            ],
            [
             0.7777777777777778,
             "#fb9f3a"
            ],
            [
             0.8888888888888888,
             "#fdca26"
            ],
            [
             1,
             "#f0f921"
            ]
           ],
           "sequentialminus": [
            [
             0,
             "#0d0887"
            ],
            [
             0.1111111111111111,
             "#46039f"
            ],
            [
             0.2222222222222222,
             "#7201a8"
            ],
            [
             0.3333333333333333,
             "#9c179e"
            ],
            [
             0.4444444444444444,
             "#bd3786"
            ],
            [
             0.5555555555555556,
             "#d8576b"
            ],
            [
             0.6666666666666666,
             "#ed7953"
            ],
            [
             0.7777777777777778,
             "#fb9f3a"
            ],
            [
             0.8888888888888888,
             "#fdca26"
            ],
            [
             1,
             "#f0f921"
            ]
           ]
          },
          "colorway": [
           "#636efa",
           "#EF553B",
           "#00cc96",
           "#ab63fa",
           "#FFA15A",
           "#19d3f3",
           "#FF6692",
           "#B6E880",
           "#FF97FF",
           "#FECB52"
          ],
          "font": {
           "color": "#2a3f5f"
          },
          "geo": {
           "bgcolor": "white",
           "lakecolor": "white",
           "landcolor": "#E5ECF6",
           "showlakes": true,
           "showland": true,
           "subunitcolor": "white"
          },
          "hoverlabel": {
           "align": "left"
          },
          "hovermode": "closest",
          "mapbox": {
           "style": "light"
          },
          "paper_bgcolor": "white",
          "plot_bgcolor": "#E5ECF6",
          "polar": {
           "angularaxis": {
            "gridcolor": "white",
            "linecolor": "white",
            "ticks": ""
           },
           "bgcolor": "#E5ECF6",
           "radialaxis": {
            "gridcolor": "white",
            "linecolor": "white",
            "ticks": ""
           }
          },
          "scene": {
           "xaxis": {
            "backgroundcolor": "#E5ECF6",
            "gridcolor": "white",
            "gridwidth": 2,
            "linecolor": "white",
            "showbackground": true,
            "ticks": "",
            "zerolinecolor": "white"
           },
           "yaxis": {
            "backgroundcolor": "#E5ECF6",
            "gridcolor": "white",
            "gridwidth": 2,
            "linecolor": "white",
            "showbackground": true,
            "ticks": "",
            "zerolinecolor": "white"
           },
           "zaxis": {
            "backgroundcolor": "#E5ECF6",
            "gridcolor": "white",
            "gridwidth": 2,
            "linecolor": "white",
            "showbackground": true,
            "ticks": "",
            "zerolinecolor": "white"
           }
          },
          "shapedefaults": {
           "line": {
            "color": "#2a3f5f"
           }
          },
          "ternary": {
           "aaxis": {
            "gridcolor": "white",
            "linecolor": "white",
            "ticks": ""
           },
           "baxis": {
            "gridcolor": "white",
            "linecolor": "white",
            "ticks": ""
           },
           "bgcolor": "#E5ECF6",
           "caxis": {
            "gridcolor": "white",
            "linecolor": "white",
            "ticks": ""
           }
          },
          "title": {
           "x": 0.05
          },
          "xaxis": {
           "automargin": true,
           "gridcolor": "white",
           "linecolor": "white",
           "ticks": "",
           "title": {
            "standoff": 15
           },
           "zerolinecolor": "white",
           "zerolinewidth": 2
          },
          "yaxis": {
           "automargin": true,
           "gridcolor": "white",
           "linecolor": "white",
           "ticks": "",
           "title": {
            "standoff": 15
           },
           "zerolinecolor": "white",
           "zerolinewidth": 2
          }
         }
        },
        "title": {
         "text": " Grid Capacity in 2050"
        },
        "width": 1000
       }
      },
      "image/png": "[encoded data removed]",
      "text/html": [
       "<div>                            <div id=\"6af41a82-dc47-4723-89ca-9b8e9b2a48b0\" class=\"plotly-graph-div\" style=\"height:1000px; width:1000px;\"></div>            <script type=\"text/javascript\">                require([\"plotly\"], function(Plotly) {                    window.PLOTLYENV=window.PLOTLYENV || {};                                    if (document.getElementById(\"6af41a82-dc47-4723-89ca-9b8e9b2a48b0\")) {                    Plotly.newPlot(                        \"6af41a82-dc47-4723-89ca-9b8e9b2a48b0\",                        [{\"autocolorscale\":false,\"featureidkey\":\"properties.COUNTRY_ID\",\"hoverinfo\":\"text\",\"locationmode\":\"geojson-id\",\"locations\":[\"AL0 0\",\"AT0 0\",\"AT0 1\",\"AT0 2\",\"AT0 3\",\"AT0 4\",\"AT0 5\",\"AT0 6\",\"AT0 7\",\"AT0 8\",\"AT0 9\",\"BA0 0\",\"BE0 0\",\"BG0 0\",\"CH0 0\",\"CZ0 0\",\"DE0 0\",\"DE0 1\",\"DE0 2\",\"DE0 3\",\"DE0 4\",\"DK0 0\",\"DK3 0\",\"EE6 0\",\"ES0 0\",\"ES2 0\",\"FI3 0\",\"FR0 0\",\"GB4 0\",\"GB5 0\",\"GR0 0\",\"HR0 0\",\"HU0 0\",\"IE4 0\",\"IT0 0\",\"IT1 0\",\"LT6 0\",\"LU0 0\",\"LV6 0\",\"ME0 0\",\"MK0 0\",\"NL0 0\",\"NO3 0\",\"PL0 0\",\"PT0 0\",\"RO0 0\",\"RS0 0\",\"SE3 0\",\"SI0 0\",\"SK0 0\"],\"showscale\":false,\"text\":[\"AL0 0\",\"AT0 0\",\"AT0 1\",\"AT0 2\",\"AT0 3\",\"AT0 4\",\"AT0 5\",\"AT0 6\",\"AT0 7\",\"AT0 8\",\"AT0 9\",\"BA0 0\",\"BE0 0\",\"BG0 0\",\"CH0 0\",\"CZ0 0\",\"DE0 0\",\"DE0 1\",\"DE0 2\",\"DE0 3\",\"DE0 4\",\"DK0 0\",\"DK3 0\",\"EE6 0\",\"ES0 0\",\"ES2 0\",\"FI3 0\",\"FR0 0\",\"GB4 0\",\"GB5 0\",\"GR0 0\",\"HR0 0\",\"HU0 0\",\"IE4 0\",\"IT0 0\",\"IT1 0\",\"LT6 0\",\"LU0 0\",\"LV6 0\",\"ME0 0\",\"MK0 0\",\"NL0 0\",\"NO3 0\",\"PL0 0\",\"PT0 0\",\"RO0 0\",\"RS0 0\",\"SE3 0\",\"SI0 0\",\"SK0 0\"],\"z\":[1.0,1.0,1.0,1.0,1.0,1.0,1.0,1.0,1.0,1.0,1.0,1.0,1.0,1.0,1.0,1.0,1.0,1.0,1.0,1.0,1.0,1.0,1.0,1.0,1.0,1.0,1.0,1.0,1.0,1.0,1.0,1.0,1.0,1.0,1.0,1.0,1.0,1.0,1.0,1.0,1.0,1.0,1.0,1.0,1.0,1.0,1.0,1.0,1.0,1.0],\"type\":\"choropleth\",\"showlegend\":false},{\"lat\":[41.562,38.949],\"line\":{\"color\":\"red\",\"width\":0.12691702956839856},\"locationmode\":\"geojson-id\",\"lon\":[19.895,22.73],\"mode\":\"lines\",\"name\":\"0 GW Pipeline\",\"text\":\"12428.561983040805\",\"type\":\"scattergeo\",\"showlegend\":false},{\"lat\":[41.562,43.584],\"line\":{\"color\":\"red\",\"width\":1.2423535058230547e-05},\"locationmode\":\"geojson-id\",\"lon\":[19.895,11.707],\"mode\":\"lines\",\"name\":\"0 GW Pipeline\",\"text\":\"12899.543378995431\",\"type\":\"scattergeo\",\"showlegend\":false},{\"lat\":[47.746,47.217],\"line\":{\"color\":\"red\",\"width\":0.2500703955327931},\"locationmode\":\"geojson-id\",\"lon\":[16.608,18.879],\"mode\":\"lines\",\"name\":\"0 GW Pipeline\",\"text\":\"5247.280585768429\",\"type\":\"scattergeo\",\"showlegend\":false},{\"lat\":[48.116,48.653],\"line\":{\"color\":\"red\",\"width\":2.0282192571338515},\"locationmode\":\"geojson-id\",\"lon\":[15.661,19.028],\"mode\":\"lines\",\"name\":\"2 GW Pipeline\",\"text\":\"69145.09307556092\",\"type\":\"scattergeo\",\"showlegend\":false},{\"lat\":[46.615,43.584],\"line\":{\"color\":\"red\",\"width\":0.5734050687166771},\"locationmode\":\"geojson-id\",\"lon\":[14.142,11.707],\"mode\":\"lines\",\"name\":\"0 GW Pipeline\",\"text\":\"46299.90833052606\",\"type\":\"scattergeo\",\"showlegend\":false},{\"lat\":[47.173,46.121],\"line\":{\"color\":\"red\",\"width\":4.7259954252744846e-05},\"locationmode\":\"geojson-id\",\"lon\":[15.017,14.805],\"mode\":\"lines\",\"name\":\"0 GW Pipeline\",\"text\":\"0.0\",\"type\":\"scattergeo\",\"showlegend\":false},{\"lat\":[48.047,48.952],\"line\":{\"color\":\"red\",\"width\":4.650282662223142e-05},\"locationmode\":\"geojson-id\",\"lon\":[13.997,11.262],\"mode\":\"lines\",\"name\":\"0 GW Pipeline\",\"text\":\"24838.282943517872\",\"type\":\"scattergeo\",\"showlegend\":false},{\"lat\":[47.215,48.952],\"line\":{\"color\":\"red\",\"width\":9.43498917672883e-06},\"locationmode\":\"geojson-id\",\"lon\":[10.935,11.262],\"mode\":\"lines\",\"name\":\"0 GW Pipeline\",\"text\":\"0.0\",\"type\":\"scattergeo\",\"showlegend\":false},{\"lat\":[43.811,44.073],\"line\":{\"color\":\"red\",\"width\":8.815813840627442e-06},\"locationmode\":\"geojson-id\",\"lon\":[18.123,20.687],\"mode\":\"lines\",\"name\":\"0 GW Pipeline\",\"text\":\"0.0\",\"type\":\"scattergeo\",\"showlegend\":false},{\"lat\":[50.743,50.837],\"line\":{\"color\":\"red\",\"width\":9.424672615347228},\"locationmode\":\"geojson-id\",\"lon\":[4.799,7.683],\"mode\":\"lines\",\"name\":\"9 GW Pipeline\",\"text\":\"8982.754822287505\",\"type\":\"scattergeo\",\"showlegend\":false},{\"lat\":[50.743,46.809],\"line\":{\"color\":\"red\",\"width\":1.4940646505441912e-05},\"locationmode\":\"geojson-id\",\"lon\":[4.799,3.156],\"mode\":\"lines\",\"name\":\"0 GW Pipeline\",\"text\":\"25051.083810698063\",\"type\":\"scattergeo\",\"showlegend\":false},{\"lat\":[50.743,53.282],\"line\":{\"color\":\"red\",\"width\":1.2256392252182616e-05},\"locationmode\":\"geojson-id\",\"lon\":[4.799,-1.976],\"mode\":\"lines\",\"name\":\"0 GW Pipeline\",\"text\":\"0.0\",\"type\":\"scattergeo\",\"showlegend\":false},{\"lat\":[50.743,49.677],\"line\":{\"color\":\"red\",\"width\":4.362923492159433e-05},\"locationmode\":\"geojson-id\",\"lon\":[4.799,6.131],\"mode\":\"lines\",\"name\":\"0 GW Pipeline\",\"text\":\"1320.3012390180006\",\"type\":\"scattergeo\",\"showlegend\":false},{\"lat\":[50.743,52.374],\"line\":{\"color\":\"red\",\"width\":3.789345757157045e-05},\"locationmode\":\"geojson-id\",\"lon\":[4.799,5.551],\"mode\":\"lines\",\"name\":\"0 GW Pipeline\",\"text\":\"50749.54811802288\",\"type\":\"scattergeo\",\"showlegend\":false},{\"lat\":[42.765,38.949],\"line\":{\"color\":\"red\",\"width\":1.4795912998794415e-05},\"locationmode\":\"geojson-id\",\"lon\":[24.674,22.73],\"mode\":\"lines\",\"name\":\"0 GW Pipeline\",\"text\":\"0.0\",\"type\":\"scattergeo\",\"showlegend\":false},{\"lat\":[42.765,41.581],\"line\":{\"color\":\"red\",\"width\":6.297232172196099e-06},\"locationmode\":\"geojson-id\",\"lon\":[24.674,21.587],\"mode\":\"lines\",\"name\":\"0 GW Pipeline\",\"text\":\"984.8466454560166\",\"type\":\"scattergeo\",\"showlegend\":false},{\"lat\":[42.765,45.56],\"line\":{\"color\":\"red\",\"width\":0.3972726733283736},\"locationmode\":\"geojson-id\",\"lon\":[24.674,25.046],\"mode\":\"lines\",\"name\":\"0 GW Pipeline\",\"text\":\"28486.03475446447\",\"type\":\"scattergeo\",\"showlegend\":false},{\"lat\":[46.823,48.652],\"line\":{\"color\":\"red\",\"width\":3.85920529636946e-05},\"locationmode\":\"geojson-id\",\"lon\":[8.208,9.005],\"mode\":\"lines\",\"name\":\"0 GW Pipeline\",\"text\":\"0.0\",\"type\":\"scattergeo\",\"showlegend\":false},{\"lat\":[46.823,46.809],\"line\":{\"color\":\"red\",\"width\":5.898405960004526e-05},\"locationmode\":\"geojson-id\",\"lon\":[8.208,3.156],\"mode\":\"lines\",\"name\":\"0 GW Pipeline\",\"text\":\"0.0\",\"type\":\"scattergeo\",\"showlegend\":false},{\"lat\":[46.823,43.584],\"line\":{\"color\":\"red\",\"width\":1.6653382123253715},\"locationmode\":\"geojson-id\",\"lon\":[8.208,11.707],\"mode\":\"lines\",\"name\":\"1 GW Pipeline\",\"text\":\"13567.7354302207\",\"type\":\"scattergeo\",\"showlegend\":false},{\"lat\":[49.843,48.952],\"line\":{\"color\":\"red\",\"width\":0.0003495389896829573},\"locationmode\":\"geojson-id\",\"lon\":[15.238,11.262],\"mode\":\"lines\",\"name\":\"0 GW Pipeline\",\"text\":\"35198.853329640544\",\"type\":\"scattergeo\",\"showlegend\":false},{\"lat\":[49.843,51.879],\"line\":{\"color\":\"red\",\"width\":2.646045770842555e-05},\"locationmode\":\"geojson-id\",\"lon\":[15.238,12.917],\"mode\":\"lines\",\"name\":\"0 GW Pipeline\",\"text\":\"46668.11722889118\",\"type\":\"scattergeo\",\"showlegend\":false},{\"lat\":[49.843,51.572],\"line\":{\"color\":\"red\",\"width\":5.972372696975297e-06},\"locationmode\":\"geojson-id\",\"lon\":[15.238,18.902],\"mode\":\"lines\",\"name\":\"0 GW Pipeline\",\"text\":\"1168.75\",\"type\":\"scattergeo\",\"showlegend\":false},{\"lat\":[49.843,48.653],\"line\":{\"color\":\"red\",\"width\":0.8367131058372507},\"locationmode\":\"geojson-id\",\"lon\":[15.238,19.028],\"mode\":\"lines\",\"name\":\"0 GW Pipeline\",\"text\":\"22423.68017472073\",\"type\":\"scattergeo\",\"showlegend\":false},{\"lat\":[48.952,48.652],\"line\":{\"color\":\"red\",\"width\":1.1355810460302084e-05},\"locationmode\":\"geojson-id\",\"lon\":[11.262,9.005],\"mode\":\"lines\",\"name\":\"0 GW Pipeline\",\"text\":\"8903.661333333333\",\"type\":\"scattergeo\",\"showlegend\":false},{\"lat\":[48.952,50.837],\"line\":{\"color\":\"red\",\"width\":0.10789290631643554},\"locationmode\":\"geojson-id\",\"lon\":[11.262,7.683],\"mode\":\"lines\",\"name\":\"0 GW Pipeline\",\"text\":\"195654.07660694295\",\"type\":\"scattergeo\",\"showlegend\":false},{\"lat\":[48.652,50.837],\"line\":{\"color\":\"red\",\"width\":0.9509252226541196},\"locationmode\":\"geojson-id\",\"lon\":[9.005,7.683],\"mode\":\"lines\",\"name\":\"0 GW Pipeline\",\"text\":\"59784.16017707302\",\"type\":\"scattergeo\",\"showlegend\":false},{\"lat\":[50.837,51.879],\"line\":{\"color\":\"red\",\"width\":1.825728530722975e-05},\"locationmode\":\"geojson-id\",\"lon\":[7.683,12.917],\"mode\":\"lines\",\"name\":\"0 GW Pipeline\",\"text\":\"15229.166666666666\",\"type\":\"scattergeo\",\"showlegend\":false},{\"lat\":[50.837,53.273],\"line\":{\"color\":\"red\",\"width\":0.00019426385152526558},\"locationmode\":\"geojson-id\",\"lon\":[7.683,9.879],\"mode\":\"lines\",\"name\":\"0 GW Pipeline\",\"text\":\"248566.75517847223\",\"type\":\"scattergeo\",\"showlegend\":false},{\"lat\":[50.837,46.809],\"line\":{\"color\":\"red\",\"width\":1.6745237075839107e-05},\"locationmode\":\"geojson-id\",\"lon\":[7.683,3.156],\"mode\":\"lines\",\"name\":\"0 GW Pipeline\",\"text\":\"11522.016305106898\",\"type\":\"scattergeo\",\"showlegend\":false},{\"lat\":[50.837,49.677],\"line\":{\"color\":\"red\",\"width\":1.187145917540181e-05},\"locationmode\":\"geojson-id\",\"lon\":[7.683,6.131],\"mode\":\"lines\",\"name\":\"0 GW Pipeline\",\"text\":\"1612.9166666666667\",\"type\":\"scattergeo\",\"showlegend\":false},{\"lat\":[50.837,52.374],\"line\":{\"color\":\"red\",\"width\":0.0004832553348302463},\"locationmode\":\"geojson-id\",\"lon\":[7.683,5.551],\"mode\":\"lines\",\"name\":\"0 GW Pipeline\",\"text\":\"42391.818567411276\",\"type\":\"scattergeo\",\"showlegend\":false},{\"lat\":[51.879,53.273],\"line\":{\"color\":\"red\",\"width\":9.518459881333307},\"locationmode\":\"geojson-id\",\"lon\":[12.917,9.879],\"mode\":\"lines\",\"name\":\"9 GW Pipeline\",\"text\":\"146670.25327919787\",\"type\":\"scattergeo\",\"showlegend\":false},{\"lat\":[51.879,51.572],\"line\":{\"color\":\"red\",\"width\":2.7038059314395153e-05},\"locationmode\":\"geojson-id\",\"lon\":[12.917,18.902],\"mode\":\"lines\",\"name\":\"0 GW Pipeline\",\"text\":\"18496.806619593226\",\"type\":\"scattergeo\",\"showlegend\":false},{\"lat\":[53.273,55.99],\"line\":{\"color\":\"red\",\"width\":0.43752303919873575},\"locationmode\":\"geojson-id\",\"lon\":[9.879,9.732],\"mode\":\"lines\",\"name\":\"0 GW Pipeline\",\"text\":\"0.0\",\"type\":\"scattergeo\",\"showlegend\":false},{\"lat\":[53.273,52.374],\"line\":{\"color\":\"red\",\"width\":1.6490360974592116e-05},\"locationmode\":\"geojson-id\",\"lon\":[9.879,5.551],\"mode\":\"lines\",\"name\":\"0 GW Pipeline\",\"text\":\"41397.65875583334\",\"type\":\"scattergeo\",\"showlegend\":false},{\"lat\":[53.273,60.979],\"line\":{\"color\":\"red\",\"width\":7.406637974271712e-06},\"locationmode\":\"geojson-id\",\"lon\":[9.879,8.605],\"mode\":\"lines\",\"name\":\"0 GW Pipeline\",\"text\":\"29246.136159581434\",\"type\":\"scattergeo\",\"showlegend\":false},{\"lat\":[55.51,61.358],\"line\":{\"color\":\"red\",\"width\":0.23743798275260777},\"locationmode\":\"geojson-id\",\"lon\":[12.284,16.278],\"mode\":\"lines\",\"name\":\"0 GW Pipeline\",\"text\":\"0.0\",\"type\":\"scattergeo\",\"showlegend\":false},{\"lat\":[58.98,56.839],\"line\":{\"color\":\"red\",\"width\":0.12134521190093002},\"locationmode\":\"geojson-id\",\"lon\":[25.879,23.725],\"mode\":\"lines\",\"name\":\"0 GW Pipeline\",\"text\":\"0.0\",\"type\":\"scattergeo\",\"showlegend\":false},{\"lat\":[40.601,46.809],\"line\":{\"color\":\"red\",\"width\":5.417172368291838e-06},\"locationmode\":\"geojson-id\",\"lon\":[-3.434,3.156],\"mode\":\"lines\",\"name\":\"0 GW Pipeline\",\"text\":\"0.0\",\"type\":\"scattergeo\",\"showlegend\":false},{\"lat\":[40.601,40.262],\"line\":{\"color\":\"red\",\"width\":1.2055376706570887e-05},\"locationmode\":\"geojson-id\",\"lon\":[-3.434,-8.299],\"mode\":\"lines\",\"name\":\"0 GW Pipeline\",\"text\":\"4724.074953477519\",\"type\":\"scattergeo\",\"showlegend\":false},{\"lat\":[54.669,53.282],\"line\":{\"color\":\"red\",\"width\":1.6730082412858e-05},\"locationmode\":\"geojson-id\",\"lon\":[-6.098,-1.976],\"mode\":\"lines\",\"name\":\"0 GW Pipeline\",\"text\":\"0.0\",\"type\":\"scattergeo\",\"showlegend\":false},{\"lat\":[53.282,52.8],\"line\":{\"color\":\"red\",\"width\":1.7765385671700695e-05},\"locationmode\":\"geojson-id\",\"lon\":[-1.976,-7.631],\"mode\":\"lines\",\"name\":\"0 GW Pipeline\",\"text\":\"8393.944964334552\",\"type\":\"scattergeo\",\"showlegend\":false},{\"lat\":[53.282,52.374],\"line\":{\"color\":\"red\",\"width\":1.289468769423498e-05},\"locationmode\":\"geojson-id\",\"lon\":[-1.976,5.551],\"mode\":\"lines\",\"name\":\"0 GW Pipeline\",\"text\":\"0.0\",\"type\":\"scattergeo\",\"showlegend\":false},{\"lat\":[38.949,43.584],\"line\":{\"color\":\"red\",\"width\":5.941361113700087e-06},\"locationmode\":\"geojson-id\",\"lon\":[22.73,11.707],\"mode\":\"lines\",\"name\":\"0 GW Pipeline\",\"text\":\"19349.31506849315\",\"type\":\"scattergeo\",\"showlegend\":false},{\"lat\":[45.207,47.217],\"line\":{\"color\":\"red\",\"width\":1.2343837966315057e-05},\"locationmode\":\"geojson-id\",\"lon\":[16.158,18.879],\"mode\":\"lines\",\"name\":\"0 GW Pipeline\",\"text\":\"2380.5915982510815\",\"type\":\"scattergeo\",\"showlegend\":false},{\"lat\":[45.207,46.121],\"line\":{\"color\":\"red\",\"width\":1.2941222940755584e-05},\"locationmode\":\"geojson-id\",\"lon\":[16.158,14.805],\"mode\":\"lines\",\"name\":\"0 GW Pipeline\",\"text\":\"0.0\",\"type\":\"scattergeo\",\"showlegend\":false},{\"lat\":[47.217,45.56],\"line\":{\"color\":\"red\",\"width\":3.3598566323014735e-06},\"locationmode\":\"geojson-id\",\"lon\":[18.879,25.046],\"mode\":\"lines\",\"name\":\"0 GW Pipeline\",\"text\":\"2127.0833333333335\",\"type\":\"scattergeo\",\"showlegend\":false},{\"lat\":[47.217,44.073],\"line\":{\"color\":\"red\",\"width\":0.6690598958701297},\"locationmode\":\"geojson-id\",\"lon\":[18.879,20.687],\"mode\":\"lines\",\"name\":\"0 GW Pipeline\",\"text\":\"4424.034953069964\",\"type\":\"scattergeo\",\"showlegend\":false},{\"lat\":[47.217,48.653],\"line\":{\"color\":\"red\",\"width\":0.6603910842613723},\"locationmode\":\"geojson-id\",\"lon\":[18.879,19.028],\"mode\":\"lines\",\"name\":\"0 GW Pipeline\",\"text\":\"0.0\",\"type\":\"scattergeo\",\"showlegend\":false},{\"lat\":[43.584,46.121],\"line\":{\"color\":\"red\",\"width\":5.449337761864237e-06},\"locationmode\":\"geojson-id\",\"lon\":[11.707,14.805],\"mode\":\"lines\",\"name\":\"0 GW Pipeline\",\"text\":\"1166.6666666666667\",\"type\":\"scattergeo\",\"showlegend\":false},{\"lat\":[55.197,56.839],\"line\":{\"color\":\"red\",\"width\":0.029647402535054566},\"locationmode\":\"geojson-id\",\"lon\":[23.114,23.725],\"mode\":\"lines\",\"name\":\"0 GW Pipeline\",\"text\":\"0.0\",\"type\":\"scattergeo\",\"showlegend\":false},{\"lat\":[48.133,48.116],\"line\":{\"color\":\"red\",\"width\":0.5509465199295456},\"locationmode\":\"geojson-id\",\"lon\":[16.357,15.661],\"mode\":\"lines\",\"name\":\"0 GW Pipeline\",\"text\":\"14971.914404678459\",\"type\":\"scattergeo\",\"showlegend\":false},{\"lat\":[48.116,48.047],\"line\":{\"color\":\"red\",\"width\":0.8779381381805312},\"locationmode\":\"geojson-id\",\"lon\":[15.661,13.997],\"mode\":\"lines\",\"name\":\"0 GW Pipeline\",\"text\":\"16070.583333333334\",\"type\":\"scattergeo\",\"showlegend\":false},{\"lat\":[48.047,47.173],\"line\":{\"color\":\"red\",\"width\":0.38455017244408796},\"locationmode\":\"geojson-id\",\"lon\":[13.997,15.017],\"mode\":\"lines\",\"name\":\"0 GW Pipeline\",\"text\":\"11439.55566538564\",\"type\":\"scattergeo\",\"showlegend\":false},{\"lat\":[47.173,47.215],\"line\":{\"color\":\"red\",\"width\":2.3827334891468724e-05},\"locationmode\":\"geojson-id\",\"lon\":[15.017,10.935],\"mode\":\"lines\",\"name\":\"0 GW Pipeline\",\"text\":\"16070.583333333334\",\"type\":\"scattergeo\",\"showlegend\":false},{\"lat\":[47.215,46.615],\"line\":{\"color\":\"red\",\"width\":0.21775074217864793},\"locationmode\":\"geojson-id\",\"lon\":[10.935,14.142],\"mode\":\"lines\",\"name\":\"0 GW Pipeline\",\"text\":\"15569.637552478853\",\"type\":\"scattergeo\",\"showlegend\":false},{\"lat\":[46.615,47.562],\"line\":{\"color\":\"red\",\"width\":0.1761629588263752},\"locationmode\":\"geojson-id\",\"lon\":[14.142,12.77],\"mode\":\"lines\",\"name\":\"0 GW Pipeline\",\"text\":\"16070.583333333334\",\"type\":\"scattergeo\",\"showlegend\":false},{\"lat\":[47.562,47.32],\"line\":{\"color\":\"red\",\"width\":3.1631884832685253e-05},\"locationmode\":\"geojson-id\",\"lon\":[12.77,9.717],\"mode\":\"lines\",\"name\":\"0 GW Pipeline\",\"text\":\"16070.583333333334\",\"type\":\"scattergeo\",\"showlegend\":false},{\"lat\":[47.32,47.746],\"line\":{\"color\":\"red\",\"width\":0.12102483341727271},\"locationmode\":\"geojson-id\",\"lon\":[9.717,16.608],\"mode\":\"lines\",\"name\":\"0 GW Pipeline\",\"text\":\"16070.583333333334\",\"type\":\"scattergeo\",\"showlegend\":false},{\"lat\":[47.746,46.798],\"line\":{\"color\":\"red\",\"width\":0.018687978622073748},\"locationmode\":\"geojson-id\",\"lon\":[16.608,12.693],\"mode\":\"lines\",\"name\":\"0 GW Pipeline\",\"text\":\"16070.583333333334\",\"type\":\"scattergeo\",\"showlegend\":false},{\"lat\":[55.99,55.51],\"line\":{\"color\":\"red\",\"width\":1.1167387697371774e-05},\"locationmode\":\"geojson-id\",\"lon\":[9.732,12.284],\"mode\":\"lines\",\"name\":\"0 GW Pipeline\",\"text\":\"3095.8333333333335\",\"type\":\"scattergeo\",\"showlegend\":false},{\"lat\":[40.601,39.673],\"line\":{\"color\":\"red\",\"width\":1.078131410992479e-05},\"locationmode\":\"geojson-id\",\"lon\":[-3.434,2.739],\"mode\":\"lines\",\"name\":\"0 GW Pipeline\",\"text\":\"6541.666666666667\",\"type\":\"scattergeo\",\"showlegend\":false},{\"lat\":[43.584,39.968],\"line\":{\"color\":\"red\",\"width\":0.20282567608431815},\"locationmode\":\"geojson-id\",\"lon\":[11.707,8.746],\"mode\":\"lines\",\"name\":\"0 GW Pipeline\",\"text\":\"53702.34589041095\",\"type\":\"scattergeo\",\"showlegend\":false}],                        {\"template\":{\"data\":{\"histogram2dcontour\":[{\"type\":\"histogram2dcontour\",\"colorbar\":{\"outlinewidth\":0,\"ticks\":\"\"},\"colorscale\":[[0.0,\"#0d0887\"],[0.1111111111111111,\"#46039f\"],[0.2222222222222222,\"#7201a8\"],[0.3333333333333333,\"#9c179e\"],[0.4444444444444444,\"#bd3786\"],[0.5555555555555556,\"#d8576b\"],[0.6666666666666666,\"#ed7953\"],[0.7777777777777778,\"#fb9f3a\"],[0.8888888888888888,\"#fdca26\"],[1.0,\"#f0f921\"]]}],\"choropleth\":[{\"type\":\"choropleth\",\"colorbar\":{\"outlinewidth\":0,\"ticks\":\"\"}}],\"histogram2d\":[{\"type\":\"histogram2d\",\"colorbar\":{\"outlinewidth\":0,\"ticks\":\"\"},\"colorscale\":[[0.0,\"#0d0887\"],[0.1111111111111111,\"#46039f\"],[0.2222222222222222,\"#7201a8\"],[0.3333333333333333,\"#9c179e\"],[0.4444444444444444,\"#bd3786\"],[0.5555555555555556,\"#d8576b\"],[0.6666666666666666,\"#ed7953\"],[0.7777777777777778,\"#fb9f3a\"],[0.8888888888888888,\"#fdca26\"],[1.0,\"#f0f921\"]]}],\"heatmap\":[{\"type\":\"heatmap\",\"colorbar\":{\"outlinewidth\":0,\"ticks\":\"\"},\"colorscale\":[[0.0,\"#0d0887\"],[0.1111111111111111,\"#46039f\"],[0.2222222222222222,\"#7201a8\"],[0.3333333333333333,\"#9c179e\"],[0.4444444444444444,\"#bd3786\"],[0.5555555555555556,\"#d8576b\"],[0.6666666666666666,\"#ed7953\"],[0.7777777777777778,\"#fb9f3a\"],[0.8888888888888888,\"#fdca26\"],[1.0,\"#f0f921\"]]}],\"heatmapgl\":[{\"type\":\"heatmapgl\",\"colorbar\":{\"outlinewidth\":0,\"ticks\":\"\"},\"colorscale\":[[0.0,\"#0d0887\"],[0.1111111111111111,\"#46039f\"],[0.2222222222222222,\"#7201a8\"],[0.3333333333333333,\"#9c179e\"],[0.4444444444444444,\"#bd3786\"],[0.5555555555555556,\"#d8576b\"],[0.6666666666666666,\"#ed7953\"],[0.7777777777777778,\"#fb9f3a\"],[0.8888888888888888,\"#fdca26\"],[1.0,\"#f0f921\"]]}],\"contourcarpet\":[{\"type\":\"contourcarpet\",\"colorbar\":{\"outlinewidth\":0,\"ticks\":\"\"}}],\"contour\":[{\"type\":\"contour\",\"colorbar\":{\"outlinewidth\":0,\"ticks\":\"\"},\"colorscale\":[[0.0,\"#0d0887\"],[0.1111111111111111,\"#46039f\"],[0.2222222222222222,\"#7201a8\"],[0.3333333333333333,\"#9c179e\"],[0.4444444444444444,\"#bd3786\"],[0.5555555555555556,\"#d8576b\"],[0.6666666666666666,\"#ed7953\"],[0.7777777777777778,\"#fb9f3a\"],[0.8888888888888888,\"#fdca26\"],[1.0,\"#f0f921\"]]}],\"surface\":[{\"type\":\"surface\",\"colorbar\":{\"outlinewidth\":0,\"ticks\":\"\"},\"colorscale\":[[0.0,\"#0d0887\"],[0.1111111111111111,\"#46039f\"],[0.2222222222222222,\"#7201a8\"],[0.3333333333333333,\"#9c179e\"],[0.4444444444444444,\"#bd3786\"],[0.5555555555555556,\"#d8576b\"],[0.6666666666666666,\"#ed7953\"],[0.7777777777777778,\"#fb9f3a\"],[0.8888888888888888,\"#fdca26\"],[1.0,\"#f0f921\"]]}],\"mesh3d\":[{\"type\":\"mesh3d\",\"colorbar\":{\"outlinewidth\":0,\"ticks\":\"\"}}],\"scatter\":[{\"fillpattern\":{\"fillmode\":\"overlay\",\"size\":10,\"solidity\":0.2},\"type\":\"scatter\"}],\"parcoords\":[{\"type\":\"parcoords\",\"line\":{\"colorbar\":{\"outlinewidth\":0,\"ticks\":\"\"}}}],\"scatterpolargl\":[{\"type\":\"scatterpolargl\",\"marker\":{\"colorbar\":{\"outlinewidth\":0,\"ticks\":\"\"}}}],\"bar\":[{\"error_x\":{\"color\":\"#2a3f5f\"},\"error_y\":{\"color\":\"#2a3f5f\"},\"marker\":{\"line\":{\"color\":\"#E5ECF6\",\"width\":0.5},\"pattern\":{\"fillmode\":\"overlay\",\"size\":10,\"solidity\":0.2}},\"type\":\"bar\"}],\"scattergeo\":[{\"type\":\"scattergeo\",\"marker\":{\"colorbar\":{\"outlinewidth\":0,\"ticks\":\"\"}}}],\"scatterpolar\":[{\"type\":\"scatterpolar\",\"marker\":{\"colorbar\":{\"outlinewidth\":0,\"ticks\":\"\"}}}],\"histogram\":[{\"marker\":{\"pattern\":{\"fillmode\":\"overlay\",\"size\":10,\"solidity\":0.2}},\"type\":\"histogram\"}],\"scattergl\":[{\"type\":\"scattergl\",\"marker\":{\"colorbar\":{\"outlinewidth\":0,\"ticks\":\"\"}}}],\"scatter3d\":[{\"type\":\"scatter3d\",\"line\":{\"colorbar\":{\"outlinewidth\":0,\"ticks\":\"\"}},\"marker\":{\"colorbar\":{\"outlinewidth\":0,\"ticks\":\"\"}}}],\"scattermapbox\":[{\"type\":\"scattermapbox\",\"marker\":{\"colorbar\":{\"outlinewidth\":0,\"ticks\":\"\"}}}],\"scatterternary\":[{\"type\":\"scatterternary\",\"marker\":{\"colorbar\":{\"outlinewidth\":0,\"ticks\":\"\"}}}],\"scattercarpet\":[{\"type\":\"scattercarpet\",\"marker\":{\"colorbar\":{\"outlinewidth\":0,\"ticks\":\"\"}}}],\"carpet\":[{\"aaxis\":{\"endlinecolor\":\"#2a3f5f\",\"gridcolor\":\"white\",\"linecolor\":\"white\",\"minorgridcolor\":\"white\",\"startlinecolor\":\"#2a3f5f\"},\"baxis\":{\"endlinecolor\":\"#2a3f5f\",\"gridcolor\":\"white\",\"linecolor\":\"white\",\"minorgridcolor\":\"white\",\"startlinecolor\":\"#2a3f5f\"},\"type\":\"carpet\"}],\"table\":[{\"cells\":{\"fill\":{\"color\":\"#EBF0F8\"},\"line\":{\"color\":\"white\"}},\"header\":{\"fill\":{\"color\":\"#C8D4E3\"},\"line\":{\"color\":\"white\"}},\"type\":\"table\"}],\"barpolar\":[{\"marker\":{\"line\":{\"color\":\"#E5ECF6\",\"width\":0.5},\"pattern\":{\"fillmode\":\"overlay\",\"size\":10,\"solidity\":0.2}},\"type\":\"barpolar\"}],\"pie\":[{\"automargin\":true,\"type\":\"pie\"}]},\"layout\":{\"autotypenumbers\":\"strict\",\"colorway\":[\"#636efa\",\"#EF553B\",\"#00cc96\",\"#ab63fa\",\"#FFA15A\",\"#19d3f3\",\"#FF6692\",\"#B6E880\",\"#FF97FF\",\"#FECB52\"],\"font\":{\"color\":\"#2a3f5f\"},\"hovermode\":\"closest\",\"hoverlabel\":{\"align\":\"left\"},\"paper_bgcolor\":\"white\",\"plot_bgcolor\":\"#E5ECF6\",\"polar\":{\"bgcolor\":\"#E5ECF6\",\"angularaxis\":{\"gridcolor\":\"white\",\"linecolor\":\"white\",\"ticks\":\"\"},\"radialaxis\":{\"gridcolor\":\"white\",\"linecolor\":\"white\",\"ticks\":\"\"}},\"ternary\":{\"bgcolor\":\"#E5ECF6\",\"aaxis\":{\"gridcolor\":\"white\",\"linecolor\":\"white\",\"ticks\":\"\"},\"baxis\":{\"gridcolor\":\"white\",\"linecolor\":\"white\",\"ticks\":\"\"},\"caxis\":{\"gridcolor\":\"white\",\"linecolor\":\"white\",\"ticks\":\"\"}},\"coloraxis\":{\"colorbar\":{\"outlinewidth\":0,\"ticks\":\"\"}},\"colorscale\":{\"sequential\":[[0.0,\"#0d0887\"],[0.1111111111111111,\"#46039f\"],[0.2222222222222222,\"#7201a8\"],[0.3333333333333333,\"#9c179e\"],[0.4444444444444444,\"#bd3786\"],[0.5555555555555556,\"#d8576b\"],[0.6666666666666666,\"#ed7953\"],[0.7777777777777778,\"#fb9f3a\"],[0.8888888888888888,\"#fdca26\"],[1.0,\"#f0f921\"]],\"sequentialminus\":[[0.0,\"#0d0887\"],[0.1111111111111111,\"#46039f\"],[0.2222222222222222,\"#7201a8\"],[0.3333333333333333,\"#9c179e\"],[0.4444444444444444,\"#bd3786\"],[0.5555555555555556,\"#d8576b\"],[0.6666666666666666,\"#ed7953\"],[0.7777777777777778,\"#fb9f3a\"],[0.8888888888888888,\"#fdca26\"],[1.0,\"#f0f921\"]],\"diverging\":[[0,\"#8e0152\"],[0.1,\"#c51b7d\"],[0.2,\"#de77ae\"],[0.3,\"#f1b6da\"],[0.4,\"#fde0ef\"],[0.5,\"#f7f7f7\"],[0.6,\"#e6f5d0\"],[0.7,\"#b8e186\"],[0.8,\"#7fbc41\"],[0.9,\"#4d9221\"],[1,\"#276419\"]]},\"xaxis\":{\"gridcolor\":\"white\",\"linecolor\":\"white\",\"ticks\":\"\",\"title\":{\"standoff\":15},\"zerolinecolor\":\"white\",\"automargin\":true,\"zerolinewidth\":2},\"yaxis\":{\"gridcolor\":\"white\",\"linecolor\":\"white\",\"ticks\":\"\",\"title\":{\"standoff\":15},\"zerolinecolor\":\"white\",\"automargin\":true,\"zerolinewidth\":2},\"scene\":{\"xaxis\":{\"backgroundcolor\":\"#E5ECF6\",\"gridcolor\":\"white\",\"linecolor\":\"white\",\"showbackground\":true,\"ticks\":\"\",\"zerolinecolor\":\"white\",\"gridwidth\":2},\"yaxis\":{\"backgroundcolor\":\"#E5ECF6\",\"gridcolor\":\"white\",\"linecolor\":\"white\",\"showbackground\":true,\"ticks\":\"\",\"zerolinecolor\":\"white\",\"gridwidth\":2},\"zaxis\":{\"backgroundcolor\":\"#E5ECF6\",\"gridcolor\":\"white\",\"linecolor\":\"white\",\"showbackground\":true,\"ticks\":\"\",\"zerolinecolor\":\"white\",\"gridwidth\":2}},\"shapedefaults\":{\"line\":{\"color\":\"#2a3f5f\"}},\"annotationdefaults\":{\"arrowcolor\":\"#2a3f5f\",\"arrowhead\":0,\"arrowwidth\":1},\"geo\":{\"bgcolor\":\"white\",\"landcolor\":\"#E5ECF6\",\"subunitcolor\":\"white\",\"showland\":true,\"showlakes\":true,\"lakecolor\":\"white\"},\"title\":{\"x\":0.05},\"mapbox\":{\"style\":\"light\"}}},\"geo\":{\"visible\":false,\"resolution\":50,\"scope\":\"europe\",\"showcountries\":true,\"countrycolor\":\"Black\"},\"title\":{\"text\":\" Grid Capacity in 2050\"},\"autosize\":false,\"width\":1000,\"height\":1000},                        {\"responsive\": true}                    ).then(function(){\n",
       "                            \n",
       "var gd = document.getElementById('6af41a82-dc47-4723-89ca-9b8e9b2a48b0');\n",
       "var x = new MutationObserver(function (mutations, observer) {{\n",
       "        var display = window.getComputedStyle(gd).display;\n",
       "        if (!display || display === 'none') {{\n",
       "            console.log([gd, 'removed!']);\n",
       "            Plotly.purge(gd);\n",
       "            observer.disconnect();\n",
       "        }}\n",
       "}});\n",
       "\n",
       "// Listen for the removal of the full notebook cells\n",
       "var notebookContainer = gd.closest('#notebook-container');\n",
       "if (notebookContainer) {{\n",
       "    x.observe(notebookContainer, {childList: true});\n",
       "}}\n",
       "\n",
       "// Listen for the clearing of the current output cell\n",
       "var outputEl = gd.closest('.output');\n",
       "if (outputEl) {{\n",
       "    x.observe(outputEl, {childList: true});\n",
       "}}\n",
       "\n",
       "                        })                };                });            </script>        </div>"
      ]
     },
     "metadata": {},
     "output_type": "display_data"
    }
   ],
   "source": [
    "carrier = 'gas pipeline'\n",
    "year = '2050'\n",
    "normal, retro, dc = get_grid_df(n = networks['2050'], carrier = carrier)\n",
    "carrier= carrier[:3].strip()          #this part is unnecessary here should be deleted as soon as get_grid_df is modified \n",
    "df = normal.buses[normal.buses.carrier == carrier].copy()\n",
    "df['ct'] = df.index.str[:5]\n",
    "divisor = 1e3\n",
    "\n",
    "fig = go.Figure(data=go.Choropleth(\n",
    "    #geojson=j_file,\n",
    "    featureidkey= 'properties.COUNTRY_ID',\n",
    "    locationmode='geojson-id', # honestly no idea what this does\n",
    "    locations=df['ct'],\n",
    "    z=df['v_nom'], # Placeholder Variable for a later use could be colorcode for powerussage?  \n",
    "    autocolorscale=False,\n",
    "    showscale=False,\n",
    "    hoverinfo = 'text',\n",
    "    text = df['ct']\n",
    "\n",
    "))\n",
    "\n",
    "#Plot grid lines and set width, AC has to be treated specially \n",
    "if carrier == 'AC':\n",
    "\n",
    "    for i in range(len(normal.lines.s_nom_opt)):\n",
    "        fig.add_trace(\n",
    "            go.Scattergeo(\n",
    "                locationmode = 'geojson-id',# honestly no idea what this does\n",
    "                lon = [df.loc[normal.lines.bus0[i]]['x'].round(3), df.loc[normal.lines.bus1[i]]['x'].round(3)],\n",
    "                lat = [df.loc[normal.lines.bus0[i]]['y'].round(3), df.loc[normal.lines.bus1[i]]['y'].round(3)],\n",
    "                mode = 'lines',\n",
    "                line = dict(width = (normal.lines.s_nom_opt[i])/divisor,color = 'green'), #s_nom_opt nur Termische Kap = s_nom_opt * s_max_pu für net\n",
    "                # opacity = float(df_flight_paths['cnt'][i]) / float(df_flight_paths['cnt'].max()),  => Could be used later\n",
    "                name=\"{} GW AC-Grid\".format(int(round(normal.lines.s_nom_opt[i])/divisor))\n",
    "            )\n",
    "        )\n",
    "    for i in range(len(dc.links.p_nom_opt)):\n",
    "        fig.add_trace(\n",
    "            go.Scattergeo(\n",
    "                locationmode = 'geojson-id',# honestly no idea what this does\n",
    "                lon = [df.loc[normal.links.bus0[i]]['x'].round(3), df.loc[normal.links.bus1[i]]['x'].round(3)],\n",
    "                lat = [df.loc[normal.links.bus0[i]]['y'].round(3), df.loc[normal.links.bus1[i]]['y'].round(3)],\n",
    "                mode = 'lines',\n",
    "                line = dict(width = (dc.links.p_nom_opt[i])/divisor,color = 'red'),\n",
    "                hoverinfo = 'text',\n",
    "                text = dc.links.p_nom[i].round(0),\n",
    "                # opacity = float(df_flight_paths['cnt'][i]) / float(df_flight_paths['cnt'].max()),\n",
    "                name=\"{} GW DC-Grid\".format(int(round(dc.links.p_nom_opt[i])/divisor))\n",
    "            )\n",
    "        )\n",
    "\n",
    "else:\n",
    "\n",
    "    for i in range(len(normal.links.p_nom_opt)):\n",
    "        fig.add_trace(\n",
    "            go.Scattergeo(\n",
    "                locationmode = 'geojson-id',# honestly no idea what this does\n",
    "                lon = [df.loc[normal.links.bus0[i]]['x'].round(3), df.loc[normal.links.bus1[i]]['x'].round(3)],\n",
    "                lat = [df.loc[normal.links.bus0[i]]['y'].round(3), df.loc[normal.links.bus1[i]]['y'].round(3)],\n",
    "                mode = 'lines',\n",
    "                line = dict(width = (normal.links.p_nom_opt[i])/divisor,color = 'red'),\n",
    "                # opacity = float(df_flight_paths['cnt'][i]) / float(df_flight_paths['cnt'].max()),\n",
    "                text = normal.links.p_nom[i],\n",
    "                name=\"{} GW Pipeline\".format(int(round(normal.links.p_nom_opt[i])/divisor))\n",
    "\n",
    "            )\n",
    "        )\n",
    "    for i in range(len(retro.links.p_nom_opt)):\n",
    "        fig.add_trace(\n",
    "            go.Scattergeo(\n",
    "                locationmode = 'geojson-id',# honestly no idea what this does\n",
    "                lon = [df.loc[retro.links.bus0[i]]['x'].round(3), df.loc[retro.links.bus1[i]]['x'].round(3)],\n",
    "                lat = [df.loc[retro.links.bus0[i]]['y'].round(3), df.loc[retro.links.bus1[i]]['y'].round(3)],\n",
    "                mode = 'lines',\n",
    "                line = dict(width = (retro.links.p_nom_opt[i])/divisor,color = 'blue'),\n",
    "                hoverinfo = 'text',\n",
    "                text = retro.links.p_nom[i].round(0),\n",
    "                name=\"{} GW retrofitted Pipeline\".format(int(round(retro.links.p_nom_opt[i])/divisor))\n",
    "                # opacity = float(df_flight_paths['cnt'][i]) / float(df_flight_paths['cnt'].max()),\n",
    "            )\n",
    "        )\n",
    "\n",
    "#centralize on europe\n",
    "fig.update_geos(\n",
    "    visible=False, resolution=50, \n",
    "    scope=\"europe\",\n",
    "    # center=dict(lon=11, lat=40),\n",
    "    # projection_rotation=dict(lon=30, lat=30, roll=30),\n",
    "    # lataxis_range=[10,11], lonaxis_range=[33,41],\n",
    "    showcountries=True, countrycolor=\"Black\",\n",
    "    #showsubunits=True, subunitcolor=\"Blue\"\n",
    ")\n",
    "\n",
    "\n",
    "#Scale Figure \n",
    "fig.update_layout(\n",
    "    title=f\" Grid Capacity in {year}\",\n",
    "    autosize=False,\n",
    "    width=1000,\n",
    "    height=1000,\n",
    "    #showlegend = True,\n",
    "    #hovermode='x unified',\n",
    "    #legend=dict(itemsizing='constant')\n",
    ")\n",
    "\n",
    "\n",
    "\n",
    "labels_to_show_in_legend = []\n",
    "\n",
    "for s in (10,3):\n",
    "    if carrier == 'AC':\n",
    "        a = int(round(min(dc.links.p_nom_opt/divisor, key=lambda x:abs(x-s))))\n",
    "        labels_to_show_in_legend.append(\"{} GW DC-Grid\".format(a))\n",
    "        b = int(round(min(normal.lines.s_nom_opt/divisor, key=lambda x:abs(x-s))/s)*s)\n",
    "        labels_to_show_in_legend.append(\"{} GW AC-Grid\".format(b))\n",
    "    elif carrier == 'gas pipeline':\n",
    "        c = int(round(min(normal.links.p_nom_opt/divisor, key=lambda x:abs(x-s))/s)*s)\n",
    "        labels_to_show_in_legend.append(\"{} GW Pipeline\".format(c))\n",
    "    else:\n",
    "        c = int(round(min(normal.links.p_nom_opt/divisor, key=lambda x:abs(x-s))/s)*s)\n",
    "        labels_to_show_in_legend.append(\"{} GW Pipeline\".format(c))\n",
    "        # d = int(round(min(retro.links.p_nom_opt/divisor, key=lambda x:abs(x-s))/s)*s)\n",
    "        # labels_to_show_in_legend.append(\"{} GW retrofitted Pipeline\".format(d))\n",
    "\n",
    "labels = set()\n",
    "    \n",
    "for trace in fig['data']: \n",
    "    if ( not trace['name'] in labels) and (trace['name'] in labels_to_show_in_legend):\n",
    "        labels.add(trace['name'])\n",
    "        trace['showlegend'] = True\n",
    "        print(trace['name'])\n",
    "    else:\n",
    "        trace['showlegend'] = False\n",
    "            \n",
    "\n",
    "fig.show()\n",
    "# labels = []\n",
    "\n",
    "# fig.update_traces(showlegend=False).add_trace(\n",
    "#     [\n",
    "   \n",
    "#     go.Scattergeo(lon = [fig.data[0]], lat = [fig.data[0]],\n",
    "#         mode = 'lines',\n",
    "#         line = dict(width = (3 * 1e3 / divisor), color = 'blue'),\n",
    "#         name=\" 3 GW Grid Capacity\",\n",
    "#         showlegend=True\n",
    "#     )\n",
    "#     ]\n",
    "# )"
   ]
  },
  {
   "cell_type": "code",
   "execution_count": 137,
   "id": "500916fe-da6e-4c40-b5f3-f228543e95e8",
   "metadata": {},
   "outputs": [
    {
     "data": {
      "text/plain": [
       "['10 GW Pipeline', '3 GW Pipeline']"
      ]
     },
     "execution_count": 137,
     "metadata": {},
     "output_type": "execute_result"
    }
   ],
   "source": [
    "labels_to_show_in_legend"
   ]
  },
  {
   "cell_type": "code",
   "execution_count": 143,
   "id": "8c6d3b98-9c1f-4073-9981-c0acb05371ba",
   "metadata": {},
   "outputs": [
    {
     "name": "stdout",
     "output_type": "stream",
     "text": [
      "0 GW retrofitted Pipeline\n",
      "0 GW retrofitted Pipeline\n",
      "0 GW retrofitted Pipeline\n",
      "2 GW retrofitted Pipeline\n",
      "0 GW retrofitted Pipeline\n",
      "0 GW retrofitted Pipeline\n",
      "0 GW retrofitted Pipeline\n",
      "0 GW retrofitted Pipeline\n",
      "0 GW retrofitted Pipeline\n",
      "9 GW retrofitted Pipeline\n",
      "0 GW retrofitted Pipeline\n",
      "0 GW retrofitted Pipeline\n",
      "0 GW retrofitted Pipeline\n",
      "0 GW retrofitted Pipeline\n",
      "0 GW retrofitted Pipeline\n",
      "0 GW retrofitted Pipeline\n",
      "0 GW retrofitted Pipeline\n",
      "0 GW retrofitted Pipeline\n",
      "0 GW retrofitted Pipeline\n",
      "1 GW retrofitted Pipeline\n",
      "0 GW retrofitted Pipeline\n",
      "0 GW retrofitted Pipeline\n",
      "0 GW retrofitted Pipeline\n",
      "0 GW retrofitted Pipeline\n",
      "0 GW retrofitted Pipeline\n",
      "0 GW retrofitted Pipeline\n",
      "0 GW retrofitted Pipeline\n",
      "0 GW retrofitted Pipeline\n",
      "0 GW retrofitted Pipeline\n",
      "0 GW retrofitted Pipeline\n",
      "0 GW retrofitted Pipeline\n",
      "0 GW retrofitted Pipeline\n",
      "9 GW retrofitted Pipeline\n",
      "0 GW retrofitted Pipeline\n",
      "0 GW retrofitted Pipeline\n",
      "0 GW retrofitted Pipeline\n",
      "0 GW retrofitted Pipeline\n",
      "0 GW retrofitted Pipeline\n",
      "0 GW retrofitted Pipeline\n",
      "0 GW retrofitted Pipeline\n",
      "0 GW retrofitted Pipeline\n",
      "0 GW retrofitted Pipeline\n",
      "0 GW retrofitted Pipeline\n",
      "0 GW retrofitted Pipeline\n",
      "0 GW retrofitted Pipeline\n",
      "0 GW retrofitted Pipeline\n",
      "0 GW retrofitted Pipeline\n",
      "0 GW retrofitted Pipeline\n",
      "0 GW retrofitted Pipeline\n",
      "0 GW retrofitted Pipeline\n",
      "0 GW retrofitted Pipeline\n",
      "0 GW retrofitted Pipeline\n",
      "0 GW retrofitted Pipeline\n",
      "0 GW retrofitted Pipeline\n",
      "0 GW retrofitted Pipeline\n",
      "0 GW retrofitted Pipeline\n",
      "0 GW retrofitted Pipeline\n",
      "0 GW retrofitted Pipeline\n",
      "0 GW retrofitted Pipeline\n",
      "0 GW retrofitted Pipeline\n",
      "0 GW retrofitted Pipeline\n",
      "0 GW retrofitted Pipeline\n",
      "0 GW retrofitted Pipeline\n",
      "0 GW retrofitted Pipeline\n"
     ]
    }
   ],
   "source": [
    "for i in range(len(normal.links.p_nom_opt)):\n",
    "    name=\"{} GW retrofitted Pipeline\".format(int(round(normal.links.p_nom_opt[i])/divisor))\n",
    "    print(name)"
   ]
  },
  {
   "cell_type": "code",
   "execution_count": 132,
   "id": "ce6e4d02-8433-4006-b238-8f4eee7dbd3f",
   "metadata": {},
   "outputs": [
    {
     "data": {
      "text/plain": [
       "2"
      ]
     },
     "execution_count": 132,
     "metadata": {},
     "output_type": "execute_result"
    }
   ],
   "source": [
    "s = 10\n",
    "int(round(min(normal.links.p_nom_opt/divisor, key=lambda x:abs(x-s))))"
   ]
  },
  {
   "cell_type": "code",
   "execution_count": 70,
   "id": "c43d88f1-03b2-4be2-a8e5-d53241e808ce",
   "metadata": {},
   "outputs": [
    {
     "data": {
      "text/plain": [
       "['10 AC GW', '8 DC GW', '3 AC GW', '3 DC GW']"
      ]
     },
     "execution_count": 70,
     "metadata": {},
     "output_type": "execute_result"
    }
   ],
   "source": [
    "import math\n",
    "\n",
    "labels = []\n",
    "for s in (10,3):\n",
    "    b = int(round(min(normal.lines.s_nom_opt/divisor, key=lambda x:abs(x-s))/s)*s)\n",
    "    labels.append(\"{} AC GW\".format(b))\n",
    "    a = int(round(min(dc.links.p_nom_opt/divisor, key=lambda x:abs(x-s))))\n",
    "    labels.append(\"{} DC GW\".format(a))\n",
    "#\n",
    "\n",
    "labels"
   ]
  },
  {
   "cell_type": "code",
   "execution_count": 20,
   "id": "700c6991-504b-419c-aae8-7e4bf8853cfa",
   "metadata": {
    "tags": []
   },
   "outputs": [],
   "source": [
    "def plot_grid(normal, retro, dc, carrier, year):\n",
    "    \"\"\"Plots a Geo. Figure in Plotly containing all clusters and a given grid\n",
    "    Parameters\n",
    "    ----------\n",
    "    normal : Dataframe containing Links and Buses for AC and H2/gas grid, should be provided by get_grid_df funktion\n",
    "    retro : Dataframe containing Links and Buses for retrofitted H2 grid, should be provided by get_grid_df funktion\n",
    "    carrier : string (== \"gas pipeline\", \"AC\", \"H2 pipeline\")\n",
    "        carrier (e.g. \"gas pipeline\", \"AC\") used to differenciate what grid to plot\n",
    "    \n",
    "    Returns\n",
    "    -------\n",
    "    Grid plot of a given carrier\n",
    "    \"\"\"\n",
    "    carrier= carrier[:3].strip()          #this part is unnecessary here should be deleted as soon as get_grid_df is modified \n",
    "    df = normal.buses[normal.buses.carrier == carrier].copy()\n",
    "    df['ct'] = df.index.str[:5]\n",
    "    divisor = 1e3\n",
    "    \n",
    "    fig = go.Figure(data=go.Choropleth(\n",
    "        #geojson=j_file,\n",
    "        featureidkey= 'properties.COUNTRY_ID',\n",
    "        locationmode='geojson-id', # honestly no idea what this does\n",
    "        locations=df['ct'],\n",
    "        z=df['v_nom'], # Placeholder Variable for a later use could be colorcode for powerussage?  \n",
    "        autocolorscale=False,\n",
    "        showscale=False,\n",
    "        hoverinfo = 'text',\n",
    "        text = df['ct']\n",
    "\n",
    "    ))\n",
    "\n",
    "    #Plot grid lines and set width, AC has to be treated specially \n",
    "    if carrier == 'AC':\n",
    "\n",
    "        for i in range(len(normal.lines.s_nom_opt)):\n",
    "            fig.add_trace(\n",
    "                go.Scattergeo(\n",
    "                    locationmode = 'geojson-id',# honestly no idea what this does\n",
    "                    lon = [df.loc[normal.lines.bus0[i]]['x'].round(3), df.loc[normal.lines.bus1[i]]['x'].round(3)],\n",
    "                    lat = [df.loc[normal.lines.bus0[i]]['y'].round(3), df.loc[normal.lines.bus1[i]]['y'].round(3)],\n",
    "                    mode = 'lines',\n",
    "                    line = dict(width = (normal.lines.s_nom_opt[i])/divisor,color = 'green'), #s_nom_opt nur Termische Kap = s_nom_opt * s_max_pu für net\n",
    "                    # opacity = float(df_flight_paths['cnt'][i]) / float(df_flight_paths['cnt'].max()),  => Could be used later\n",
    "                    name=\"AC Grid\"\n",
    "                )\n",
    "            )\n",
    "        for i in range(len(dc.links.p_nom_opt)):\n",
    "            fig.add_trace(\n",
    "                go.Scattergeo(\n",
    "                    locationmode = 'geojson-id',# honestly no idea what this does\n",
    "                    lon = [df.loc[retro.links.bus0[i]]['x'].round(3), df.loc[retro.links.bus1[i]]['x'].round(3)],\n",
    "                    lat = [df.loc[retro.links.bus0[i]]['y'].round(3), df.loc[retro.links.bus1[i]]['y'].round(3)],\n",
    "                    mode = 'lines',\n",
    "                    line = dict(width = (dc.links.p_nom_opt[i])/divisor,color = 'red'),\n",
    "                    hoverinfo = 'text',\n",
    "                    text = dc.links.p_nom[i].round(0),\n",
    "                    # opacity = float(df_flight_paths['cnt'][i]) / float(df_flight_paths['cnt'].max()),\n",
    "                    name=\"DC Grid\"\n",
    "                )\n",
    "            )\n",
    "\n",
    "    else:\n",
    "\n",
    "        for i in range(len(normal.links.p_nom_opt)):\n",
    "            fig.add_trace(\n",
    "                go.Scattergeo(\n",
    "                    locationmode = 'geojson-id',# honestly no idea what this does\n",
    "                    lon = [df.loc[normal.links.bus0[i]]['x'].round(3), df.loc[normal.links.bus1[i]]['x'].round(3)],\n",
    "                    lat = [df.loc[normal.links.bus0[i]]['y'].round(3), df.loc[normal.links.bus1[i]]['y'].round(3)],\n",
    "                    mode = 'lines',\n",
    "                    line = dict(width = (normal.links.p_nom_opt[i])/divisor,color = 'red'),\n",
    "                    # opacity = float(df_flight_paths['cnt'][i]) / float(df_flight_paths['cnt'].max()),\n",
    "                    text = normal.links.p_nom[i],\n",
    "                    name=\"new Pipeline\"\n",
    "                    \n",
    "                )\n",
    "            )\n",
    "        for i in range(len(retro.links.p_nom_opt)):\n",
    "            fig.add_trace(\n",
    "                go.Scattergeo(\n",
    "                    locationmode = 'geojson-id',# honestly no idea what this does\n",
    "                    lon = [df.loc[retro.links.bus0[i]]['x'].round(3), df.loc[retro.links.bus1[i]]['x'].round(3)],\n",
    "                    lat = [df.loc[retro.links.bus0[i]]['y'].round(3), df.loc[retro.links.bus1[i]]['y'].round(3)],\n",
    "                    mode = 'lines',\n",
    "                    line = dict(width = (retro.links.p_nom_opt[i])/divisor,color = 'blue'),\n",
    "                    hoverinfo = 'text',\n",
    "                    text = retro.links.p_nom[i].round(0),\n",
    "                    name=\"retrofitted Pipeline\"\n",
    "                    # opacity = float(df_flight_paths['cnt'][i]) / float(df_flight_paths['cnt'].max()),\n",
    "                )\n",
    "            )\n",
    "\n",
    "    #centralize on europe\n",
    "    fig.update_geos(\n",
    "        visible=False, resolution=50, \n",
    "        scope=\"europe\",\n",
    "        # center=dict(lon=11, lat=40),\n",
    "        # projection_rotation=dict(lon=30, lat=30, roll=30),\n",
    "        # lataxis_range=[10,11], lonaxis_range=[33,41],\n",
    "        showcountries=True, countrycolor=\"Black\",\n",
    "        #showsubunits=True, subunitcolor=\"Blue\"\n",
    "    )\n",
    "    \n",
    "\n",
    "    #Scale Figure \n",
    "    fig.update_layout(\n",
    "        title=f\" Grid Capacity in {year}\",\n",
    "        autosize=False,\n",
    "        width=1000,\n",
    "        height=1000,\n",
    "        showlegend = True,\n",
    "        #hovermode='x unified',\n",
    "        legend=dict(itemsizing='constant')\n",
    "    )\n",
    "    names = set()\n",
    "    fig.for_each_trace(\n",
    "        lambda trace:\n",
    "        trace.update(showlegend=False)\n",
    "        if (trace.name in names) else names.add(trace.name))\n",
    "\n",
    "    return(fig)"
   ]
  },
  {
   "cell_type": "code",
   "execution_count": 9,
   "id": "eed52d85-5891-47dc-9bec-7f8c0346a83a",
   "metadata": {},
   "outputs": [],
   "source": [
    "#pip install dash-bootstrap-components"
   ]
  },
  {
   "cell_type": "code",
   "execution_count": 18,
   "id": "ed15c8d6-e2aa-43ca-86a7-dd6ef862a674",
   "metadata": {},
   "outputs": [],
   "source": [
    "from dash import Dash, dcc, Output, Input  # pip install dash\n",
    "import dash_bootstrap_components as dbc    # pip install dash-bootstrap-components\n",
    "import plotly.express as px\n",
    "\n",
    "# incorporate data into app\n",
    "#df = px.data.medals_long()\n",
    "\n",
    "# Build your components\n",
    "app = Dash(__name__, external_stylesheets=[dbc.themes.SOLAR])\n",
    "mytitle = dcc.Markdown(children='# TEST TEST')\n",
    "mygraph = dcc.Graph(figure={})\n",
    "dropdown = dcc.Dropdown(options=['H2 pipeline', 'gas pipeline', \"AC\"],\n",
    "                        value='H2 pipeline',  # initial value displayed when page first loads\n",
    "                        clearable=False)\n",
    "dropdown_year = dcc.Dropdown(options=['2015','2020','2030','2040','2050'],\n",
    "                        value='2015',  # initial value displayed when page first loads\n",
    "                        clearable=False)\n",
    "\n",
    "# Customize your own Layout\n",
    "app.layout = dbc.Container([mytitle, dropdown, dropdown_year, mygraph])\n",
    "\n",
    "# Callback allows components to interact\n",
    "@app.callback(\n",
    "    Output(mygraph, component_property='figure'),\n",
    "    Input(dropdown, component_property='value'),\n",
    "    Input(dropdown_year, component_property='value')\n",
    ")\n",
    "def update_graph(user_input, dropdown_year):  # function arguments come from the component property of the Input\n",
    "    carrier = user_input\n",
    "    n = networks[dropdown_year]\n",
    "    normal,retro,dc = get_grid_df(n,carrier)\n",
    "    fig = plot_grid(normal, retro, dc, carrier, dropdown_year)\n",
    "    return fig  # returned objects are assigned to the component property of the Output\n",
    "\n",
    "\n"
   ]
  },
  {
   "cell_type": "code",
   "execution_count": 21,
   "id": "f0191be4-f3b6-46b0-88ac-66b808f27f4b",
   "metadata": {},
   "outputs": [
    {
     "name": "stdout",
     "output_type": "stream",
     "text": [
      "Dash is running on http://127.0.0.1:9993/\n",
      "\n",
      "Dash is running on http://127.0.0.1:9993/\n",
      "\n"
     ]
    },
    {
     "name": "stderr",
     "output_type": "stream",
     "text": [
      "INFO:__main__:Dash is running on http://127.0.0.1:9993/\n",
      "\n"
     ]
    },
    {
     "name": "stdout",
     "output_type": "stream",
     "text": [
      " * Serving Flask app '__main__'\n",
      " * Debug mode: off\n"
     ]
    },
    {
     "name": "stderr",
     "output_type": "stream",
     "text": [
      "INFO:werkzeug:\u001b[31m\u001b[1mWARNING: This is a development server. Do not use it in a production deployment. Use a production WSGI server instead.\u001b[0m\n",
      " * Running on http://127.0.0.1:9993\n",
      "INFO:werkzeug:\u001b[33mPress CTRL+C to quit\u001b[0m\n",
      "INFO:werkzeug:127.0.0.1 - - [30/Jan/2023 13:13:26] \"GET / HTTP/1.1\" 200 -\n",
      "INFO:werkzeug:127.0.0.1 - - [30/Jan/2023 13:13:26] \"GET /_dash-component-suites/dash/deps/polyfill@7.v2_7_1m1671627520.12.1.min.js HTTP/1.1\" 200 -\n",
      "INFO:werkzeug:127.0.0.1 - - [30/Jan/2023 13:13:26] \"GET /_dash-component-suites/dash/deps/react@16.v2_7_1m1671627520.14.0.min.js HTTP/1.1\" 200 -\n",
      "INFO:werkzeug:127.0.0.1 - - [30/Jan/2023 13:13:26] \"GET /_dash-component-suites/dash/deps/react-dom@16.v2_7_1m1671627520.14.0.min.js HTTP/1.1\" 200 -\n",
      "INFO:werkzeug:127.0.0.1 - - [30/Jan/2023 13:13:26] \"GET /_dash-component-suites/dash/deps/prop-types@15.v2_7_1m1671627520.8.1.min.js HTTP/1.1\" 200 -\n",
      "INFO:werkzeug:127.0.0.1 - - [30/Jan/2023 13:13:26] \"GET /_dash-component-suites/dash_bootstrap_components/_components/dash_bootstrap_components.v1_3_0m1672759783.min.js HTTP/1.1\" 200 -\n",
      "INFO:werkzeug:127.0.0.1 - - [30/Jan/2023 13:13:26] \"GET /_dash-component-suites/dash/dash-renderer/build/dash_renderer.v2_7_1m1671627520.min.js HTTP/1.1\" 200 -\n",
      "INFO:werkzeug:127.0.0.1 - - [30/Jan/2023 13:13:26] \"GET /_dash-component-suites/dash/dcc/dash_core_components.v2_7_1m1671627520.js HTTP/1.1\" 200 -\n",
      "INFO:werkzeug:127.0.0.1 - - [30/Jan/2023 13:13:26] \"GET /_dash-component-suites/dash/dcc/dash_core_components-shared.v2_7_1m1671627520.js HTTP/1.1\" 200 -\n",
      "INFO:werkzeug:127.0.0.1 - - [30/Jan/2023 13:13:26] \"GET /_dash-component-suites/dash/html/dash_html_components.v2_0_7m1671627520.min.js HTTP/1.1\" 200 -\n",
      "INFO:werkzeug:127.0.0.1 - - [30/Jan/2023 13:13:26] \"GET /_dash-component-suites/dash/dash_table/bundle.v5_2_1m1671627520.js HTTP/1.1\" 200 -\n",
      "INFO:werkzeug:127.0.0.1 - - [30/Jan/2023 13:13:26] \"GET /_dash-layout HTTP/1.1\" 200 -\n",
      "INFO:werkzeug:127.0.0.1 - - [30/Jan/2023 13:13:27] \"GET /_dash-dependencies HTTP/1.1\" 200 -\n",
      "INFO:werkzeug:127.0.0.1 - - [30/Jan/2023 13:13:27] \"GET /_favicon.ico?v=2.7.1 HTTP/1.1\" 200 -\n",
      "INFO:werkzeug:127.0.0.1 - - [30/Jan/2023 13:13:27] \"GET /_dash-component-suites/dash/dcc/async-graph.js HTTP/1.1\" 200 -\n",
      "INFO:werkzeug:127.0.0.1 - - [30/Jan/2023 13:13:27] \"GET /_dash-component-suites/dash/dcc/async-dropdown.js HTTP/1.1\" 200 -\n",
      "INFO:werkzeug:127.0.0.1 - - [30/Jan/2023 13:13:27] \"GET /_dash-component-suites/dash/dcc/async-markdown.js HTTP/1.1\" 200 -\n",
      "INFO:werkzeug:127.0.0.1 - - [30/Jan/2023 13:13:27] \"GET /_dash-component-suites/dash/dcc/async-plotlyjs.js HTTP/1.1\" 200 -\n",
      "INFO:werkzeug:127.0.0.1 - - [30/Jan/2023 13:13:27] \"GET /_dash-component-suites/dash/dcc/async-highlight.js HTTP/1.1\" 200 -\n",
      "INFO:werkzeug:127.0.0.1 - - [30/Jan/2023 13:13:28] \"POST /_dash-update-component HTTP/1.1\" 200 -\n"
     ]
    }
   ],
   "source": [
    "# Run app\n",
    "if __name__=='__main__':\n",
    "    app.run_server( port=9993)"
   ]
  },
  {
   "cell_type": "markdown",
   "id": "2891c80b-4ef4-4df1-9363-c0b272da11d3",
   "metadata": {},
   "source": [
    "## Sachen die noch fehlen:\n",
    "\n",
    "1) Österreich richtig plotten\n",
    "2) Legende\n",
    "3) AC und DC addieren\n"
   ]
  },
  {
   "cell_type": "code",
   "execution_count": 13,
   "id": "a5a0c7cb-9283-45d5-919c-f5cc0ec58517",
   "metadata": {},
   "outputs": [],
   "source": [
    "handles = []\n",
    "labels = []\n",
    "line_factor = 1e3\n",
    "for s in (10, 3): # these values define the legend, change for different scaling\n",
    "    handles.append(plt.Line2D([0], [0], color=\"green\",\n",
    "                                linewidth=s * 1e3 / line_factor))\n",
    "    labels.append(\"{} GW\".format(s))"
   ]
  },
  {
   "cell_type": "code",
   "execution_count": 15,
   "id": "c9b3e72b-b25d-4084-8a92-420d172e80f9",
   "metadata": {},
   "outputs": [
    {
     "data": {
      "text/plain": [
       "[<matplotlib.lines.Line2D at 0x1213a8c2160>,\n",
       " <matplotlib.lines.Line2D at 0x12100351c70>]"
      ]
     },
     "execution_count": 15,
     "metadata": {},
     "output_type": "execute_result"
    }
   ],
   "source": [
    "handles"
   ]
  },
  {
   "cell_type": "code",
   "execution_count": null,
   "id": "9479ef34-7b20-4165-a417-42f34e720ada",
   "metadata": {},
   "outputs": [],
   "source": []
  }
 ],
 "metadata": {
  "kernelspec": {
   "display_name": "knep",
   "language": "python",
   "name": "knep"
  },
  "language_info": {
   "codemirror_mode": {
    "name": "ipython",
    "version": 3
   },
   "file_extension": ".py",
   "mimetype": "text/x-python",
   "name": "python",
   "nbconvert_exporter": "python",
   "pygments_lexer": "ipython3",
   "version": "3.8.13"
  }
 },
 "nbformat": 4,
 "nbformat_minor": 5
}
