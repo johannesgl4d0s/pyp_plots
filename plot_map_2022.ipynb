{
 "cells": [
  {
   "cell_type": "code",
   "execution_count": 1,
   "id": "8b96829c-83ef-4a51-8d31-ec71e7ce7ca3",
   "metadata": {},
   "outputs": [],
   "source": [
    "import pandas as pd\n",
    "import pypsa\n",
    "%matplotlib inline\n",
    "import matplotlib.pyplot as plt\n",
    "import geopandas as gpd\n",
    "import numpy as np\n",
    "import cartopy.crs as ccrs\n",
    "import ipynb\n",
    "import os\n",
    "from os import walk\n",
    "import plotly.express as px\n",
    "import json\n",
    "import plotly.graph_objs as gobj\n",
    "import plotly.graph_objects as go"
   ]
  },
  {
   "cell_type": "code",
   "execution_count": 2,
   "id": "b8e3d383-a629-4520-85b3-5ccaccbf82d2",
   "metadata": {},
   "outputs": [],
   "source": [
    "def load_data(mypath1,filenames):\n",
    "    networks = {}\n",
    "    planning_horizon = []\n",
    "    for file in filenames:\n",
    "        year = file[-7:-3]\n",
    "        print(\"Loading year {} \".format(year))\n",
    "        networks[year] = pypsa.Network(os.path.join(mypath1,file))\n",
    "        planning_horizon.append(year)\n",
    "    print(\"I have done my deed now set me Free, mortal!\")\n",
    "    return(networks, planning_horizon)"
   ]
  },
  {
   "cell_type": "code",
   "execution_count": 3,
   "id": "f3c409ef-6a7f-4f58-85a5-a342e3791df3",
   "metadata": {},
   "outputs": [],
   "source": [
    "def get_grid_df(n,carrier):\n",
    "    \"\"\"Gets all capacity dataframes for the grid\n",
    "    Parameters\n",
    "    ----------\n",
    "    n : Networks\n",
    "    carrier : string (== \"gas pipeline\", \"AC\", \"H2 pipeline\")\n",
    "        carrier (e.g. \"gas pipeline\", \"DC\") used in lines and links for transporting a specific energy\n",
    "    \n",
    "    Returns\n",
    "    -------\n",
    "    two dataframes:\n",
    "    normal = classic grid, including newly build H2 grid\n",
    "    retro only used for H2 retrofitted piplines.\n",
    "    \"\"\"\n",
    "    normal = n.copy()\n",
    "    retro = n.copy()\n",
    "    dc = n.copy()\n",
    "    if carrier == 'AC':\n",
    "        normal.lines = n.lines[n.lines.type ==\"Al/St 240/40 4-bundle 380.0\"]\n",
    "        dc.links = n.links[n.links.carrier == \"DC\"]\n",
    "        for bus in normal.buses[n.buses.carrier==\"AC\"].index:\n",
    "            dc.buses.loc[f\"{bus}\", [\"x\",\"y\"]] = normal.buses.loc[bus, [\"x\",\"y\"]]\n",
    "    else: \n",
    "        normal.links = n.links[(n.links.carrier == carrier)]\n",
    "        carrier_retro = carrier + \" retrofit\"\n",
    "        retro.links = n.links[(n.links.carrier == carrier_retro)]\n",
    "        for bus in normal.buses[n.buses.carrier==\"AC\"].index:\n",
    "            normal.buses.loc[f\"{bus}\"+ \" \"  + carrier[:3].strip(), [\"x\",\"y\"]] = normal.buses.loc[bus, [\"x\",\"y\"]]\n",
    "            retro.buses.loc[f\"{bus}\"+ \" \" + carrier[:3].strip(), [\"x\",\"y\"]] = retro.buses.loc[bus, [\"x\",\"y\"]]\n",
    "    return(normal,retro,dc)"
   ]
  },
  {
   "cell_type": "code",
   "execution_count": 4,
   "id": "c78b7bc0-0a4e-42e4-9b3d-01d6bf7977b7",
   "metadata": {},
   "outputs": [],
   "source": [
    "countries = gpd.read_file(r'C:\\Users\\johannes.misensky\\OneDrive - AGGM\\Dokumente\\pyp\\Shapefile\\shape_nuts2.shp')\n"
   ]
  },
  {
   "cell_type": "code",
   "execution_count": 5,
   "id": "766773c5-1c9c-41ed-bbce-6d5ab2af9aef",
   "metadata": {},
   "outputs": [
    {
     "name": "stdout",
     "output_type": "stream",
     "text": [
      "Loading year 2015 \n"
     ]
    },
    {
     "name": "stderr",
     "output_type": "stream",
     "text": [
      "WARNING:pypsa.io:\n",
      "Importing PyPSA from older version of PyPSA than current version.\n",
      "Please read the release notes at https://pypsa.readthedocs.io/en/latest/release_notes.html\n",
      "carefully to prepare your network for import.\n",
      "Currently used PyPSA version [0, 20, 1], imported network file PyPSA version [0, 17, 1].\n",
      "\n",
      "INFO:pypsa.components:Applying weightings to all columns of `snapshot_weightings`\n",
      "INFO:pypsa.io:Imported network elec_s_AT10_lv1.0__Co2L0p79-120H-T-H-B-I_2015.nc has buses, carriers, generators, global_constraints, lines, links, loads, storage_units, stores\n"
     ]
    },
    {
     "name": "stdout",
     "output_type": "stream",
     "text": [
      "Loading year 2020 \n"
     ]
    },
    {
     "name": "stderr",
     "output_type": "stream",
     "text": [
      "WARNING:pypsa.io:\n",
      "Importing PyPSA from older version of PyPSA than current version.\n",
      "Please read the release notes at https://pypsa.readthedocs.io/en/latest/release_notes.html\n",
      "carefully to prepare your network for import.\n",
      "Currently used PyPSA version [0, 20, 1], imported network file PyPSA version [0, 17, 1].\n",
      "\n",
      "INFO:pypsa.components:Applying weightings to all columns of `snapshot_weightings`\n",
      "INFO:pypsa.io:Imported network elec_s_AT10_lv1.0__Co2L0p79-120H-T-H-B-I_2020.nc has buses, carriers, generators, global_constraints, lines, links, loads, storage_units, stores\n"
     ]
    },
    {
     "name": "stdout",
     "output_type": "stream",
     "text": [
      "Loading year 2030 \n"
     ]
    },
    {
     "name": "stderr",
     "output_type": "stream",
     "text": [
      "WARNING:pypsa.io:\n",
      "Importing PyPSA from older version of PyPSA than current version.\n",
      "Please read the release notes at https://pypsa.readthedocs.io/en/latest/release_notes.html\n",
      "carefully to prepare your network for import.\n",
      "Currently used PyPSA version [0, 20, 1], imported network file PyPSA version [0, 17, 1].\n",
      "\n",
      "INFO:pypsa.components:Applying weightings to all columns of `snapshot_weightings`\n",
      "INFO:pypsa.io:Imported network elec_s_AT10_lv1.0__Co2L0p79-120H-T-H-B-I_2030.nc has buses, carriers, generators, global_constraints, lines, links, loads, storage_units, stores\n"
     ]
    },
    {
     "name": "stdout",
     "output_type": "stream",
     "text": [
      "Loading year 2040 \n"
     ]
    },
    {
     "name": "stderr",
     "output_type": "stream",
     "text": [
      "WARNING:pypsa.io:\n",
      "Importing PyPSA from older version of PyPSA than current version.\n",
      "Please read the release notes at https://pypsa.readthedocs.io/en/latest/release_notes.html\n",
      "carefully to prepare your network for import.\n",
      "Currently used PyPSA version [0, 20, 1], imported network file PyPSA version [0, 17, 1].\n",
      "\n",
      "INFO:pypsa.components:Applying weightings to all columns of `snapshot_weightings`\n",
      "INFO:pypsa.io:Imported network elec_s_AT10_lv1.0__Co2L0p79-120H-T-H-B-I_2040.nc has buses, carriers, generators, global_constraints, lines, links, loads, storage_units, stores\n"
     ]
    },
    {
     "name": "stdout",
     "output_type": "stream",
     "text": [
      "Loading year 2050 \n"
     ]
    },
    {
     "name": "stderr",
     "output_type": "stream",
     "text": [
      "WARNING:pypsa.io:\n",
      "Importing PyPSA from older version of PyPSA than current version.\n",
      "Please read the release notes at https://pypsa.readthedocs.io/en/latest/release_notes.html\n",
      "carefully to prepare your network for import.\n",
      "Currently used PyPSA version [0, 20, 1], imported network file PyPSA version [0, 17, 1].\n",
      "\n",
      "INFO:pypsa.components:Applying weightings to all columns of `snapshot_weightings`\n",
      "INFO:pypsa.io:Imported network elec_s_AT10_lv1.0__Co2L0p79-120H-T-H-B-I_2050.nc has buses, carriers, generators, global_constraints, lines, links, loads, storage_units, stores\n"
     ]
    },
    {
     "name": "stdout",
     "output_type": "stream",
     "text": [
      "I have done my deed now set me Free, mortal!\n"
     ]
    }
   ],
   "source": [
    "mypath = r\"C:\\Users\\johannes.misensky\\OneDrive - AGGM\\Dokumente\\ESM_Aus\\postnetworks\\test_1\"\n",
    "mypath1 = f\"{mypath}\"\n",
    "filenames = next(walk(mypath1), (None, None, []))[2]\n",
    "\n",
    "networks = {}\n",
    "planning_horizon = []\n",
    "filenames\n",
    "\n",
    "networks, planning_horizon = load_data(mypath1,filenames)"
   ]
  },
  {
   "cell_type": "code",
   "execution_count": 6,
   "id": "4cc65b8a-ef7a-4a0c-acd5-ec0679ce6c55",
   "metadata": {},
   "outputs": [],
   "source": [
    "#countries.to_file(\"path_to_GeoJSON _file\", driver = \"GeoJSON\")\n",
    "with open(\"path_to_GeoJSON _file\") as geofile:\n",
    "    j_file = json.load(geofile)"
   ]
  },
  {
   "cell_type": "code",
   "execution_count": 193,
   "id": "f46432ea-fdc1-4b28-a35b-d31c282eb8ff",
   "metadata": {},
   "outputs": [
    {
     "name": "stdout",
     "output_type": "stream",
     "text": [
      "2 GW Pipeline\n",
      "3 GW retrofitted Pipeline\n",
      "9 GW retrofitted Pipeline\n"
     ]
    },
    {
     "data": {
      "application/vnd.plotly.v1+json": {
       "config": {
        "plotlyServerURL": "https://plot.ly"
       },
       "data": [
        {
         "autocolorscale": false,
         "featureidkey": "properties.COUNTRY_ID",
         "hoverinfo": "text",
         "locationmode": "geojson-id",
         "locations": [
          "AL0 0",
          "AT0 0",
          "AT0 1",
          "AT0 2",
          "AT0 3",
          "AT0 4",
          "AT0 5",
          "AT0 6",
          "AT0 7",
          "AT0 8",
          "AT0 9",
          "BA0 0",
          "BE0 0",
          "BG0 0",
          "CH0 0",
          "CZ0 0",
          "DE0 0",
          "DE0 1",
          "DE0 2",
          "DE0 3",
          "DE0 4",
          "DK0 0",
          "DK3 0",
          "EE6 0",
          "ES0 0",
          "ES2 0",
          "FI3 0",
          "FR0 0",
          "GB4 0",
          "GB5 0",
          "GR0 0",
          "HR0 0",
          "HU0 0",
          "IE4 0",
          "IT0 0",
          "IT1 0",
          "LT6 0",
          "LU0 0",
          "LV6 0",
          "ME0 0",
          "MK0 0",
          "NL0 0",
          "NO3 0",
          "PL0 0",
          "PT0 0",
          "RO0 0",
          "RS0 0",
          "SE3 0",
          "SI0 0",
          "SK0 0"
         ],
         "showlegend": false,
         "showscale": false,
         "text": [
          "AL0 0",
          "AT0 0",
          "AT0 1",
          "AT0 2",
          "AT0 3",
          "AT0 4",
          "AT0 5",
          "AT0 6",
          "AT0 7",
          "AT0 8",
          "AT0 9",
          "BA0 0",
          "BE0 0",
          "BG0 0",
          "CH0 0",
          "CZ0 0",
          "DE0 0",
          "DE0 1",
          "DE0 2",
          "DE0 3",
          "DE0 4",
          "DK0 0",
          "DK3 0",
          "EE6 0",
          "ES0 0",
          "ES2 0",
          "FI3 0",
          "FR0 0",
          "GB4 0",
          "GB5 0",
          "GR0 0",
          "HR0 0",
          "HU0 0",
          "IE4 0",
          "IT0 0",
          "IT1 0",
          "LT6 0",
          "LU0 0",
          "LV6 0",
          "ME0 0",
          "MK0 0",
          "NL0 0",
          "NO3 0",
          "PL0 0",
          "PT0 0",
          "RO0 0",
          "RS0 0",
          "SE3 0",
          "SI0 0",
          "SK0 0"
         ],
         "type": "choropleth",
         "z": [
          1,
          1,
          1,
          1,
          1,
          1,
          1,
          1,
          1,
          1,
          1,
          1,
          1,
          1,
          1,
          1,
          1,
          1,
          1,
          1,
          1,
          1,
          1,
          1,
          1,
          1,
          1,
          1,
          1,
          1,
          1,
          1,
          1,
          1,
          1,
          1,
          1,
          1,
          1,
          1,
          1,
          1,
          1,
          1,
          1,
          1,
          1,
          1,
          1,
          1
         ]
        },
        {
         "lat": [
          41.562,
          38.949
         ],
         "line": {
          "color": "red",
          "width": 1.4904281931348493e-05
         },
         "locationmode": "geojson-id",
         "lon": [
          19.895,
          22.73
         ],
         "mode": "lines",
         "name": "0 GW Pipeline",
         "showlegend": false,
         "text": "0.0",
         "type": "scattergeo"
        },
        {
         "lat": [
          41.562,
          42.76
         ],
         "line": {
          "color": "red",
          "width": 0.15874952445376428
         },
         "locationmode": "geojson-id",
         "lon": [
          19.895,
          19.056
         ],
         "mode": "lines",
         "name": "0 GW Pipeline",
         "showlegend": false,
         "text": "0.0",
         "type": "scattergeo"
        },
        {
         "lat": [
          41.562,
          41.581
         ],
         "line": {
          "color": "red",
          "width": 0.4244275554766954
         },
         "locationmode": "geojson-id",
         "lon": [
          19.895,
          21.587
         ],
         "mode": "lines",
         "name": "0 GW Pipeline",
         "showlegend": false,
         "text": "0.0",
         "type": "scattergeo"
        },
        {
         "lat": [
          41.562,
          44.073
         ],
         "line": {
          "color": "red",
          "width": 2.1169499835481873e-05
         },
         "locationmode": "geojson-id",
         "lon": [
          19.895,
          20.687
         ],
         "mode": "lines",
         "name": "0 GW Pipeline",
         "showlegend": false,
         "text": "0.0",
         "type": "scattergeo"
        },
        {
         "lat": [
          47.746,
          48.116
         ],
         "line": {
          "color": "red",
          "width": 0.0001372197428615425
         },
         "locationmode": "geojson-id",
         "lon": [
          16.608,
          15.661
         ],
         "mode": "lines",
         "name": "0 GW Pipeline",
         "showlegend": false,
         "text": "0.0",
         "type": "scattergeo"
        },
        {
         "lat": [
          47.746,
          48.133
         ],
         "line": {
          "color": "red",
          "width": 1.8626217332527835
         },
         "locationmode": "geojson-id",
         "lon": [
          16.608,
          16.357
         ],
         "mode": "lines",
         "name": "2 GW Pipeline",
         "showlegend": true,
         "text": "0.0",
         "type": "scattergeo"
        },
        {
         "lat": [
          47.746,
          47.173
         ],
         "line": {
          "color": "red",
          "width": 4.719346009126659e-05
         },
         "locationmode": "geojson-id",
         "lon": [
          16.608,
          15.017
         ],
         "mode": "lines",
         "name": "0 GW Pipeline",
         "showlegend": false,
         "text": "0.0",
         "type": "scattergeo"
        },
        {
         "lat": [
          47.746,
          47.217
         ],
         "line": {
          "color": "red",
          "width": 3.351293937632261e-05
         },
         "locationmode": "geojson-id",
         "lon": [
          16.608,
          18.879
         ],
         "mode": "lines",
         "name": "0 GW Pipeline",
         "showlegend": false,
         "text": "0.0",
         "type": "scattergeo"
        },
        {
         "lat": [
          48.116,
          48.133
         ],
         "line": {
          "color": "red",
          "width": 0.00011118191954369003
         },
         "locationmode": "geojson-id",
         "lon": [
          15.661,
          16.357
         ],
         "mode": "lines",
         "name": "0 GW Pipeline",
         "showlegend": false,
         "text": "0.0",
         "type": "scattergeo"
        },
        {
         "lat": [
          48.116,
          47.173
         ],
         "line": {
          "color": "red",
          "width": 5.051190697624452e-05
         },
         "locationmode": "geojson-id",
         "lon": [
          15.661,
          15.017
         ],
         "mode": "lines",
         "name": "0 GW Pipeline",
         "showlegend": false,
         "text": "0.0",
         "type": "scattergeo"
        },
        {
         "lat": [
          48.116,
          48.047
         ],
         "line": {
          "color": "red",
          "width": 4.57735555855525e-05
         },
         "locationmode": "geojson-id",
         "lon": [
          15.661,
          13.997
         ],
         "mode": "lines",
         "name": "0 GW Pipeline",
         "showlegend": false,
         "text": "0.0",
         "type": "scattergeo"
        },
        {
         "lat": [
          48.116,
          49.843
         ],
         "line": {
          "color": "red",
          "width": 3.381134630201769e-05
         },
         "locationmode": "geojson-id",
         "lon": [
          15.661,
          15.238
         ],
         "mode": "lines",
         "name": "0 GW Pipeline",
         "showlegend": false,
         "text": "0.0",
         "type": "scattergeo"
        },
        {
         "lat": [
          48.133,
          47.217
         ],
         "line": {
          "color": "red",
          "width": 2.6949442829958e-05
         },
         "locationmode": "geojson-id",
         "lon": [
          16.357,
          18.879
         ],
         "mode": "lines",
         "name": "0 GW Pipeline",
         "showlegend": false,
         "text": "0.0",
         "type": "scattergeo"
        },
        {
         "lat": [
          46.615,
          47.173
         ],
         "line": {
          "color": "red",
          "width": 0.0001254656117845024
         },
         "locationmode": "geojson-id",
         "lon": [
          14.142,
          15.017
         ],
         "mode": "lines",
         "name": "0 GW Pipeline",
         "showlegend": false,
         "text": "0.0",
         "type": "scattergeo"
        },
        {
         "lat": [
          46.615,
          46.798
         ],
         "line": {
          "color": "red",
          "width": 0.00010077360552878925
         },
         "locationmode": "geojson-id",
         "lon": [
          14.142,
          12.693
         ],
         "mode": "lines",
         "name": "0 GW Pipeline",
         "showlegend": false,
         "text": "0.0",
         "type": "scattergeo"
        },
        {
         "lat": [
          46.615,
          46.121
         ],
         "line": {
          "color": "red",
          "width": 1.7944542499342884
         },
         "locationmode": "geojson-id",
         "lon": [
          14.142,
          14.805
         ],
         "mode": "lines",
         "name": "2 GW Pipeline",
         "showlegend": false,
         "text": "0.0",
         "type": "scattergeo"
        },
        {
         "lat": [
          47.173,
          48.047
         ],
         "line": {
          "color": "red",
          "width": 4.817345160798894e-05
         },
         "locationmode": "geojson-id",
         "lon": [
          15.017,
          13.997
         ],
         "mode": "lines",
         "name": "0 GW Pipeline",
         "showlegend": false,
         "text": "0.0",
         "type": "scattergeo"
        },
        {
         "lat": [
          47.173,
          47.562
         ],
         "line": {
          "color": "red",
          "width": 3.470850904349221e-05
         },
         "locationmode": "geojson-id",
         "lon": [
          15.017,
          12.77
         ],
         "mode": "lines",
         "name": "0 GW Pipeline",
         "showlegend": false,
         "text": "0.0",
         "type": "scattergeo"
        },
        {
         "lat": [
          47.173,
          46.121
         ],
         "line": {
          "color": "red",
          "width": 8.351139977323981e-05
         },
         "locationmode": "geojson-id",
         "lon": [
          15.017,
          14.805
         ],
         "mode": "lines",
         "name": "0 GW Pipeline",
         "showlegend": false,
         "text": "0.0",
         "type": "scattergeo"
        },
        {
         "lat": [
          48.047,
          47.562
         ],
         "line": {
          "color": "red",
          "width": 0.5804961844748076
         },
         "locationmode": "geojson-id",
         "lon": [
          13.997,
          12.77
         ],
         "mode": "lines",
         "name": "1 GW Pipeline",
         "showlegend": false,
         "text": "0.0",
         "type": "scattergeo"
        },
        {
         "lat": [
          48.047,
          48.952
         ],
         "line": {
          "color": "red",
          "width": 2.7577937540192183e-05
         },
         "locationmode": "geojson-id",
         "lon": [
          13.997,
          11.262
         ],
         "mode": "lines",
         "name": "0 GW Pipeline",
         "showlegend": false,
         "text": "0.0",
         "type": "scattergeo"
        },
        {
         "lat": [
          47.562,
          46.798
         ],
         "line": {
          "color": "red",
          "width": 0.00013526206869581993
         },
         "locationmode": "geojson-id",
         "lon": [
          12.77,
          12.693
         ],
         "mode": "lines",
         "name": "0 GW Pipeline",
         "showlegend": false,
         "text": "0.0",
         "type": "scattergeo"
        },
        {
         "lat": [
          47.562,
          47.215
         ],
         "line": {
          "color": "red",
          "width": 3.968589547490608e-05
         },
         "locationmode": "geojson-id",
         "lon": [
          12.77,
          10.935
         ],
         "mode": "lines",
         "name": "0 GW Pipeline",
         "showlegend": false,
         "text": "0.0",
         "type": "scattergeo"
        },
        {
         "lat": [
          47.32,
          47.215
         ],
         "line": {
          "color": "red",
          "width": 6.479753096975785e-05
         },
         "locationmode": "geojson-id",
         "lon": [
          9.717,
          10.935
         ],
         "mode": "lines",
         "name": "0 GW Pipeline",
         "showlegend": false,
         "text": "0.0",
         "type": "scattergeo"
        },
        {
         "lat": [
          47.32,
          46.823
         ],
         "line": {
          "color": "red",
          "width": 5.237489274146311e-05
         },
         "locationmode": "geojson-id",
         "lon": [
          9.717,
          8.208
         ],
         "mode": "lines",
         "name": "0 GW Pipeline",
         "showlegend": false,
         "text": "0.0",
         "type": "scattergeo"
        },
        {
         "lat": [
          47.32,
          48.952
         ],
         "line": {
          "color": "red",
          "width": 3.334440170955737e-05
         },
         "locationmode": "geojson-id",
         "lon": [
          9.717,
          11.262
         ],
         "mode": "lines",
         "name": "0 GW Pipeline",
         "showlegend": false,
         "text": "0.0",
         "type": "scattergeo"
        },
        {
         "lat": [
          47.32,
          48.652
         ],
         "line": {
          "color": "red",
          "width": 0.4303520009024363
         },
         "locationmode": "geojson-id",
         "lon": [
          9.717,
          9.005
         ],
         "mode": "lines",
         "name": "0 GW Pipeline",
         "showlegend": false,
         "text": "0.0",
         "type": "scattergeo"
        },
        {
         "lat": [
          46.798,
          43.584
         ],
         "line": {
          "color": "red",
          "width": 1.761682778533416e-05
         },
         "locationmode": "geojson-id",
         "lon": [
          12.693,
          11.707
         ],
         "mode": "lines",
         "name": "0 GW Pipeline",
         "showlegend": false,
         "text": "0.0",
         "type": "scattergeo"
        },
        {
         "lat": [
          47.215,
          46.823
         ],
         "line": {
          "color": "red",
          "width": 2.733240085590999e-05
         },
         "locationmode": "geojson-id",
         "lon": [
          10.935,
          8.208
         ],
         "mode": "lines",
         "name": "0 GW Pipeline",
         "showlegend": false,
         "text": "0.0",
         "type": "scattergeo"
        },
        {
         "lat": [
          47.215,
          48.952
         ],
         "line": {
          "color": "red",
          "width": 3.481632207632696e-05
         },
         "locationmode": "geojson-id",
         "lon": [
          10.935,
          11.262
         ],
         "mode": "lines",
         "name": "0 GW Pipeline",
         "showlegend": false,
         "text": "0.0",
         "type": "scattergeo"
        },
        {
         "lat": [
          43.811,
          45.207
         ],
         "line": {
          "color": "red",
          "width": 2.976684766605736e-05
         },
         "locationmode": "geojson-id",
         "lon": [
          18.123,
          16.158
         ],
         "mode": "lines",
         "name": "0 GW Pipeline",
         "showlegend": false,
         "text": "0.0",
         "type": "scattergeo"
        },
        {
         "lat": [
          43.811,
          42.76
         ],
         "line": {
          "color": "red",
          "width": 0.02755746920889003
         },
         "locationmode": "geojson-id",
         "lon": [
          18.123,
          19.056
         ],
         "mode": "lines",
         "name": "0 GW Pipeline",
         "showlegend": false,
         "text": "0.0",
         "type": "scattergeo"
        },
        {
         "lat": [
          43.811,
          44.073
         ],
         "line": {
          "color": "red",
          "width": 2.713037760764876e-05
         },
         "locationmode": "geojson-id",
         "lon": [
          18.123,
          20.687
         ],
         "mode": "lines",
         "name": "0 GW Pipeline",
         "showlegend": false,
         "text": "0.0",
         "type": "scattergeo"
        },
        {
         "lat": [
          50.743,
          46.809
         ],
         "line": {
          "color": "red",
          "width": 1.2480910058761559e-05
         },
         "locationmode": "geojson-id",
         "lon": [
          4.799,
          3.156
         ],
         "mode": "lines",
         "name": "0 GW Pipeline",
         "showlegend": false,
         "text": "0.0",
         "type": "scattergeo"
        },
        {
         "lat": [
          50.743,
          49.677
         ],
         "line": {
          "color": "red",
          "width": 4.605311240699515e-05
         },
         "locationmode": "geojson-id",
         "lon": [
          4.799,
          6.131
         ],
         "mode": "lines",
         "name": "0 GW Pipeline",
         "showlegend": false,
         "text": "0.0",
         "type": "scattergeo"
        },
        {
         "lat": [
          50.743,
          52.374
         ],
         "line": {
          "color": "red",
          "width": 3.201845544346343e-05
         },
         "locationmode": "geojson-id",
         "lon": [
          4.799,
          5.551
         ],
         "mode": "lines",
         "name": "0 GW Pipeline",
         "showlegend": false,
         "text": "0.0",
         "type": "scattergeo"
        },
        {
         "lat": [
          42.765,
          38.949
         ],
         "line": {
          "color": "red",
          "width": 1.334936990671403e-05
         },
         "locationmode": "geojson-id",
         "lon": [
          24.674,
          22.73
         ],
         "mode": "lines",
         "name": "0 GW Pipeline",
         "showlegend": false,
         "text": "0.0",
         "type": "scattergeo"
        },
        {
         "lat": [
          42.765,
          41.581
         ],
         "line": {
          "color": "red",
          "width": 1.9935807257735465e-05
         },
         "locationmode": "geojson-id",
         "lon": [
          24.674,
          21.587
         ],
         "mode": "lines",
         "name": "0 GW Pipeline",
         "showlegend": false,
         "text": "0.0",
         "type": "scattergeo"
        },
        {
         "lat": [
          42.765,
          45.56
         ],
         "line": {
          "color": "red",
          "width": 1.8157636629967164e-05
         },
         "locationmode": "geojson-id",
         "lon": [
          24.674,
          25.046
         ],
         "mode": "lines",
         "name": "0 GW Pipeline",
         "showlegend": false,
         "text": "0.0",
         "type": "scattergeo"
        },
        {
         "lat": [
          42.765,
          44.073
         ],
         "line": {
          "color": "red",
          "width": 1.793002105793117e-05
         },
         "locationmode": "geojson-id",
         "lon": [
          24.674,
          20.687
         ],
         "mode": "lines",
         "name": "0 GW Pipeline",
         "showlegend": false,
         "text": "0.0",
         "type": "scattergeo"
        },
        {
         "lat": [
          46.823,
          48.652
         ],
         "line": {
          "color": "red",
          "width": 2.8948519119714932e-05
         },
         "locationmode": "geojson-id",
         "lon": [
          8.208,
          9.005
         ],
         "mode": "lines",
         "name": "0 GW Pipeline",
         "showlegend": false,
         "text": "0.0",
         "type": "scattergeo"
        },
        {
         "lat": [
          46.823,
          46.809
         ],
         "line": {
          "color": "red",
          "width": 1.5160131781253621e-05
         },
         "locationmode": "geojson-id",
         "lon": [
          8.208,
          3.156
         ],
         "mode": "lines",
         "name": "0 GW Pipeline",
         "showlegend": false,
         "text": "0.0",
         "type": "scattergeo"
        },
        {
         "lat": [
          46.823,
          43.584
         ],
         "line": {
          "color": "red",
          "width": 1.2158700763954232e-05
         },
         "locationmode": "geojson-id",
         "lon": [
          8.208,
          11.707
         ],
         "mode": "lines",
         "name": "0 GW Pipeline",
         "showlegend": false,
         "text": "0.0",
         "type": "scattergeo"
        },
        {
         "lat": [
          49.843,
          48.952
         ],
         "line": {
          "color": "red",
          "width": 1.8303964822980526e-05
         },
         "locationmode": "geojson-id",
         "lon": [
          15.238,
          11.262
         ],
         "mode": "lines",
         "name": "0 GW Pipeline",
         "showlegend": false,
         "text": "0.0",
         "type": "scattergeo"
        },
        {
         "lat": [
          49.843,
          51.879
         ],
         "line": {
          "color": "red",
          "width": 2.0591515886912792e-05
         },
         "locationmode": "geojson-id",
         "lon": [
          15.238,
          12.917
         ],
         "mode": "lines",
         "name": "0 GW Pipeline",
         "showlegend": false,
         "text": "0.0",
         "type": "scattergeo"
        },
        {
         "lat": [
          49.843,
          51.572
         ],
         "line": {
          "color": "red",
          "width": 1.862830404617907e-05
         },
         "locationmode": "geojson-id",
         "lon": [
          15.238,
          18.902
         ],
         "mode": "lines",
         "name": "0 GW Pipeline",
         "showlegend": false,
         "text": "0.0",
         "type": "scattergeo"
        },
        {
         "lat": [
          49.843,
          48.653
         ],
         "line": {
          "color": "red",
          "width": 1.8968970735773352e-05
         },
         "locationmode": "geojson-id",
         "lon": [
          15.238,
          19.028
         ],
         "mode": "lines",
         "name": "0 GW Pipeline",
         "showlegend": false,
         "text": "0.0",
         "type": "scattergeo"
        },
        {
         "lat": [
          48.952,
          48.652
         ],
         "line": {
          "color": "red",
          "width": 3.449559998760259e-05
         },
         "locationmode": "geojson-id",
         "lon": [
          11.262,
          9.005
         ],
         "mode": "lines",
         "name": "0 GW Pipeline",
         "showlegend": false,
         "text": "0.0",
         "type": "scattergeo"
        },
        {
         "lat": [
          48.952,
          50.837
         ],
         "line": {
          "color": "red",
          "width": 1.6971608911736466e-05
         },
         "locationmode": "geojson-id",
         "lon": [
          11.262,
          7.683
         ],
         "mode": "lines",
         "name": "0 GW Pipeline",
         "showlegend": false,
         "text": "0.0",
         "type": "scattergeo"
        },
        {
         "lat": [
          48.952,
          51.879
         ],
         "line": {
          "color": "red",
          "width": 1.6255510704441457e-05
         },
         "locationmode": "geojson-id",
         "lon": [
          11.262,
          12.917
         ],
         "mode": "lines",
         "name": "0 GW Pipeline",
         "showlegend": false,
         "text": "0.0",
         "type": "scattergeo"
        },
        {
         "lat": [
          48.652,
          50.837
         ],
         "line": {
          "color": "red",
          "width": 2.1663360136772996e-05
         },
         "locationmode": "geojson-id",
         "lon": [
          9.005,
          7.683
         ],
         "mode": "lines",
         "name": "0 GW Pipeline",
         "showlegend": false,
         "text": "0.0",
         "type": "scattergeo"
        },
        {
         "lat": [
          48.652,
          46.809
         ],
         "line": {
          "color": "red",
          "width": 1.189901842348696e-05
         },
         "locationmode": "geojson-id",
         "lon": [
          9.005,
          3.156
         ],
         "mode": "lines",
         "name": "0 GW Pipeline",
         "showlegend": false,
         "text": "0.0",
         "type": "scattergeo"
        },
        {
         "lat": [
          50.837,
          51.879
         ],
         "line": {
          "color": "red",
          "width": 1.4357896019890874e-05
         },
         "locationmode": "geojson-id",
         "lon": [
          7.683,
          12.917
         ],
         "mode": "lines",
         "name": "0 GW Pipeline",
         "showlegend": false,
         "text": "0.0",
         "type": "scattergeo"
        },
        {
         "lat": [
          50.837,
          53.273
         ],
         "line": {
          "color": "red",
          "width": 1.8003520003363374e-05
         },
         "locationmode": "geojson-id",
         "lon": [
          7.683,
          9.879
         ],
         "mode": "lines",
         "name": "0 GW Pipeline",
         "showlegend": false,
         "text": "0.0",
         "type": "scattergeo"
        },
        {
         "lat": [
          50.837,
          46.809
         ],
         "line": {
          "color": "red",
          "width": 1.005584004420446e-05
         },
         "locationmode": "geojson-id",
         "lon": [
          7.683,
          3.156
         ],
         "mode": "lines",
         "name": "0 GW Pipeline",
         "showlegend": false,
         "text": "0.0",
         "type": "scattergeo"
        },
        {
         "lat": [
          50.837,
          49.677
         ],
         "line": {
          "color": "red",
          "width": 4.1659558084809264e-05
         },
         "locationmode": "geojson-id",
         "lon": [
          7.683,
          6.131
         ],
         "mode": "lines",
         "name": "0 GW Pipeline",
         "showlegend": false,
         "text": "0.0",
         "type": "scattergeo"
        },
        {
         "lat": [
          50.837,
          52.374
         ],
         "line": {
          "color": "red",
          "width": 2.5978343012391976e-05
         },
         "locationmode": "geojson-id",
         "lon": [
          7.683,
          5.551
         ],
         "mode": "lines",
         "name": "0 GW Pipeline",
         "showlegend": false,
         "text": "0.0",
         "type": "scattergeo"
        },
        {
         "lat": [
          51.879,
          53.273
         ],
         "line": {
          "color": "red",
          "width": 2.195342392878089e-05
         },
         "locationmode": "geojson-id",
         "lon": [
          12.917,
          9.879
         ],
         "mode": "lines",
         "name": "0 GW Pipeline",
         "showlegend": false,
         "text": "0.0",
         "type": "scattergeo"
        },
        {
         "lat": [
          51.879,
          51.572
         ],
         "line": {
          "color": "red",
          "width": 1.3342984895606769e-05
         },
         "locationmode": "geojson-id",
         "lon": [
          12.917,
          18.902
         ],
         "mode": "lines",
         "name": "0 GW Pipeline",
         "showlegend": false,
         "text": "0.0",
         "type": "scattergeo"
        },
        {
         "lat": [
          53.273,
          55.99
         ],
         "line": {
          "color": "red",
          "width": 3.483402693278136e-05
         },
         "locationmode": "geojson-id",
         "lon": [
          9.879,
          9.732
         ],
         "mode": "lines",
         "name": "0 GW Pipeline",
         "showlegend": false,
         "text": "0.0",
         "type": "scattergeo"
        },
        {
         "lat": [
          55.51,
          61.358
         ],
         "line": {
          "color": "red",
          "width": 8.67405269253053e-06
         },
         "locationmode": "geojson-id",
         "lon": [
          12.284,
          16.278
         ],
         "mode": "lines",
         "name": "0 GW Pipeline",
         "showlegend": false,
         "text": "0.0",
         "type": "scattergeo"
        },
        {
         "lat": [
          58.98,
          56.839
         ],
         "line": {
          "color": "red",
          "width": 4.151457217686831e-05
         },
         "locationmode": "geojson-id",
         "lon": [
          25.879,
          23.725
         ],
         "mode": "lines",
         "name": "0 GW Pipeline",
         "showlegend": false,
         "text": "0.0",
         "type": "scattergeo"
        },
        {
         "lat": [
          40.601,
          46.809
         ],
         "line": {
          "color": "red",
          "width": 8.222012092442596e-06
         },
         "locationmode": "geojson-id",
         "lon": [
          -3.434,
          3.156
         ],
         "mode": "lines",
         "name": "0 GW Pipeline",
         "showlegend": false,
         "text": "0.0",
         "type": "scattergeo"
        },
        {
         "lat": [
          40.601,
          40.262
         ],
         "line": {
          "color": "red",
          "width": 1.4650189411169638e-05
         },
         "locationmode": "geojson-id",
         "lon": [
          -3.434,
          -8.299
         ],
         "mode": "lines",
         "name": "0 GW Pipeline",
         "showlegend": false,
         "text": "0.0",
         "type": "scattergeo"
        },
        {
         "lat": [
          62.869,
          61.358
         ],
         "line": {
          "color": "red",
          "width": 3.2043153967211625e-05
         },
         "locationmode": "geojson-id",
         "lon": [
          25.051,
          16.278
         ],
         "mode": "lines",
         "name": "0 GW Pipeline",
         "showlegend": false,
         "text": "0.0",
         "type": "scattergeo"
        },
        {
         "lat": [
          46.809,
          43.584
         ],
         "line": {
          "color": "red",
          "width": 7.120273964684308e-06
         },
         "locationmode": "geojson-id",
         "lon": [
          3.156,
          11.707
         ],
         "mode": "lines",
         "name": "0 GW Pipeline",
         "showlegend": false,
         "text": "0.0",
         "type": "scattergeo"
        },
        {
         "lat": [
          54.669,
          52.8
         ],
         "line": {
          "color": "red",
          "width": 2.9661908210097995e-05
         },
         "locationmode": "geojson-id",
         "lon": [
          -6.098,
          -7.631
         ],
         "mode": "lines",
         "name": "0 GW Pipeline",
         "showlegend": false,
         "text": "0.0",
         "type": "scattergeo"
        },
        {
         "lat": [
          38.949,
          41.581
         ],
         "line": {
          "color": "red",
          "width": 2.7392576380139913e-05
         },
         "locationmode": "geojson-id",
         "lon": [
          22.73,
          21.587
         ],
         "mode": "lines",
         "name": "0 GW Pipeline",
         "showlegend": false,
         "text": "0.0",
         "type": "scattergeo"
        },
        {
         "lat": [
          45.207,
          47.217
         ],
         "line": {
          "color": "red",
          "width": 1.874742123706154e-05
         },
         "locationmode": "geojson-id",
         "lon": [
          16.158,
          18.879
         ],
         "mode": "lines",
         "name": "0 GW Pipeline",
         "showlegend": false,
         "text": "0.0",
         "type": "scattergeo"
        },
        {
         "lat": [
          45.207,
          44.073
         ],
         "line": {
          "color": "red",
          "width": 1.5862959442735016e-05
         },
         "locationmode": "geojson-id",
         "lon": [
          16.158,
          20.687
         ],
         "mode": "lines",
         "name": "0 GW Pipeline",
         "showlegend": false,
         "text": "0.0",
         "type": "scattergeo"
        },
        {
         "lat": [
          45.207,
          46.121
         ],
         "line": {
          "color": "red",
          "width": 5.432023710433628e-05
         },
         "locationmode": "geojson-id",
         "lon": [
          16.158,
          14.805
         ],
         "mode": "lines",
         "name": "0 GW Pipeline",
         "showlegend": false,
         "text": "0.0",
         "type": "scattergeo"
        },
        {
         "lat": [
          47.217,
          45.56
         ],
         "line": {
          "color": "red",
          "width": 1.2986032701251408e-05
         },
         "locationmode": "geojson-id",
         "lon": [
          18.879,
          25.046
         ],
         "mode": "lines",
         "name": "0 GW Pipeline",
         "showlegend": false,
         "text": "0.0",
         "type": "scattergeo"
        },
        {
         "lat": [
          47.217,
          44.073
         ],
         "line": {
          "color": "red",
          "width": 1.5401678537742338e-05
         },
         "locationmode": "geojson-id",
         "lon": [
          18.879,
          20.687
         ],
         "mode": "lines",
         "name": "0 GW Pipeline",
         "showlegend": false,
         "text": "0.0",
         "type": "scattergeo"
        },
        {
         "lat": [
          47.217,
          48.653
         ],
         "line": {
          "color": "red",
          "width": 3.7003109061946944e-05
         },
         "locationmode": "geojson-id",
         "lon": [
          18.879,
          19.028
         ],
         "mode": "lines",
         "name": "0 GW Pipeline",
         "showlegend": false,
         "text": "0.0",
         "type": "scattergeo"
        },
        {
         "lat": [
          43.584,
          46.121
         ],
         "line": {
          "color": "red",
          "width": 1.6404106672856845e-05
         },
         "locationmode": "geojson-id",
         "lon": [
          11.707,
          14.805
         ],
         "mode": "lines",
         "name": "0 GW Pipeline",
         "showlegend": false,
         "text": "0.0",
         "type": "scattergeo"
        },
        {
         "lat": [
          55.197,
          56.839
         ],
         "line": {
          "color": "red",
          "width": 0.00987044269335147
         },
         "locationmode": "geojson-id",
         "lon": [
          23.114,
          23.725
         ],
         "mode": "lines",
         "name": "0 GW Pipeline",
         "showlegend": false,
         "text": "0.0",
         "type": "scattergeo"
        },
        {
         "lat": [
          42.76,
          44.073
         ],
         "line": {
          "color": "red",
          "width": 5.305523101503269e-05
         },
         "locationmode": "geojson-id",
         "lon": [
          19.056,
          20.687
         ],
         "mode": "lines",
         "name": "0 GW Pipeline",
         "showlegend": false,
         "text": "0.0",
         "type": "scattergeo"
        },
        {
         "lat": [
          41.581,
          44.073
         ],
         "line": {
          "color": "red",
          "width": 2.7501730126068725e-05
         },
         "locationmode": "geojson-id",
         "lon": [
          21.587,
          20.687
         ],
         "mode": "lines",
         "name": "0 GW Pipeline",
         "showlegend": false,
         "text": "0.0",
         "type": "scattergeo"
        },
        {
         "lat": [
          60.979,
          61.358
         ],
         "line": {
          "color": "red",
          "width": 0.9617076820186633
         },
         "locationmode": "geojson-id",
         "lon": [
          8.605,
          16.278
         ],
         "mode": "lines",
         "name": "1 GW Pipeline",
         "showlegend": false,
         "text": "0.0",
         "type": "scattergeo"
        },
        {
         "lat": [
          51.572,
          48.653
         ],
         "line": {
          "color": "red",
          "width": 2.0600114786238185e-05
         },
         "locationmode": "geojson-id",
         "lon": [
          18.902,
          19.028
         ],
         "mode": "lines",
         "name": "0 GW Pipeline",
         "showlegend": false,
         "text": "0.0",
         "type": "scattergeo"
        },
        {
         "lat": [
          45.56,
          44.073
         ],
         "line": {
          "color": "red",
          "width": 1.6789906985869877e-05
         },
         "locationmode": "geojson-id",
         "lon": [
          25.046,
          20.687
         ],
         "mode": "lines",
         "name": "0 GW Pipeline",
         "showlegend": false,
         "text": "0.0",
         "type": "scattergeo"
        },
        {
         "lat": [
          38.949,
          43.584
         ],
         "line": {
          "color": "red",
          "width": 4.783017302532598e-06
         },
         "locationmode": "geojson-id",
         "lon": [
          22.73,
          11.707
         ],
         "mode": "lines",
         "name": "0 GW Pipeline",
         "showlegend": false,
         "text": "0.0",
         "type": "scattergeo"
        },
        {
         "lat": [
          40.601,
          39.673
         ],
         "line": {
          "color": "red",
          "width": 1.0490541643456125e-05
         },
         "locationmode": "geojson-id",
         "lon": [
          -3.434,
          2.739
         ],
         "mode": "lines",
         "name": "0 GW Pipeline",
         "showlegend": false,
         "text": "0.0",
         "type": "scattergeo"
        },
        {
         "lat": [
          43.584,
          42.76
         ],
         "line": {
          "color": "red",
          "width": 1.0787728336502177e-05
         },
         "locationmode": "geojson-id",
         "lon": [
          11.707,
          19.056
         ],
         "mode": "lines",
         "name": "0 GW Pipeline",
         "showlegend": false,
         "text": "0.0",
         "type": "scattergeo"
        },
        {
         "lat": [
          43.584,
          39.968
         ],
         "line": {
          "color": "red",
          "width": 1.3403762655253625e-05
         },
         "locationmode": "geojson-id",
         "lon": [
          11.707,
          8.746
         ],
         "mode": "lines",
         "name": "0 GW Pipeline",
         "showlegend": false,
         "text": "0.0",
         "type": "scattergeo"
        },
        {
         "lat": [
          50.743,
          50.837
         ],
         "line": {
          "color": "red",
          "width": 2.9937019247790022e-05
         },
         "locationmode": "geojson-id",
         "lon": [
          4.799,
          7.683
         ],
         "mode": "lines",
         "name": "0 GW Pipeline",
         "showlegend": false,
         "text": "0.0",
         "type": "scattergeo"
        },
        {
         "lat": [
          53.282,
          52.374
         ],
         "line": {
          "color": "red",
          "width": 1.088344464609108e-05
         },
         "locationmode": "geojson-id",
         "lon": [
          -1.976,
          5.551
         ],
         "mode": "lines",
         "name": "0 GW Pipeline",
         "showlegend": false,
         "text": "0.0",
         "type": "scattergeo"
        },
        {
         "lat": [
          50.743,
          53.282
         ],
         "line": {
          "color": "red",
          "width": 1.0548060936175927e-05
         },
         "locationmode": "geojson-id",
         "lon": [
          4.799,
          -1.976
         ],
         "mode": "lines",
         "name": "0 GW Pipeline",
         "showlegend": false,
         "text": "0.0",
         "type": "scattergeo"
        },
        {
         "lat": [
          46.809,
          53.282
         ],
         "line": {
          "color": "red",
          "width": 6.832871588217286e-06
         },
         "locationmode": "geojson-id",
         "lon": [
          3.156,
          -1.976
         ],
         "mode": "lines",
         "name": "0 GW Pipeline",
         "showlegend": false,
         "text": "0.0",
         "type": "scattergeo"
        },
        {
         "lat": [
          55.99,
          55.51
         ],
         "line": {
          "color": "red",
          "width": 0.10039395249895058
         },
         "locationmode": "geojson-id",
         "lon": [
          9.732,
          12.284
         ],
         "mode": "lines",
         "name": "0 GW Pipeline",
         "showlegend": false,
         "text": "0.0",
         "type": "scattergeo"
        },
        {
         "lat": [
          53.273,
          55.51
         ],
         "line": {
          "color": "red",
          "width": 2.9712605961416996e-05
         },
         "locationmode": "geojson-id",
         "lon": [
          9.879,
          12.284
         ],
         "mode": "lines",
         "name": "0 GW Pipeline",
         "showlegend": false,
         "text": "0.0",
         "type": "scattergeo"
        },
        {
         "lat": [
          51.572,
          61.358
         ],
         "line": {
          "color": "red",
          "width": 4.893338488496109e-06
         },
         "locationmode": "geojson-id",
         "lon": [
          18.902,
          16.278
         ],
         "mode": "lines",
         "name": "0 GW Pipeline",
         "showlegend": false,
         "text": "0.0",
         "type": "scattergeo"
        },
        {
         "lat": [
          55.99,
          52.374
         ],
         "line": {
          "color": "red",
          "width": 1.4846983474389019e-05
         },
         "locationmode": "geojson-id",
         "lon": [
          9.732,
          5.551
         ],
         "mode": "lines",
         "name": "0 GW Pipeline",
         "showlegend": false,
         "text": "0.0",
         "type": "scattergeo"
        },
        {
         "lat": [
          52.374,
          60.979
         ],
         "line": {
          "color": "red",
          "width": 5.45570998111495e-06
         },
         "locationmode": "geojson-id",
         "lon": [
          5.551,
          8.605
         ],
         "mode": "lines",
         "name": "0 GW Pipeline",
         "showlegend": false,
         "text": "0.0",
         "type": "scattergeo"
        },
        {
         "lat": [
          53.273,
          60.979
         ],
         "line": {
          "color": "red",
          "width": 6.343174008855177e-06
         },
         "locationmode": "geojson-id",
         "lon": [
          9.879,
          8.605
         ],
         "mode": "lines",
         "name": "0 GW Pipeline",
         "showlegend": false,
         "text": "0.0",
         "type": "scattergeo"
        },
        {
         "lat": [
          54.669,
          53.282
         ],
         "line": {
          "color": "red",
          "width": 1.9681133861004082e-05
         },
         "locationmode": "geojson-id",
         "lon": [
          -6.098,
          -1.976
         ],
         "mode": "lines",
         "name": "0 GW Pipeline",
         "showlegend": false,
         "text": "0.0",
         "type": "scattergeo"
        },
        {
         "lat": [
          53.282,
          52.8
         ],
         "line": {
          "color": "red",
          "width": 1.5124349525400296e-05
         },
         "locationmode": "geojson-id",
         "lon": [
          -1.976,
          -7.631
         ],
         "mode": "lines",
         "name": "0 GW Pipeline",
         "showlegend": false,
         "text": "0.0",
         "type": "scattergeo"
        },
        {
         "lat": [
          55.99,
          61.358
         ],
         "line": {
          "color": "red",
          "width": 8.82992274316093e-06
         },
         "locationmode": "geojson-id",
         "lon": [
          9.732,
          16.278
         ],
         "mode": "lines",
         "name": "0 GW Pipeline",
         "showlegend": false,
         "text": "0.0",
         "type": "scattergeo"
        },
        {
         "lat": [
          58.98,
          62.869
         ],
         "line": {
          "color": "red",
          "width": 0.0001343930708486717
         },
         "locationmode": "geojson-id",
         "lon": [
          25.879,
          25.051
         ],
         "mode": "lines",
         "name": "0 GW Pipeline",
         "showlegend": false,
         "text": "0.0",
         "type": "scattergeo"
        },
        {
         "lat": [
          55.99,
          53.282
         ],
         "line": {
          "color": "red",
          "width": 6.752633807390768e-06
         },
         "locationmode": "geojson-id",
         "lon": [
          9.732,
          -1.976
         ],
         "mode": "lines",
         "name": "0 GW Pipeline",
         "showlegend": false,
         "text": "0.0",
         "type": "scattergeo"
        },
        {
         "lat": [
          53.282,
          60.979
         ],
         "line": {
          "color": "red",
          "width": 4.879260797467785e-06
         },
         "locationmode": "geojson-id",
         "lon": [
          -1.976,
          8.605
         ],
         "mode": "lines",
         "name": "0 GW Pipeline",
         "showlegend": false,
         "text": "0.0",
         "type": "scattergeo"
        },
        {
         "lat": [
          48.652,
          53.273
         ],
         "line": {
          "color": "red",
          "width": 1.0620289542483658e-05
         },
         "locationmode": "geojson-id",
         "lon": [
          9.005,
          9.879
         ],
         "mode": "lines",
         "name": "0 GW Pipeline",
         "showlegend": false,
         "text": "0.0",
         "type": "scattergeo"
        },
        {
         "lat": [
          53.273,
          53.282
         ],
         "line": {
          "color": "red",
          "width": 6.792838581343968e-06
         },
         "locationmode": "geojson-id",
         "lon": [
          9.879,
          -1.976
         ],
         "mode": "lines",
         "name": "0 GW Pipeline",
         "showlegend": false,
         "text": "0.0",
         "type": "scattergeo"
        },
        {
         "lat": [
          55.197,
          61.358
         ],
         "line": {
          "color": "red",
          "width": 1.0869531538269099e-05
         },
         "locationmode": "geojson-id",
         "lon": [
          23.114,
          16.278
         ],
         "mode": "lines",
         "name": "0 GW Pipeline",
         "showlegend": false,
         "text": "0.0",
         "type": "scattergeo"
        },
        {
         "lat": [
          55.197,
          51.572
         ],
         "line": {
          "color": "red",
          "width": 2.482463367564467
         },
         "locationmode": "geojson-id",
         "lon": [
          23.114,
          18.902
         ],
         "mode": "lines",
         "name": "2 GW Pipeline",
         "showlegend": false,
         "text": "0.0",
         "type": "scattergeo"
        },
        {
         "lat": [
          55.99,
          60.979
         ],
         "line": {
          "color": "red",
          "width": 1.1437910281189976e-05
         },
         "locationmode": "geojson-id",
         "lon": [
          9.732,
          8.605
         ],
         "mode": "lines",
         "name": "0 GW Pipeline",
         "showlegend": false,
         "text": "0.0",
         "type": "scattergeo"
        },
        {
         "lat": [
          53.273,
          61.358
         ],
         "line": {
          "color": "red",
          "width": 5.607681754280413e-06
         },
         "locationmode": "geojson-id",
         "lon": [
          9.879,
          16.278
         ],
         "mode": "lines",
         "name": "0 GW Pipeline",
         "showlegend": false,
         "text": "0.0",
         "type": "scattergeo"
        },
        {
         "lat": [
          48.952,
          53.273
         ],
         "line": {
          "color": "red",
          "width": 1.4387729139415955e-05
         },
         "locationmode": "geojson-id",
         "lon": [
          11.262,
          9.879
         ],
         "mode": "lines",
         "name": "0 GW Pipeline",
         "showlegend": false,
         "text": "0.0",
         "type": "scattergeo"
        },
        {
         "hoverinfo": "text",
         "lat": [
          41.562,
          38.949
         ],
         "line": {
          "color": "blue",
          "width": 1.7180248834013747
         },
         "locationmode": "geojson-id",
         "lon": [
          19.895,
          22.73
         ],
         "mode": "lines",
         "name": "1 GW retrofitted Pipeline",
         "showlegend": false,
         "text": "0.0",
         "type": "scattergeo"
        },
        {
         "hoverinfo": "text",
         "lat": [
          41.562,
          43.584
         ],
         "line": {
          "color": "blue",
          "width": 1.0488964216777268
         },
         "locationmode": "geojson-id",
         "lon": [
          19.895,
          11.707
         ],
         "mode": "lines",
         "name": "1 GW retrofitted Pipeline",
         "showlegend": false,
         "text": "0.0",
         "type": "scattergeo"
        },
        {
         "hoverinfo": "text",
         "lat": [
          47.746,
          47.217
         ],
         "line": {
          "color": "blue",
          "width": 1.6113245427724232
         },
         "locationmode": "geojson-id",
         "lon": [
          16.608,
          18.879
         ],
         "mode": "lines",
         "name": "1 GW retrofitted Pipeline",
         "showlegend": false,
         "text": "0.0",
         "type": "scattergeo"
        },
        {
         "hoverinfo": "text",
         "lat": [
          48.116,
          48.653
         ],
         "line": {
          "color": "blue",
          "width": 1.9379228918964497
         },
         "locationmode": "geojson-id",
         "lon": [
          15.661,
          19.028
         ],
         "mode": "lines",
         "name": "1 GW retrofitted Pipeline",
         "showlegend": false,
         "text": "0.0",
         "type": "scattergeo"
        },
        {
         "hoverinfo": "text",
         "lat": [
          46.615,
          43.584
         ],
         "line": {
          "color": "blue",
          "width": 1.1079212533282845
         },
         "locationmode": "geojson-id",
         "lon": [
          14.142,
          11.707
         ],
         "mode": "lines",
         "name": "1 GW retrofitted Pipeline",
         "showlegend": false,
         "text": "0.0",
         "type": "scattergeo"
        },
        {
         "hoverinfo": "text",
         "lat": [
          47.173,
          46.121
         ],
         "line": {
          "color": "blue",
          "width": 3.9854375
         },
         "locationmode": "geojson-id",
         "lon": [
          15.017,
          14.805
         ],
         "mode": "lines",
         "name": "3 GW retrofitted Pipeline",
         "showlegend": true,
         "text": "0.0",
         "type": "scattergeo"
        },
        {
         "hoverinfo": "text",
         "lat": [
          48.047,
          48.952
         ],
         "line": {
          "color": "blue",
          "width": 23.355353733117262
         },
         "locationmode": "geojson-id",
         "lon": [
          13.997,
          11.262
         ],
         "mode": "lines",
         "name": "23 GW retrofitted Pipeline",
         "showlegend": false,
         "text": "0.0",
         "type": "scattergeo"
        },
        {
         "hoverinfo": "text",
         "lat": [
          47.215,
          48.952
         ],
         "line": {
          "color": "blue",
          "width": 0.8216666666666667
         },
         "locationmode": "geojson-id",
         "lon": [
          10.935,
          11.262
         ],
         "mode": "lines",
         "name": "0 GW retrofitted Pipeline",
         "showlegend": false,
         "text": "0.0",
         "type": "scattergeo"
        },
        {
         "hoverinfo": "text",
         "lat": [
          43.811,
          44.073
         ],
         "line": {
          "color": "blue",
          "width": 0.5029166666666666
         },
         "locationmode": "geojson-id",
         "lon": [
          18.123,
          20.687
         ],
         "mode": "lines",
         "name": "0 GW retrofitted Pipeline",
         "showlegend": false,
         "text": "0.0",
         "type": "scattergeo"
        },
        {
         "hoverinfo": "text",
         "lat": [
          50.743,
          50.837
         ],
         "line": {
          "color": "blue",
          "width": 5.599340423788007
         },
         "locationmode": "geojson-id",
         "lon": [
          4.799,
          7.683
         ],
         "mode": "lines",
         "name": "5 GW retrofitted Pipeline",
         "showlegend": false,
         "text": "0.0",
         "type": "scattergeo"
        },
        {
         "hoverinfo": "text",
         "lat": [
          50.743,
          46.809
         ],
         "line": {
          "color": "blue",
          "width": 15.233053576185075
         },
         "locationmode": "geojson-id",
         "lon": [
          4.799,
          3.156
         ],
         "mode": "lines",
         "name": "15 GW retrofitted Pipeline",
         "showlegend": false,
         "text": "0.0",
         "type": "scattergeo"
        },
        {
         "hoverinfo": "text",
         "lat": [
          50.743,
          53.282
         ],
         "line": {
          "color": "blue",
          "width": 28.45375
         },
         "locationmode": "geojson-id",
         "lon": [
          4.799,
          -1.976
         ],
         "mode": "lines",
         "name": "28 GW retrofitted Pipeline",
         "showlegend": false,
         "text": "0.0",
         "type": "scattergeo"
        },
        {
         "hoverinfo": "text",
         "lat": [
          50.743,
          49.677
         ],
         "line": {
          "color": "blue",
          "width": 0.22357947954070753
         },
         "locationmode": "geojson-id",
         "lon": [
          4.799,
          6.131
         ],
         "mode": "lines",
         "name": "0 GW retrofitted Pipeline",
         "showlegend": false,
         "text": "0.0",
         "type": "scattergeo"
        },
        {
         "hoverinfo": "text",
         "lat": [
          50.743,
          52.374
         ],
         "line": {
          "color": "blue",
          "width": 35.263547988180584
         },
         "locationmode": "geojson-id",
         "lon": [
          4.799,
          5.551
         ],
         "mode": "lines",
         "name": "35 GW retrofitted Pipeline",
         "showlegend": false,
         "text": "0.0",
         "type": "scattergeo"
        },
        {
         "hoverinfo": "text",
         "lat": [
          42.765,
          38.949
         ],
         "line": {
          "color": "blue",
          "width": 3.825
         },
         "locationmode": "geojson-id",
         "lon": [
          24.674,
          22.73
         ],
         "mode": "lines",
         "name": "3 GW retrofitted Pipeline",
         "showlegend": false,
         "text": "0.0",
         "type": "scattergeo"
        },
        {
         "hoverinfo": "text",
         "lat": [
          42.765,
          41.581
         ],
         "line": {
          "color": "blue",
          "width": 0.108508140164181
         },
         "locationmode": "geojson-id",
         "lon": [
          24.674,
          21.587
         ],
         "mode": "lines",
         "name": "0 GW retrofitted Pipeline",
         "showlegend": false,
         "text": "0.0",
         "type": "scattergeo"
        },
        {
         "hoverinfo": "text",
         "lat": [
          42.765,
          45.56
         ],
         "line": {
          "color": "blue",
          "width": 4.258643186946945
         },
         "locationmode": "geojson-id",
         "lon": [
          24.674,
          25.046
         ],
         "mode": "lines",
         "name": "4 GW retrofitted Pipeline",
         "showlegend": false,
         "text": "0.0",
         "type": "scattergeo"
        },
        {
         "hoverinfo": "text",
         "lat": [
          46.823,
          48.652
         ],
         "line": {
          "color": "blue",
          "width": 20.612145833333336
         },
         "locationmode": "geojson-id",
         "lon": [
          8.208,
          9.005
         ],
         "mode": "lines",
         "name": "20 GW retrofitted Pipeline",
         "showlegend": false,
         "text": "0.0",
         "type": "scattergeo"
        },
        {
         "hoverinfo": "text",
         "lat": [
          46.823,
          46.809
         ],
         "line": {
          "color": "blue",
          "width": 9.35
         },
         "locationmode": "geojson-id",
         "lon": [
          8.208,
          3.156
         ],
         "mode": "lines",
         "name": "9 GW retrofitted Pipeline",
         "showlegend": true,
         "text": "0.0",
         "type": "scattergeo"
        },
        {
         "hoverinfo": "text",
         "lat": [
          46.823,
          43.584
         ],
         "line": {
          "color": "blue",
          "width": 10.895383667865007
         },
         "locationmode": "geojson-id",
         "lon": [
          8.208,
          11.707
         ],
         "mode": "lines",
         "name": "10 GW retrofitted Pipeline",
         "showlegend": false,
         "text": "0.0",
         "type": "scattergeo"
        },
        {
         "hoverinfo": "text",
         "lat": [
          49.843,
          48.952
         ],
         "line": {
          "color": "blue",
          "width": 14.724694594385493
         },
         "locationmode": "geojson-id",
         "lon": [
          15.238,
          11.262
         ],
         "mode": "lines",
         "name": "14 GW retrofitted Pipeline",
         "showlegend": false,
         "text": "0.0",
         "type": "scattergeo"
        },
        {
         "hoverinfo": "text",
         "lat": [
          49.843,
          51.879
         ],
         "line": {
          "color": "blue",
          "width": 31.63854735105509
         },
         "locationmode": "geojson-id",
         "lon": [
          15.238,
          12.917
         ],
         "mode": "lines",
         "name": "31 GW retrofitted Pipeline",
         "showlegend": false,
         "text": "0.0",
         "type": "scattergeo"
        },
        {
         "hoverinfo": "text",
         "lat": [
          49.843,
          51.572
         ],
         "line": {
          "color": "blue",
          "width": 1.4570694684940836e-05
         },
         "locationmode": "geojson-id",
         "lon": [
          15.238,
          18.902
         ],
         "mode": "lines",
         "name": "0 GW retrofitted Pipeline",
         "showlegend": false,
         "text": "0.0",
         "type": "scattergeo"
        },
        {
         "hoverinfo": "text",
         "lat": [
          49.843,
          48.653
         ],
         "line": {
          "color": "blue",
          "width": 12.529948987798655
         },
         "locationmode": "geojson-id",
         "lon": [
          15.238,
          19.028
         ],
         "mode": "lines",
         "name": "12 GW retrofitted Pipeline",
         "showlegend": false,
         "text": "0.0",
         "type": "scattergeo"
        },
        {
         "hoverinfo": "text",
         "lat": [
          48.952,
          48.652
         ],
         "line": {
          "color": "blue",
          "width": 3.881788446205749e-05
         },
         "locationmode": "geojson-id",
         "lon": [
          11.262,
          9.005
         ],
         "mode": "lines",
         "name": "0 GW retrofitted Pipeline",
         "showlegend": false,
         "text": "0.0",
         "type": "scattergeo"
        },
        {
         "hoverinfo": "text",
         "lat": [
          48.952,
          50.837
         ],
         "line": {
          "color": "blue",
          "width": 4.225290415500871
         },
         "locationmode": "geojson-id",
         "lon": [
          11.262,
          7.683
         ],
         "mode": "lines",
         "name": "4 GW retrofitted Pipeline",
         "showlegend": false,
         "text": "0.0",
         "type": "scattergeo"
        },
        {
         "hoverinfo": "text",
         "lat": [
          48.652,
          50.837
         ],
         "line": {
          "color": "blue",
          "width": 23.437261901761733
         },
         "locationmode": "geojson-id",
         "lon": [
          9.005,
          7.683
         ],
         "mode": "lines",
         "name": "23 GW retrofitted Pipeline",
         "showlegend": false,
         "text": "0.0",
         "type": "scattergeo"
        },
        {
         "hoverinfo": "text",
         "lat": [
          50.837,
          51.879
         ],
         "line": {
          "color": "blue",
          "width": 4.543075502327822e-05
         },
         "locationmode": "geojson-id",
         "lon": [
          7.683,
          12.917
         ],
         "mode": "lines",
         "name": "0 GW retrofitted Pipeline",
         "showlegend": false,
         "text": "0.0",
         "type": "scattergeo"
        },
        {
         "hoverinfo": "text",
         "lat": [
          50.837,
          53.273
         ],
         "line": {
          "color": "blue",
          "width": 15.420342022041751
         },
         "locationmode": "geojson-id",
         "lon": [
          7.683,
          9.879
         ],
         "mode": "lines",
         "name": "15 GW retrofitted Pipeline",
         "showlegend": false,
         "text": "0.0",
         "type": "scattergeo"
        },
        {
         "hoverinfo": "text",
         "lat": [
          50.837,
          46.809
         ],
         "line": {
          "color": "blue",
          "width": 20.576372533099875
         },
         "locationmode": "geojson-id",
         "lon": [
          7.683,
          3.156
         ],
         "mode": "lines",
         "name": "20 GW retrofitted Pipeline",
         "showlegend": false,
         "text": "0.0",
         "type": "scattergeo"
        },
        {
         "hoverinfo": "text",
         "lat": [
          50.837,
          49.677
         ],
         "line": {
          "color": "blue",
          "width": 0.2228534098411705
         },
         "locationmode": "geojson-id",
         "lon": [
          7.683,
          6.131
         ],
         "mode": "lines",
         "name": "0 GW retrofitted Pipeline",
         "showlegend": false,
         "text": "0.0",
         "type": "scattergeo"
        },
        {
         "hoverinfo": "text",
         "lat": [
          50.837,
          52.374
         ],
         "line": {
          "color": "blue",
          "width": 2.94125286872622
         },
         "locationmode": "geojson-id",
         "lon": [
          7.683,
          5.551
         ],
         "mode": "lines",
         "name": "2 GW retrofitted Pipeline",
         "showlegend": false,
         "text": "0.0",
         "type": "scattergeo"
        },
        {
         "hoverinfo": "text",
         "lat": [
          51.879,
          53.273
         ],
         "line": {
          "color": "blue",
          "width": 2.369869420986786
         },
         "locationmode": "geojson-id",
         "lon": [
          12.917,
          9.879
         ],
         "mode": "lines",
         "name": "2 GW retrofitted Pipeline",
         "showlegend": false,
         "text": "0.0",
         "type": "scattergeo"
        },
        {
         "hoverinfo": "text",
         "lat": [
          51.879,
          51.572
         ],
         "line": {
          "color": "blue",
          "width": 18.95815661652596
         },
         "locationmode": "geojson-id",
         "lon": [
          12.917,
          18.902
         ],
         "mode": "lines",
         "name": "18 GW retrofitted Pipeline",
         "showlegend": false,
         "text": "0.0",
         "type": "scattergeo"
        },
        {
         "hoverinfo": "text",
         "lat": [
          53.273,
          55.99
         ],
         "line": {
          "color": "blue",
          "width": 2.14625
         },
         "locationmode": "geojson-id",
         "lon": [
          9.879,
          9.732
         ],
         "mode": "lines",
         "name": "2 GW retrofitted Pipeline",
         "showlegend": false,
         "text": "0.0",
         "type": "scattergeo"
        },
        {
         "hoverinfo": "text",
         "lat": [
          53.273,
          52.374
         ],
         "line": {
          "color": "blue",
          "width": 0.9253154196770111
         },
         "locationmode": "geojson-id",
         "lon": [
          9.879,
          5.551
         ],
         "mode": "lines",
         "name": "0 GW retrofitted Pipeline",
         "showlegend": false,
         "text": "0.0",
         "type": "scattergeo"
        },
        {
         "hoverinfo": "text",
         "lat": [
          53.273,
          60.979
         ],
         "line": {
          "color": "blue",
          "width": 0.9616931345550492
         },
         "locationmode": "geojson-id",
         "lon": [
          9.879,
          8.605
         ],
         "mode": "lines",
         "name": "0 GW retrofitted Pipeline",
         "showlegend": false,
         "text": "0.0",
         "type": "scattergeo"
        },
        {
         "hoverinfo": "text",
         "lat": [
          55.51,
          61.358
         ],
         "line": {
          "color": "blue",
          "width": 3.1166666666666667
         },
         "locationmode": "geojson-id",
         "lon": [
          12.284,
          16.278
         ],
         "mode": "lines",
         "name": "3 GW retrofitted Pipeline",
         "showlegend": false,
         "text": "0.0",
         "type": "scattergeo"
        },
        {
         "hoverinfo": "text",
         "lat": [
          58.98,
          56.839
         ],
         "line": {
          "color": "blue",
          "width": 2.5145833333333334
         },
         "locationmode": "geojson-id",
         "lon": [
          25.879,
          23.725
         ],
         "mode": "lines",
         "name": "2 GW retrofitted Pipeline",
         "showlegend": false,
         "text": "0.0",
         "type": "scattergeo"
        },
        {
         "hoverinfo": "text",
         "lat": [
          40.601,
          46.809
         ],
         "line": {
          "color": "blue",
          "width": 6.020833333333333
         },
         "locationmode": "geojson-id",
         "lon": [
          -3.434,
          3.156
         ],
         "mode": "lines",
         "name": "6 GW retrofitted Pipeline",
         "showlegend": false,
         "text": "0.0",
         "type": "scattergeo"
        },
        {
         "hoverinfo": "text",
         "lat": [
          40.601,
          40.262
         ],
         "line": {
          "color": "blue",
          "width": 1.0845373430653127
         },
         "locationmode": "geojson-id",
         "lon": [
          -3.434,
          -8.299
         ],
         "mode": "lines",
         "name": "1 GW retrofitted Pipeline",
         "showlegend": false,
         "text": "0.0",
         "type": "scattergeo"
        },
        {
         "hoverinfo": "text",
         "lat": [
          54.669,
          53.282
         ],
         "line": {
          "color": "blue",
          "width": 3.1520833333333327
         },
         "locationmode": "geojson-id",
         "lon": [
          -6.098,
          -1.976
         ],
         "mode": "lines",
         "name": "3 GW retrofitted Pipeline",
         "showlegend": false,
         "text": "0.0",
         "type": "scattergeo"
        },
        {
         "hoverinfo": "text",
         "lat": [
          53.282,
          52.8
         ],
         "line": {
          "color": "blue",
          "width": 5.186782773817815
         },
         "locationmode": "geojson-id",
         "lon": [
          -1.976,
          -7.631
         ],
         "mode": "lines",
         "name": "5 GW retrofitted Pipeline",
         "showlegend": false,
         "text": "0.0",
         "type": "scattergeo"
        },
        {
         "hoverinfo": "text",
         "lat": [
          53.282,
          52.374
         ],
         "line": {
          "color": "blue",
          "width": 17.495833333333334
         },
         "locationmode": "geojson-id",
         "lon": [
          -1.976,
          5.551
         ],
         "mode": "lines",
         "name": "17 GW retrofitted Pipeline",
         "showlegend": false,
         "text": "0.0",
         "type": "scattergeo"
        },
        {
         "hoverinfo": "text",
         "lat": [
          38.949,
          43.584
         ],
         "line": {
          "color": "blue",
          "width": 13.90849629132628
         },
         "locationmode": "geojson-id",
         "lon": [
          22.73,
          11.707
         ],
         "mode": "lines",
         "name": "13 GW retrofitted Pipeline",
         "showlegend": false,
         "text": "0.0",
         "type": "scattergeo"
        },
        {
         "hoverinfo": "text",
         "lat": [
          45.207,
          47.217
         ],
         "line": {
          "color": "blue",
          "width": 0.66816407266962
         },
         "locationmode": "geojson-id",
         "lon": [
          16.158,
          18.879
         ],
         "mode": "lines",
         "name": "0 GW retrofitted Pipeline",
         "showlegend": false,
         "text": "0.0",
         "type": "scattergeo"
        },
        {
         "hoverinfo": "text",
         "lat": [
          45.207,
          46.121
         ],
         "line": {
          "color": "blue",
          "width": 1.8770833333333332
         },
         "locationmode": "geojson-id",
         "lon": [
          16.158,
          14.805
         ],
         "mode": "lines",
         "name": "1 GW retrofitted Pipeline",
         "showlegend": false,
         "text": "0.0",
         "type": "scattergeo"
        },
        {
         "hoverinfo": "text",
         "lat": [
          47.217,
          45.56
         ],
         "line": {
          "color": "blue",
          "width": 0.6378895098836601
         },
         "locationmode": "geojson-id",
         "lon": [
          18.879,
          25.046
         ],
         "mode": "lines",
         "name": "0 GW retrofitted Pipeline",
         "showlegend": false,
         "text": "0.0",
         "type": "scattergeo"
        },
        {
         "hoverinfo": "text",
         "lat": [
          47.217,
          44.073
         ],
         "line": {
          "color": "blue",
          "width": 1.556839549371921
         },
         "locationmode": "geojson-id",
         "lon": [
          18.879,
          20.687
         ],
         "mode": "lines",
         "name": "1 GW retrofitted Pipeline",
         "showlegend": false,
         "text": "0.0",
         "type": "scattergeo"
        },
        {
         "hoverinfo": "text",
         "lat": [
          47.217,
          48.653
         ],
         "line": {
          "color": "blue",
          "width": 4.493666666666667
         },
         "locationmode": "geojson-id",
         "lon": [
          18.879,
          19.028
         ],
         "mode": "lines",
         "name": "4 GW retrofitted Pipeline",
         "showlegend": false,
         "text": "0.0",
         "type": "scattergeo"
        },
        {
         "hoverinfo": "text",
         "lat": [
          43.584,
          46.121
         ],
         "line": {
          "color": "blue",
          "width": 1.3397913142942813e-05
         },
         "locationmode": "geojson-id",
         "lon": [
          11.707,
          14.805
         ],
         "mode": "lines",
         "name": "0 GW retrofitted Pipeline",
         "showlegend": false,
         "text": "0.0",
         "type": "scattergeo"
        },
        {
         "hoverinfo": "text",
         "lat": [
          55.197,
          56.839
         ],
         "line": {
          "color": "blue",
          "width": 2.3870833333333334
         },
         "locationmode": "geojson-id",
         "lon": [
          23.114,
          23.725
         ],
         "mode": "lines",
         "name": "2 GW retrofitted Pipeline",
         "showlegend": false,
         "text": "0.0",
         "type": "scattergeo"
        },
        {
         "hoverinfo": "text",
         "lat": [
          48.116,
          48.133
         ],
         "line": {
          "color": "blue",
          "width": 5.071581513560659
         },
         "locationmode": "geojson-id",
         "lon": [
          15.661,
          16.357
         ],
         "mode": "lines",
         "name": "5 GW retrofitted Pipeline",
         "showlegend": false,
         "text": "0.0",
         "type": "scattergeo"
        },
        {
         "hoverinfo": "text",
         "lat": [
          48.116,
          48.047
         ],
         "line": {
          "color": "blue",
          "width": 10.886651424799918
         },
         "locationmode": "geojson-id",
         "lon": [
          15.661,
          13.997
         ],
         "mode": "lines",
         "name": "10 GW retrofitted Pipeline",
         "showlegend": false,
         "text": "0.0",
         "type": "scattergeo"
        },
        {
         "hoverinfo": "text",
         "lat": [
          47.173,
          48.047
         ],
         "line": {
          "color": "blue",
          "width": 9.303919501321486
         },
         "locationmode": "geojson-id",
         "lon": [
          15.017,
          13.997
         ],
         "mode": "lines",
         "name": "9 GW retrofitted Pipeline",
         "showlegend": false,
         "text": "0.0",
         "type": "scattergeo"
        },
        {
         "hoverinfo": "text",
         "lat": [
          47.173,
          47.215
         ],
         "line": {
          "color": "blue",
          "width": 2.713505525649307
         },
         "locationmode": "geojson-id",
         "lon": [
          15.017,
          10.935
         ],
         "mode": "lines",
         "name": "2 GW retrofitted Pipeline",
         "showlegend": false,
         "text": "0.0",
         "type": "scattergeo"
        },
        {
         "hoverinfo": "text",
         "lat": [
          46.615,
          47.215
         ],
         "line": {
          "color": "blue",
          "width": 1.8334864332584686
         },
         "locationmode": "geojson-id",
         "lon": [
          14.142,
          10.935
         ],
         "mode": "lines",
         "name": "1 GW retrofitted Pipeline",
         "showlegend": false,
         "text": "0.0",
         "type": "scattergeo"
        },
        {
         "hoverinfo": "text",
         "lat": [
          46.615,
          47.562
         ],
         "line": {
          "color": "blue",
          "width": 1.1641587607858832
         },
         "locationmode": "geojson-id",
         "lon": [
          14.142,
          12.77
         ],
         "mode": "lines",
         "name": "1 GW retrofitted Pipeline",
         "showlegend": false,
         "text": "0.0",
         "type": "scattergeo"
        },
        {
         "hoverinfo": "text",
         "lat": [
          47.562,
          47.32
         ],
         "line": {
          "color": "blue",
          "width": 0.2860700337310086
         },
         "locationmode": "geojson-id",
         "lon": [
          12.77,
          9.717
         ],
         "mode": "lines",
         "name": "0 GW retrofitted Pipeline",
         "showlegend": false,
         "text": "0.0",
         "type": "scattergeo"
        },
        {
         "hoverinfo": "text",
         "lat": [
          47.746,
          47.32
         ],
         "line": {
          "color": "blue",
          "width": 0.01524551251315148
         },
         "locationmode": "geojson-id",
         "lon": [
          16.608,
          9.717
         ],
         "mode": "lines",
         "name": "0 GW retrofitted Pipeline",
         "showlegend": false,
         "text": "0.0",
         "type": "scattergeo"
        },
        {
         "hoverinfo": "text",
         "lat": [
          47.746,
          46.798
         ],
         "line": {
          "color": "blue",
          "width": 0.10862392414931346
         },
         "locationmode": "geojson-id",
         "lon": [
          16.608,
          12.693
         ],
         "mode": "lines",
         "name": "0 GW retrofitted Pipeline",
         "showlegend": false,
         "text": "0.0",
         "type": "scattergeo"
        },
        {
         "hoverinfo": "text",
         "lat": [
          55.99,
          55.51
         ],
         "line": {
          "color": "blue",
          "width": 1.9450149009108535
         },
         "locationmode": "geojson-id",
         "lon": [
          9.732,
          12.284
         ],
         "mode": "lines",
         "name": "1 GW retrofitted Pipeline",
         "showlegend": false,
         "text": "0.0",
         "type": "scattergeo"
        },
        {
         "hoverinfo": "text",
         "lat": [
          40.601,
          39.673
         ],
         "line": {
          "color": "blue",
          "width": 0.16613805162347964
         },
         "locationmode": "geojson-id",
         "lon": [
          -3.434,
          2.739
         ],
         "mode": "lines",
         "name": "0 GW retrofitted Pipeline",
         "showlegend": false,
         "text": "0.0",
         "type": "scattergeo"
        },
        {
         "hoverinfo": "text",
         "lat": [
          43.584,
          39.968
         ],
         "line": {
          "color": "blue",
          "width": 2.0299329511988384
         },
         "locationmode": "geojson-id",
         "lon": [
          11.707,
          8.746
         ],
         "mode": "lines",
         "name": "2 GW retrofitted Pipeline",
         "showlegend": false,
         "text": "0.0",
         "type": "scattergeo"
        }
       ],
       "layout": {
        "autosize": false,
        "geo": {
         "center": {
          "lat": 77.91640137743775,
          "lon": 71.79504085679345
         },
         "countrycolor": "Black",
         "projection": {
          "scale": 0.43527528164806223
         },
         "resolution": 50,
         "scope": "europe",
         "showcountries": true,
         "visible": false
        },
        "height": 1000,
        "template": {
         "data": {
          "bar": [
           {
            "error_x": {
             "color": "#2a3f5f"
            },
            "error_y": {
             "color": "#2a3f5f"
            },
            "marker": {
             "line": {
              "color": "#E5ECF6",
              "width": 0.5
             },
             "pattern": {
              "fillmode": "overlay",
              "size": 10,
              "solidity": 0.2
             }
            },
            "type": "bar"
           }
          ],
          "barpolar": [
           {
            "marker": {
             "line": {
              "color": "#E5ECF6",
              "width": 0.5
             },
             "pattern": {
              "fillmode": "overlay",
              "size": 10,
              "solidity": 0.2
             }
            },
            "type": "barpolar"
           }
          ],
          "carpet": [
           {
            "aaxis": {
             "endlinecolor": "#2a3f5f",
             "gridcolor": "white",
             "linecolor": "white",
             "minorgridcolor": "white",
             "startlinecolor": "#2a3f5f"
            },
            "baxis": {
             "endlinecolor": "#2a3f5f",
             "gridcolor": "white",
             "linecolor": "white",
             "minorgridcolor": "white",
             "startlinecolor": "#2a3f5f"
            },
            "type": "carpet"
           }
          ],
          "choropleth": [
           {
            "colorbar": {
             "outlinewidth": 0,
             "ticks": ""
            },
            "type": "choropleth"
           }
          ],
          "contour": [
           {
            "colorbar": {
             "outlinewidth": 0,
             "ticks": ""
            },
            "colorscale": [
             [
              0,
              "#0d0887"
             ],
             [
              0.1111111111111111,
              "#46039f"
             ],
             [
              0.2222222222222222,
              "#7201a8"
             ],
             [
              0.3333333333333333,
              "#9c179e"
             ],
             [
              0.4444444444444444,
              "#bd3786"
             ],
             [
              0.5555555555555556,
              "#d8576b"
             ],
             [
              0.6666666666666666,
              "#ed7953"
             ],
             [
              0.7777777777777778,
              "#fb9f3a"
             ],
             [
              0.8888888888888888,
              "#fdca26"
             ],
             [
              1,
              "#f0f921"
             ]
            ],
            "type": "contour"
           }
          ],
          "contourcarpet": [
           {
            "colorbar": {
             "outlinewidth": 0,
             "ticks": ""
            },
            "type": "contourcarpet"
           }
          ],
          "heatmap": [
           {
            "colorbar": {
             "outlinewidth": 0,
             "ticks": ""
            },
            "colorscale": [
             [
              0,
              "#0d0887"
             ],
             [
              0.1111111111111111,
              "#46039f"
             ],
             [
              0.2222222222222222,
              "#7201a8"
             ],
             [
              0.3333333333333333,
              "#9c179e"
             ],
             [
              0.4444444444444444,
              "#bd3786"
             ],
             [
              0.5555555555555556,
              "#d8576b"
             ],
             [
              0.6666666666666666,
              "#ed7953"
             ],
             [
              0.7777777777777778,
              "#fb9f3a"
             ],
             [
              0.8888888888888888,
              "#fdca26"
             ],
             [
              1,
              "#f0f921"
             ]
            ],
            "type": "heatmap"
           }
          ],
          "heatmapgl": [
           {
            "colorbar": {
             "outlinewidth": 0,
             "ticks": ""
            },
            "colorscale": [
             [
              0,
              "#0d0887"
             ],
             [
              0.1111111111111111,
              "#46039f"
             ],
             [
              0.2222222222222222,
              "#7201a8"
             ],
             [
              0.3333333333333333,
              "#9c179e"
             ],
             [
              0.4444444444444444,
              "#bd3786"
             ],
             [
              0.5555555555555556,
              "#d8576b"
             ],
             [
              0.6666666666666666,
              "#ed7953"
             ],
             [
              0.7777777777777778,
              "#fb9f3a"
             ],
             [
              0.8888888888888888,
              "#fdca26"
             ],
             [
              1,
              "#f0f921"
             ]
            ],
            "type": "heatmapgl"
           }
          ],
          "histogram": [
           {
            "marker": {
             "pattern": {
              "fillmode": "overlay",
              "size": 10,
              "solidity": 0.2
             }
            },
            "type": "histogram"
           }
          ],
          "histogram2d": [
           {
            "colorbar": {
             "outlinewidth": 0,
             "ticks": ""
            },
            "colorscale": [
             [
              0,
              "#0d0887"
             ],
             [
              0.1111111111111111,
              "#46039f"
             ],
             [
              0.2222222222222222,
              "#7201a8"
             ],
             [
              0.3333333333333333,
              "#9c179e"
             ],
             [
              0.4444444444444444,
              "#bd3786"
             ],
             [
              0.5555555555555556,
              "#d8576b"
             ],
             [
              0.6666666666666666,
              "#ed7953"
             ],
             [
              0.7777777777777778,
              "#fb9f3a"
             ],
             [
              0.8888888888888888,
              "#fdca26"
             ],
             [
              1,
              "#f0f921"
             ]
            ],
            "type": "histogram2d"
           }
          ],
          "histogram2dcontour": [
           {
            "colorbar": {
             "outlinewidth": 0,
             "ticks": ""
            },
            "colorscale": [
             [
              0,
              "#0d0887"
             ],
             [
              0.1111111111111111,
              "#46039f"
             ],
             [
              0.2222222222222222,
              "#7201a8"
             ],
             [
              0.3333333333333333,
              "#9c179e"
             ],
             [
              0.4444444444444444,
              "#bd3786"
             ],
             [
              0.5555555555555556,
              "#d8576b"
             ],
             [
              0.6666666666666666,
              "#ed7953"
             ],
             [
              0.7777777777777778,
              "#fb9f3a"
             ],
             [
              0.8888888888888888,
              "#fdca26"
             ],
             [
              1,
              "#f0f921"
             ]
            ],
            "type": "histogram2dcontour"
           }
          ],
          "mesh3d": [
           {
            "colorbar": {
             "outlinewidth": 0,
             "ticks": ""
            },
            "type": "mesh3d"
           }
          ],
          "parcoords": [
           {
            "line": {
             "colorbar": {
              "outlinewidth": 0,
              "ticks": ""
             }
            },
            "type": "parcoords"
           }
          ],
          "pie": [
           {
            "automargin": true,
            "type": "pie"
           }
          ],
          "scatter": [
           {
            "fillpattern": {
             "fillmode": "overlay",
             "size": 10,
             "solidity": 0.2
            },
            "type": "scatter"
           }
          ],
          "scatter3d": [
           {
            "line": {
             "colorbar": {
              "outlinewidth": 0,
              "ticks": ""
             }
            },
            "marker": {
             "colorbar": {
              "outlinewidth": 0,
              "ticks": ""
             }
            },
            "type": "scatter3d"
           }
          ],
          "scattercarpet": [
           {
            "marker": {
             "colorbar": {
              "outlinewidth": 0,
              "ticks": ""
             }
            },
            "type": "scattercarpet"
           }
          ],
          "scattergeo": [
           {
            "marker": {
             "colorbar": {
              "outlinewidth": 0,
              "ticks": ""
             }
            },
            "type": "scattergeo"
           }
          ],
          "scattergl": [
           {
            "marker": {
             "colorbar": {
              "outlinewidth": 0,
              "ticks": ""
             }
            },
            "type": "scattergl"
           }
          ],
          "scattermapbox": [
           {
            "marker": {
             "colorbar": {
              "outlinewidth": 0,
              "ticks": ""
             }
            },
            "type": "scattermapbox"
           }
          ],
          "scatterpolar": [
           {
            "marker": {
             "colorbar": {
              "outlinewidth": 0,
              "ticks": ""
             }
            },
            "type": "scatterpolar"
           }
          ],
          "scatterpolargl": [
           {
            "marker": {
             "colorbar": {
              "outlinewidth": 0,
              "ticks": ""
             }
            },
            "type": "scatterpolargl"
           }
          ],
          "scatterternary": [
           {
            "marker": {
             "colorbar": {
              "outlinewidth": 0,
              "ticks": ""
             }
            },
            "type": "scatterternary"
           }
          ],
          "surface": [
           {
            "colorbar": {
             "outlinewidth": 0,
             "ticks": ""
            },
            "colorscale": [
             [
              0,
              "#0d0887"
             ],
             [
              0.1111111111111111,
              "#46039f"
             ],
             [
              0.2222222222222222,
              "#7201a8"
             ],
             [
              0.3333333333333333,
              "#9c179e"
             ],
             [
              0.4444444444444444,
              "#bd3786"
             ],
             [
              0.5555555555555556,
              "#d8576b"
             ],
             [
              0.6666666666666666,
              "#ed7953"
             ],
             [
              0.7777777777777778,
              "#fb9f3a"
             ],
             [
              0.8888888888888888,
              "#fdca26"
             ],
             [
              1,
              "#f0f921"
             ]
            ],
            "type": "surface"
           }
          ],
          "table": [
           {
            "cells": {
             "fill": {
              "color": "#EBF0F8"
             },
             "line": {
              "color": "white"
             }
            },
            "header": {
             "fill": {
              "color": "#C8D4E3"
             },
             "line": {
              "color": "white"
             }
            },
            "type": "table"
           }
          ]
         },
         "layout": {
          "annotationdefaults": {
           "arrowcolor": "#2a3f5f",
           "arrowhead": 0,
           "arrowwidth": 1
          },
          "autotypenumbers": "strict",
          "coloraxis": {
           "colorbar": {
            "outlinewidth": 0,
            "ticks": ""
           }
          },
          "colorscale": {
           "diverging": [
            [
             0,
             "#8e0152"
            ],
            [
             0.1,
             "#c51b7d"
            ],
            [
             0.2,
             "#de77ae"
            ],
            [
             0.3,
             "#f1b6da"
            ],
            [
             0.4,
             "#fde0ef"
            ],
            [
             0.5,
             "#f7f7f7"
            ],
            [
             0.6,
             "#e6f5d0"
            ],
            [
             0.7,
             "#b8e186"
            ],
            [
             0.8,
             "#7fbc41"
            ],
            [
             0.9,
             "#4d9221"
            ],
            [
             1,
             "#276419"
            ]
           ],
           "sequential": [
            [
             0,
             "#0d0887"
            ],
            [
             0.1111111111111111,
             "#46039f"
            ],
            [
             0.2222222222222222,
             "#7201a8"
            ],
            [
             0.3333333333333333,
             "#9c179e"
            ],
            [
             0.4444444444444444,
             "#bd3786"
            ],
            [
             0.5555555555555556,
             "#d8576b"
            ],
            [
             0.6666666666666666,
             "#ed7953"
            ],
            [
             0.7777777777777778,
             "#fb9f3a"
            ],
            [
             0.8888888888888888,
             "#fdca26"
            ],
            [
             1,
             "#f0f921"
            ]
           ],
           "sequentialminus": [
            [
             0,
             "#0d0887"
            ],
            [
             0.1111111111111111,
             "#46039f"
            ],
            [
             0.2222222222222222,
             "#7201a8"
            ],
            [
             0.3333333333333333,
             "#9c179e"
            ],
            [
             0.4444444444444444,
             "#bd3786"
            ],
            [
             0.5555555555555556,
             "#d8576b"
            ],
            [
             0.6666666666666666,
             "#ed7953"
            ],
            [
             0.7777777777777778,
             "#fb9f3a"
            ],
            [
             0.8888888888888888,
             "#fdca26"
            ],
            [
             1,
             "#f0f921"
            ]
           ]
          },
          "colorway": [
           "#636efa",
           "#EF553B",
           "#00cc96",
           "#ab63fa",
           "#FFA15A",
           "#19d3f3",
           "#FF6692",
           "#B6E880",
           "#FF97FF",
           "#FECB52"
          ],
          "font": {
           "color": "#2a3f5f"
          },
          "geo": {
           "bgcolor": "white",
           "lakecolor": "white",
           "landcolor": "#E5ECF6",
           "showlakes": true,
           "showland": true,
           "subunitcolor": "white"
          },
          "hoverlabel": {
           "align": "left"
          },
          "hovermode": "closest",
          "mapbox": {
           "style": "light"
          },
          "paper_bgcolor": "white",
          "plot_bgcolor": "#E5ECF6",
          "polar": {
           "angularaxis": {
            "gridcolor": "white",
            "linecolor": "white",
            "ticks": ""
           },
           "bgcolor": "#E5ECF6",
           "radialaxis": {
            "gridcolor": "white",
            "linecolor": "white",
            "ticks": ""
           }
          },
          "scene": {
           "xaxis": {
            "backgroundcolor": "#E5ECF6",
            "gridcolor": "white",
            "gridwidth": 2,
            "linecolor": "white",
            "showbackground": true,
            "ticks": "",
            "zerolinecolor": "white"
           },
           "yaxis": {
            "backgroundcolor": "#E5ECF6",
            "gridcolor": "white",
            "gridwidth": 2,
            "linecolor": "white",
            "showbackground": true,
            "ticks": "",
            "zerolinecolor": "white"
           },
           "zaxis": {
            "backgroundcolor": "#E5ECF6",
            "gridcolor": "white",
            "gridwidth": 2,
            "linecolor": "white",
            "showbackground": true,
            "ticks": "",
            "zerolinecolor": "white"
           }
          },
          "shapedefaults": {
           "line": {
            "color": "#2a3f5f"
           }
          },
          "ternary": {
           "aaxis": {
            "gridcolor": "white",
            "linecolor": "white",
            "ticks": ""
           },
           "baxis": {
            "gridcolor": "white",
            "linecolor": "white",
            "ticks": ""
           },
           "bgcolor": "#E5ECF6",
           "caxis": {
            "gridcolor": "white",
            "linecolor": "white",
            "ticks": ""
           }
          },
          "title": {
           "x": 0.05
          },
          "xaxis": {
           "automargin": true,
           "gridcolor": "white",
           "linecolor": "white",
           "ticks": "",
           "title": {
            "standoff": 15
           },
           "zerolinecolor": "white",
           "zerolinewidth": 2
          },
          "yaxis": {
           "automargin": true,
           "gridcolor": "white",
           "linecolor": "white",
           "ticks": "",
           "title": {
            "standoff": 15
           },
           "zerolinecolor": "white",
           "zerolinewidth": 2
          }
         }
        },
        "title": {
         "text": " Grid Capacity in 2030"
        },
        "width": 1000
       }
      },
      "image/png": "[encoded data removed]",
      "text/html": [
       "<div>                            <div id=\"5f96ca31-e00c-474a-b7e3-50e435b58b11\" class=\"plotly-graph-div\" style=\"height:1000px; width:1000px;\"></div>            <script type=\"text/javascript\">                require([\"plotly\"], function(Plotly) {                    window.PLOTLYENV=window.PLOTLYENV || {};                                    if (document.getElementById(\"5f96ca31-e00c-474a-b7e3-50e435b58b11\")) {                    Plotly.newPlot(                        \"5f96ca31-e00c-474a-b7e3-50e435b58b11\",                        [{\"autocolorscale\":false,\"featureidkey\":\"properties.COUNTRY_ID\",\"hoverinfo\":\"text\",\"locationmode\":\"geojson-id\",\"locations\":[\"AL0 0\",\"AT0 0\",\"AT0 1\",\"AT0 2\",\"AT0 3\",\"AT0 4\",\"AT0 5\",\"AT0 6\",\"AT0 7\",\"AT0 8\",\"AT0 9\",\"BA0 0\",\"BE0 0\",\"BG0 0\",\"CH0 0\",\"CZ0 0\",\"DE0 0\",\"DE0 1\",\"DE0 2\",\"DE0 3\",\"DE0 4\",\"DK0 0\",\"DK3 0\",\"EE6 0\",\"ES0 0\",\"ES2 0\",\"FI3 0\",\"FR0 0\",\"GB4 0\",\"GB5 0\",\"GR0 0\",\"HR0 0\",\"HU0 0\",\"IE4 0\",\"IT0 0\",\"IT1 0\",\"LT6 0\",\"LU0 0\",\"LV6 0\",\"ME0 0\",\"MK0 0\",\"NL0 0\",\"NO3 0\",\"PL0 0\",\"PT0 0\",\"RO0 0\",\"RS0 0\",\"SE3 0\",\"SI0 0\",\"SK0 0\"],\"showscale\":false,\"text\":[\"AL0 0\",\"AT0 0\",\"AT0 1\",\"AT0 2\",\"AT0 3\",\"AT0 4\",\"AT0 5\",\"AT0 6\",\"AT0 7\",\"AT0 8\",\"AT0 9\",\"BA0 0\",\"BE0 0\",\"BG0 0\",\"CH0 0\",\"CZ0 0\",\"DE0 0\",\"DE0 1\",\"DE0 2\",\"DE0 3\",\"DE0 4\",\"DK0 0\",\"DK3 0\",\"EE6 0\",\"ES0 0\",\"ES2 0\",\"FI3 0\",\"FR0 0\",\"GB4 0\",\"GB5 0\",\"GR0 0\",\"HR0 0\",\"HU0 0\",\"IE4 0\",\"IT0 0\",\"IT1 0\",\"LT6 0\",\"LU0 0\",\"LV6 0\",\"ME0 0\",\"MK0 0\",\"NL0 0\",\"NO3 0\",\"PL0 0\",\"PT0 0\",\"RO0 0\",\"RS0 0\",\"SE3 0\",\"SI0 0\",\"SK0 0\"],\"z\":[1.0,1.0,1.0,1.0,1.0,1.0,1.0,1.0,1.0,1.0,1.0,1.0,1.0,1.0,1.0,1.0,1.0,1.0,1.0,1.0,1.0,1.0,1.0,1.0,1.0,1.0,1.0,1.0,1.0,1.0,1.0,1.0,1.0,1.0,1.0,1.0,1.0,1.0,1.0,1.0,1.0,1.0,1.0,1.0,1.0,1.0,1.0,1.0,1.0,1.0],\"type\":\"choropleth\",\"showlegend\":false},{\"lat\":[41.562,38.949],\"line\":{\"color\":\"red\",\"width\":1.4904281931348493e-05},\"locationmode\":\"geojson-id\",\"lon\":[19.895,22.73],\"mode\":\"lines\",\"name\":\"0 GW Pipeline\",\"text\":\"0.0\",\"type\":\"scattergeo\",\"showlegend\":false},{\"lat\":[41.562,42.76],\"line\":{\"color\":\"red\",\"width\":0.15874952445376428},\"locationmode\":\"geojson-id\",\"lon\":[19.895,19.056],\"mode\":\"lines\",\"name\":\"0 GW Pipeline\",\"text\":\"0.0\",\"type\":\"scattergeo\",\"showlegend\":false},{\"lat\":[41.562,41.581],\"line\":{\"color\":\"red\",\"width\":0.4244275554766954},\"locationmode\":\"geojson-id\",\"lon\":[19.895,21.587],\"mode\":\"lines\",\"name\":\"0 GW Pipeline\",\"text\":\"0.0\",\"type\":\"scattergeo\",\"showlegend\":false},{\"lat\":[41.562,44.073],\"line\":{\"color\":\"red\",\"width\":2.1169499835481873e-05},\"locationmode\":\"geojson-id\",\"lon\":[19.895,20.687],\"mode\":\"lines\",\"name\":\"0 GW Pipeline\",\"text\":\"0.0\",\"type\":\"scattergeo\",\"showlegend\":false},{\"lat\":[47.746,48.116],\"line\":{\"color\":\"red\",\"width\":0.0001372197428615425},\"locationmode\":\"geojson-id\",\"lon\":[16.608,15.661],\"mode\":\"lines\",\"name\":\"0 GW Pipeline\",\"text\":\"0.0\",\"type\":\"scattergeo\",\"showlegend\":false},{\"lat\":[47.746,48.133],\"line\":{\"color\":\"red\",\"width\":1.8626217332527835},\"locationmode\":\"geojson-id\",\"lon\":[16.608,16.357],\"mode\":\"lines\",\"name\":\"2 GW Pipeline\",\"text\":\"0.0\",\"type\":\"scattergeo\",\"showlegend\":true},{\"lat\":[47.746,47.173],\"line\":{\"color\":\"red\",\"width\":4.719346009126659e-05},\"locationmode\":\"geojson-id\",\"lon\":[16.608,15.017],\"mode\":\"lines\",\"name\":\"0 GW Pipeline\",\"text\":\"0.0\",\"type\":\"scattergeo\",\"showlegend\":false},{\"lat\":[47.746,47.217],\"line\":{\"color\":\"red\",\"width\":3.351293937632261e-05},\"locationmode\":\"geojson-id\",\"lon\":[16.608,18.879],\"mode\":\"lines\",\"name\":\"0 GW Pipeline\",\"text\":\"0.0\",\"type\":\"scattergeo\",\"showlegend\":false},{\"lat\":[48.116,48.133],\"line\":{\"color\":\"red\",\"width\":0.00011118191954369003},\"locationmode\":\"geojson-id\",\"lon\":[15.661,16.357],\"mode\":\"lines\",\"name\":\"0 GW Pipeline\",\"text\":\"0.0\",\"type\":\"scattergeo\",\"showlegend\":false},{\"lat\":[48.116,47.173],\"line\":{\"color\":\"red\",\"width\":5.051190697624452e-05},\"locationmode\":\"geojson-id\",\"lon\":[15.661,15.017],\"mode\":\"lines\",\"name\":\"0 GW Pipeline\",\"text\":\"0.0\",\"type\":\"scattergeo\",\"showlegend\":false},{\"lat\":[48.116,48.047],\"line\":{\"color\":\"red\",\"width\":4.57735555855525e-05},\"locationmode\":\"geojson-id\",\"lon\":[15.661,13.997],\"mode\":\"lines\",\"name\":\"0 GW Pipeline\",\"text\":\"0.0\",\"type\":\"scattergeo\",\"showlegend\":false},{\"lat\":[48.116,49.843],\"line\":{\"color\":\"red\",\"width\":3.381134630201769e-05},\"locationmode\":\"geojson-id\",\"lon\":[15.661,15.238],\"mode\":\"lines\",\"name\":\"0 GW Pipeline\",\"text\":\"0.0\",\"type\":\"scattergeo\",\"showlegend\":false},{\"lat\":[48.133,47.217],\"line\":{\"color\":\"red\",\"width\":2.6949442829958e-05},\"locationmode\":\"geojson-id\",\"lon\":[16.357,18.879],\"mode\":\"lines\",\"name\":\"0 GW Pipeline\",\"text\":\"0.0\",\"type\":\"scattergeo\",\"showlegend\":false},{\"lat\":[46.615,47.173],\"line\":{\"color\":\"red\",\"width\":0.0001254656117845024},\"locationmode\":\"geojson-id\",\"lon\":[14.142,15.017],\"mode\":\"lines\",\"name\":\"0 GW Pipeline\",\"text\":\"0.0\",\"type\":\"scattergeo\",\"showlegend\":false},{\"lat\":[46.615,46.798],\"line\":{\"color\":\"red\",\"width\":0.00010077360552878925},\"locationmode\":\"geojson-id\",\"lon\":[14.142,12.693],\"mode\":\"lines\",\"name\":\"0 GW Pipeline\",\"text\":\"0.0\",\"type\":\"scattergeo\",\"showlegend\":false},{\"lat\":[46.615,46.121],\"line\":{\"color\":\"red\",\"width\":1.7944542499342884},\"locationmode\":\"geojson-id\",\"lon\":[14.142,14.805],\"mode\":\"lines\",\"name\":\"2 GW Pipeline\",\"text\":\"0.0\",\"type\":\"scattergeo\",\"showlegend\":false},{\"lat\":[47.173,48.047],\"line\":{\"color\":\"red\",\"width\":4.817345160798894e-05},\"locationmode\":\"geojson-id\",\"lon\":[15.017,13.997],\"mode\":\"lines\",\"name\":\"0 GW Pipeline\",\"text\":\"0.0\",\"type\":\"scattergeo\",\"showlegend\":false},{\"lat\":[47.173,47.562],\"line\":{\"color\":\"red\",\"width\":3.470850904349221e-05},\"locationmode\":\"geojson-id\",\"lon\":[15.017,12.77],\"mode\":\"lines\",\"name\":\"0 GW Pipeline\",\"text\":\"0.0\",\"type\":\"scattergeo\",\"showlegend\":false},{\"lat\":[47.173,46.121],\"line\":{\"color\":\"red\",\"width\":8.351139977323981e-05},\"locationmode\":\"geojson-id\",\"lon\":[15.017,14.805],\"mode\":\"lines\",\"name\":\"0 GW Pipeline\",\"text\":\"0.0\",\"type\":\"scattergeo\",\"showlegend\":false},{\"lat\":[48.047,47.562],\"line\":{\"color\":\"red\",\"width\":0.5804961844748076},\"locationmode\":\"geojson-id\",\"lon\":[13.997,12.77],\"mode\":\"lines\",\"name\":\"1 GW Pipeline\",\"text\":\"0.0\",\"type\":\"scattergeo\",\"showlegend\":false},{\"lat\":[48.047,48.952],\"line\":{\"color\":\"red\",\"width\":2.7577937540192183e-05},\"locationmode\":\"geojson-id\",\"lon\":[13.997,11.262],\"mode\":\"lines\",\"name\":\"0 GW Pipeline\",\"text\":\"0.0\",\"type\":\"scattergeo\",\"showlegend\":false},{\"lat\":[47.562,46.798],\"line\":{\"color\":\"red\",\"width\":0.00013526206869581993},\"locationmode\":\"geojson-id\",\"lon\":[12.77,12.693],\"mode\":\"lines\",\"name\":\"0 GW Pipeline\",\"text\":\"0.0\",\"type\":\"scattergeo\",\"showlegend\":false},{\"lat\":[47.562,47.215],\"line\":{\"color\":\"red\",\"width\":3.968589547490608e-05},\"locationmode\":\"geojson-id\",\"lon\":[12.77,10.935],\"mode\":\"lines\",\"name\":\"0 GW Pipeline\",\"text\":\"0.0\",\"type\":\"scattergeo\",\"showlegend\":false},{\"lat\":[47.32,47.215],\"line\":{\"color\":\"red\",\"width\":6.479753096975785e-05},\"locationmode\":\"geojson-id\",\"lon\":[9.717,10.935],\"mode\":\"lines\",\"name\":\"0 GW Pipeline\",\"text\":\"0.0\",\"type\":\"scattergeo\",\"showlegend\":false},{\"lat\":[47.32,46.823],\"line\":{\"color\":\"red\",\"width\":5.237489274146311e-05},\"locationmode\":\"geojson-id\",\"lon\":[9.717,8.208],\"mode\":\"lines\",\"name\":\"0 GW Pipeline\",\"text\":\"0.0\",\"type\":\"scattergeo\",\"showlegend\":false},{\"lat\":[47.32,48.952],\"line\":{\"color\":\"red\",\"width\":3.334440170955737e-05},\"locationmode\":\"geojson-id\",\"lon\":[9.717,11.262],\"mode\":\"lines\",\"name\":\"0 GW Pipeline\",\"text\":\"0.0\",\"type\":\"scattergeo\",\"showlegend\":false},{\"lat\":[47.32,48.652],\"line\":{\"color\":\"red\",\"width\":0.4303520009024363},\"locationmode\":\"geojson-id\",\"lon\":[9.717,9.005],\"mode\":\"lines\",\"name\":\"0 GW Pipeline\",\"text\":\"0.0\",\"type\":\"scattergeo\",\"showlegend\":false},{\"lat\":[46.798,43.584],\"line\":{\"color\":\"red\",\"width\":1.761682778533416e-05},\"locationmode\":\"geojson-id\",\"lon\":[12.693,11.707],\"mode\":\"lines\",\"name\":\"0 GW Pipeline\",\"text\":\"0.0\",\"type\":\"scattergeo\",\"showlegend\":false},{\"lat\":[47.215,46.823],\"line\":{\"color\":\"red\",\"width\":2.733240085590999e-05},\"locationmode\":\"geojson-id\",\"lon\":[10.935,8.208],\"mode\":\"lines\",\"name\":\"0 GW Pipeline\",\"text\":\"0.0\",\"type\":\"scattergeo\",\"showlegend\":false},{\"lat\":[47.215,48.952],\"line\":{\"color\":\"red\",\"width\":3.481632207632696e-05},\"locationmode\":\"geojson-id\",\"lon\":[10.935,11.262],\"mode\":\"lines\",\"name\":\"0 GW Pipeline\",\"text\":\"0.0\",\"type\":\"scattergeo\",\"showlegend\":false},{\"lat\":[43.811,45.207],\"line\":{\"color\":\"red\",\"width\":2.976684766605736e-05},\"locationmode\":\"geojson-id\",\"lon\":[18.123,16.158],\"mode\":\"lines\",\"name\":\"0 GW Pipeline\",\"text\":\"0.0\",\"type\":\"scattergeo\",\"showlegend\":false},{\"lat\":[43.811,42.76],\"line\":{\"color\":\"red\",\"width\":0.02755746920889003},\"locationmode\":\"geojson-id\",\"lon\":[18.123,19.056],\"mode\":\"lines\",\"name\":\"0 GW Pipeline\",\"text\":\"0.0\",\"type\":\"scattergeo\",\"showlegend\":false},{\"lat\":[43.811,44.073],\"line\":{\"color\":\"red\",\"width\":2.713037760764876e-05},\"locationmode\":\"geojson-id\",\"lon\":[18.123,20.687],\"mode\":\"lines\",\"name\":\"0 GW Pipeline\",\"text\":\"0.0\",\"type\":\"scattergeo\",\"showlegend\":false},{\"lat\":[50.743,46.809],\"line\":{\"color\":\"red\",\"width\":1.2480910058761559e-05},\"locationmode\":\"geojson-id\",\"lon\":[4.799,3.156],\"mode\":\"lines\",\"name\":\"0 GW Pipeline\",\"text\":\"0.0\",\"type\":\"scattergeo\",\"showlegend\":false},{\"lat\":[50.743,49.677],\"line\":{\"color\":\"red\",\"width\":4.605311240699515e-05},\"locationmode\":\"geojson-id\",\"lon\":[4.799,6.131],\"mode\":\"lines\",\"name\":\"0 GW Pipeline\",\"text\":\"0.0\",\"type\":\"scattergeo\",\"showlegend\":false},{\"lat\":[50.743,52.374],\"line\":{\"color\":\"red\",\"width\":3.201845544346343e-05},\"locationmode\":\"geojson-id\",\"lon\":[4.799,5.551],\"mode\":\"lines\",\"name\":\"0 GW Pipeline\",\"text\":\"0.0\",\"type\":\"scattergeo\",\"showlegend\":false},{\"lat\":[42.765,38.949],\"line\":{\"color\":\"red\",\"width\":1.334936990671403e-05},\"locationmode\":\"geojson-id\",\"lon\":[24.674,22.73],\"mode\":\"lines\",\"name\":\"0 GW Pipeline\",\"text\":\"0.0\",\"type\":\"scattergeo\",\"showlegend\":false},{\"lat\":[42.765,41.581],\"line\":{\"color\":\"red\",\"width\":1.9935807257735465e-05},\"locationmode\":\"geojson-id\",\"lon\":[24.674,21.587],\"mode\":\"lines\",\"name\":\"0 GW Pipeline\",\"text\":\"0.0\",\"type\":\"scattergeo\",\"showlegend\":false},{\"lat\":[42.765,45.56],\"line\":{\"color\":\"red\",\"width\":1.8157636629967164e-05},\"locationmode\":\"geojson-id\",\"lon\":[24.674,25.046],\"mode\":\"lines\",\"name\":\"0 GW Pipeline\",\"text\":\"0.0\",\"type\":\"scattergeo\",\"showlegend\":false},{\"lat\":[42.765,44.073],\"line\":{\"color\":\"red\",\"width\":1.793002105793117e-05},\"locationmode\":\"geojson-id\",\"lon\":[24.674,20.687],\"mode\":\"lines\",\"name\":\"0 GW Pipeline\",\"text\":\"0.0\",\"type\":\"scattergeo\",\"showlegend\":false},{\"lat\":[46.823,48.652],\"line\":{\"color\":\"red\",\"width\":2.8948519119714932e-05},\"locationmode\":\"geojson-id\",\"lon\":[8.208,9.005],\"mode\":\"lines\",\"name\":\"0 GW Pipeline\",\"text\":\"0.0\",\"type\":\"scattergeo\",\"showlegend\":false},{\"lat\":[46.823,46.809],\"line\":{\"color\":\"red\",\"width\":1.5160131781253621e-05},\"locationmode\":\"geojson-id\",\"lon\":[8.208,3.156],\"mode\":\"lines\",\"name\":\"0 GW Pipeline\",\"text\":\"0.0\",\"type\":\"scattergeo\",\"showlegend\":false},{\"lat\":[46.823,43.584],\"line\":{\"color\":\"red\",\"width\":1.2158700763954232e-05},\"locationmode\":\"geojson-id\",\"lon\":[8.208,11.707],\"mode\":\"lines\",\"name\":\"0 GW Pipeline\",\"text\":\"0.0\",\"type\":\"scattergeo\",\"showlegend\":false},{\"lat\":[49.843,48.952],\"line\":{\"color\":\"red\",\"width\":1.8303964822980526e-05},\"locationmode\":\"geojson-id\",\"lon\":[15.238,11.262],\"mode\":\"lines\",\"name\":\"0 GW Pipeline\",\"text\":\"0.0\",\"type\":\"scattergeo\",\"showlegend\":false},{\"lat\":[49.843,51.879],\"line\":{\"color\":\"red\",\"width\":2.0591515886912792e-05},\"locationmode\":\"geojson-id\",\"lon\":[15.238,12.917],\"mode\":\"lines\",\"name\":\"0 GW Pipeline\",\"text\":\"0.0\",\"type\":\"scattergeo\",\"showlegend\":false},{\"lat\":[49.843,51.572],\"line\":{\"color\":\"red\",\"width\":1.862830404617907e-05},\"locationmode\":\"geojson-id\",\"lon\":[15.238,18.902],\"mode\":\"lines\",\"name\":\"0 GW Pipeline\",\"text\":\"0.0\",\"type\":\"scattergeo\",\"showlegend\":false},{\"lat\":[49.843,48.653],\"line\":{\"color\":\"red\",\"width\":1.8968970735773352e-05},\"locationmode\":\"geojson-id\",\"lon\":[15.238,19.028],\"mode\":\"lines\",\"name\":\"0 GW Pipeline\",\"text\":\"0.0\",\"type\":\"scattergeo\",\"showlegend\":false},{\"lat\":[48.952,48.652],\"line\":{\"color\":\"red\",\"width\":3.449559998760259e-05},\"locationmode\":\"geojson-id\",\"lon\":[11.262,9.005],\"mode\":\"lines\",\"name\":\"0 GW Pipeline\",\"text\":\"0.0\",\"type\":\"scattergeo\",\"showlegend\":false},{\"lat\":[48.952,50.837],\"line\":{\"color\":\"red\",\"width\":1.6971608911736466e-05},\"locationmode\":\"geojson-id\",\"lon\":[11.262,7.683],\"mode\":\"lines\",\"name\":\"0 GW Pipeline\",\"text\":\"0.0\",\"type\":\"scattergeo\",\"showlegend\":false},{\"lat\":[48.952,51.879],\"line\":{\"color\":\"red\",\"width\":1.6255510704441457e-05},\"locationmode\":\"geojson-id\",\"lon\":[11.262,12.917],\"mode\":\"lines\",\"name\":\"0 GW Pipeline\",\"text\":\"0.0\",\"type\":\"scattergeo\",\"showlegend\":false},{\"lat\":[48.652,50.837],\"line\":{\"color\":\"red\",\"width\":2.1663360136772996e-05},\"locationmode\":\"geojson-id\",\"lon\":[9.005,7.683],\"mode\":\"lines\",\"name\":\"0 GW Pipeline\",\"text\":\"0.0\",\"type\":\"scattergeo\",\"showlegend\":false},{\"lat\":[48.652,46.809],\"line\":{\"color\":\"red\",\"width\":1.189901842348696e-05},\"locationmode\":\"geojson-id\",\"lon\":[9.005,3.156],\"mode\":\"lines\",\"name\":\"0 GW Pipeline\",\"text\":\"0.0\",\"type\":\"scattergeo\",\"showlegend\":false},{\"lat\":[50.837,51.879],\"line\":{\"color\":\"red\",\"width\":1.4357896019890874e-05},\"locationmode\":\"geojson-id\",\"lon\":[7.683,12.917],\"mode\":\"lines\",\"name\":\"0 GW Pipeline\",\"text\":\"0.0\",\"type\":\"scattergeo\",\"showlegend\":false},{\"lat\":[50.837,53.273],\"line\":{\"color\":\"red\",\"width\":1.8003520003363374e-05},\"locationmode\":\"geojson-id\",\"lon\":[7.683,9.879],\"mode\":\"lines\",\"name\":\"0 GW Pipeline\",\"text\":\"0.0\",\"type\":\"scattergeo\",\"showlegend\":false},{\"lat\":[50.837,46.809],\"line\":{\"color\":\"red\",\"width\":1.005584004420446e-05},\"locationmode\":\"geojson-id\",\"lon\":[7.683,3.156],\"mode\":\"lines\",\"name\":\"0 GW Pipeline\",\"text\":\"0.0\",\"type\":\"scattergeo\",\"showlegend\":false},{\"lat\":[50.837,49.677],\"line\":{\"color\":\"red\",\"width\":4.1659558084809264e-05},\"locationmode\":\"geojson-id\",\"lon\":[7.683,6.131],\"mode\":\"lines\",\"name\":\"0 GW Pipeline\",\"text\":\"0.0\",\"type\":\"scattergeo\",\"showlegend\":false},{\"lat\":[50.837,52.374],\"line\":{\"color\":\"red\",\"width\":2.5978343012391976e-05},\"locationmode\":\"geojson-id\",\"lon\":[7.683,5.551],\"mode\":\"lines\",\"name\":\"0 GW Pipeline\",\"text\":\"0.0\",\"type\":\"scattergeo\",\"showlegend\":false},{\"lat\":[51.879,53.273],\"line\":{\"color\":\"red\",\"width\":2.195342392878089e-05},\"locationmode\":\"geojson-id\",\"lon\":[12.917,9.879],\"mode\":\"lines\",\"name\":\"0 GW Pipeline\",\"text\":\"0.0\",\"type\":\"scattergeo\",\"showlegend\":false},{\"lat\":[51.879,51.572],\"line\":{\"color\":\"red\",\"width\":1.3342984895606769e-05},\"locationmode\":\"geojson-id\",\"lon\":[12.917,18.902],\"mode\":\"lines\",\"name\":\"0 GW Pipeline\",\"text\":\"0.0\",\"type\":\"scattergeo\",\"showlegend\":false},{\"lat\":[53.273,55.99],\"line\":{\"color\":\"red\",\"width\":3.483402693278136e-05},\"locationmode\":\"geojson-id\",\"lon\":[9.879,9.732],\"mode\":\"lines\",\"name\":\"0 GW Pipeline\",\"text\":\"0.0\",\"type\":\"scattergeo\",\"showlegend\":false},{\"lat\":[55.51,61.358],\"line\":{\"color\":\"red\",\"width\":8.67405269253053e-06},\"locationmode\":\"geojson-id\",\"lon\":[12.284,16.278],\"mode\":\"lines\",\"name\":\"0 GW Pipeline\",\"text\":\"0.0\",\"type\":\"scattergeo\",\"showlegend\":false},{\"lat\":[58.98,56.839],\"line\":{\"color\":\"red\",\"width\":4.151457217686831e-05},\"locationmode\":\"geojson-id\",\"lon\":[25.879,23.725],\"mode\":\"lines\",\"name\":\"0 GW Pipeline\",\"text\":\"0.0\",\"type\":\"scattergeo\",\"showlegend\":false},{\"lat\":[40.601,46.809],\"line\":{\"color\":\"red\",\"width\":8.222012092442596e-06},\"locationmode\":\"geojson-id\",\"lon\":[-3.434,3.156],\"mode\":\"lines\",\"name\":\"0 GW Pipeline\",\"text\":\"0.0\",\"type\":\"scattergeo\",\"showlegend\":false},{\"lat\":[40.601,40.262],\"line\":{\"color\":\"red\",\"width\":1.4650189411169638e-05},\"locationmode\":\"geojson-id\",\"lon\":[-3.434,-8.299],\"mode\":\"lines\",\"name\":\"0 GW Pipeline\",\"text\":\"0.0\",\"type\":\"scattergeo\",\"showlegend\":false},{\"lat\":[62.869,61.358],\"line\":{\"color\":\"red\",\"width\":3.2043153967211625e-05},\"locationmode\":\"geojson-id\",\"lon\":[25.051,16.278],\"mode\":\"lines\",\"name\":\"0 GW Pipeline\",\"text\":\"0.0\",\"type\":\"scattergeo\",\"showlegend\":false},{\"lat\":[46.809,43.584],\"line\":{\"color\":\"red\",\"width\":7.120273964684308e-06},\"locationmode\":\"geojson-id\",\"lon\":[3.156,11.707],\"mode\":\"lines\",\"name\":\"0 GW Pipeline\",\"text\":\"0.0\",\"type\":\"scattergeo\",\"showlegend\":false},{\"lat\":[54.669,52.8],\"line\":{\"color\":\"red\",\"width\":2.9661908210097995e-05},\"locationmode\":\"geojson-id\",\"lon\":[-6.098,-7.631],\"mode\":\"lines\",\"name\":\"0 GW Pipeline\",\"text\":\"0.0\",\"type\":\"scattergeo\",\"showlegend\":false},{\"lat\":[38.949,41.581],\"line\":{\"color\":\"red\",\"width\":2.7392576380139913e-05},\"locationmode\":\"geojson-id\",\"lon\":[22.73,21.587],\"mode\":\"lines\",\"name\":\"0 GW Pipeline\",\"text\":\"0.0\",\"type\":\"scattergeo\",\"showlegend\":false},{\"lat\":[45.207,47.217],\"line\":{\"color\":\"red\",\"width\":1.874742123706154e-05},\"locationmode\":\"geojson-id\",\"lon\":[16.158,18.879],\"mode\":\"lines\",\"name\":\"0 GW Pipeline\",\"text\":\"0.0\",\"type\":\"scattergeo\",\"showlegend\":false},{\"lat\":[45.207,44.073],\"line\":{\"color\":\"red\",\"width\":1.5862959442735016e-05},\"locationmode\":\"geojson-id\",\"lon\":[16.158,20.687],\"mode\":\"lines\",\"name\":\"0 GW Pipeline\",\"text\":\"0.0\",\"type\":\"scattergeo\",\"showlegend\":false},{\"lat\":[45.207,46.121],\"line\":{\"color\":\"red\",\"width\":5.432023710433628e-05},\"locationmode\":\"geojson-id\",\"lon\":[16.158,14.805],\"mode\":\"lines\",\"name\":\"0 GW Pipeline\",\"text\":\"0.0\",\"type\":\"scattergeo\",\"showlegend\":false},{\"lat\":[47.217,45.56],\"line\":{\"color\":\"red\",\"width\":1.2986032701251408e-05},\"locationmode\":\"geojson-id\",\"lon\":[18.879,25.046],\"mode\":\"lines\",\"name\":\"0 GW Pipeline\",\"text\":\"0.0\",\"type\":\"scattergeo\",\"showlegend\":false},{\"lat\":[47.217,44.073],\"line\":{\"color\":\"red\",\"width\":1.5401678537742338e-05},\"locationmode\":\"geojson-id\",\"lon\":[18.879,20.687],\"mode\":\"lines\",\"name\":\"0 GW Pipeline\",\"text\":\"0.0\",\"type\":\"scattergeo\",\"showlegend\":false},{\"lat\":[47.217,48.653],\"line\":{\"color\":\"red\",\"width\":3.7003109061946944e-05},\"locationmode\":\"geojson-id\",\"lon\":[18.879,19.028],\"mode\":\"lines\",\"name\":\"0 GW Pipeline\",\"text\":\"0.0\",\"type\":\"scattergeo\",\"showlegend\":false},{\"lat\":[43.584,46.121],\"line\":{\"color\":\"red\",\"width\":1.6404106672856845e-05},\"locationmode\":\"geojson-id\",\"lon\":[11.707,14.805],\"mode\":\"lines\",\"name\":\"0 GW Pipeline\",\"text\":\"0.0\",\"type\":\"scattergeo\",\"showlegend\":false},{\"lat\":[55.197,56.839],\"line\":{\"color\":\"red\",\"width\":0.00987044269335147},\"locationmode\":\"geojson-id\",\"lon\":[23.114,23.725],\"mode\":\"lines\",\"name\":\"0 GW Pipeline\",\"text\":\"0.0\",\"type\":\"scattergeo\",\"showlegend\":false},{\"lat\":[42.76,44.073],\"line\":{\"color\":\"red\",\"width\":5.305523101503269e-05},\"locationmode\":\"geojson-id\",\"lon\":[19.056,20.687],\"mode\":\"lines\",\"name\":\"0 GW Pipeline\",\"text\":\"0.0\",\"type\":\"scattergeo\",\"showlegend\":false},{\"lat\":[41.581,44.073],\"line\":{\"color\":\"red\",\"width\":2.7501730126068725e-05},\"locationmode\":\"geojson-id\",\"lon\":[21.587,20.687],\"mode\":\"lines\",\"name\":\"0 GW Pipeline\",\"text\":\"0.0\",\"type\":\"scattergeo\",\"showlegend\":false},{\"lat\":[60.979,61.358],\"line\":{\"color\":\"red\",\"width\":0.9617076820186633},\"locationmode\":\"geojson-id\",\"lon\":[8.605,16.278],\"mode\":\"lines\",\"name\":\"1 GW Pipeline\",\"text\":\"0.0\",\"type\":\"scattergeo\",\"showlegend\":false},{\"lat\":[51.572,48.653],\"line\":{\"color\":\"red\",\"width\":2.0600114786238185e-05},\"locationmode\":\"geojson-id\",\"lon\":[18.902,19.028],\"mode\":\"lines\",\"name\":\"0 GW Pipeline\",\"text\":\"0.0\",\"type\":\"scattergeo\",\"showlegend\":false},{\"lat\":[45.56,44.073],\"line\":{\"color\":\"red\",\"width\":1.6789906985869877e-05},\"locationmode\":\"geojson-id\",\"lon\":[25.046,20.687],\"mode\":\"lines\",\"name\":\"0 GW Pipeline\",\"text\":\"0.0\",\"type\":\"scattergeo\",\"showlegend\":false},{\"lat\":[38.949,43.584],\"line\":{\"color\":\"red\",\"width\":4.783017302532598e-06},\"locationmode\":\"geojson-id\",\"lon\":[22.73,11.707],\"mode\":\"lines\",\"name\":\"0 GW Pipeline\",\"text\":\"0.0\",\"type\":\"scattergeo\",\"showlegend\":false},{\"lat\":[40.601,39.673],\"line\":{\"color\":\"red\",\"width\":1.0490541643456125e-05},\"locationmode\":\"geojson-id\",\"lon\":[-3.434,2.739],\"mode\":\"lines\",\"name\":\"0 GW Pipeline\",\"text\":\"0.0\",\"type\":\"scattergeo\",\"showlegend\":false},{\"lat\":[43.584,42.76],\"line\":{\"color\":\"red\",\"width\":1.0787728336502177e-05},\"locationmode\":\"geojson-id\",\"lon\":[11.707,19.056],\"mode\":\"lines\",\"name\":\"0 GW Pipeline\",\"text\":\"0.0\",\"type\":\"scattergeo\",\"showlegend\":false},{\"lat\":[43.584,39.968],\"line\":{\"color\":\"red\",\"width\":1.3403762655253625e-05},\"locationmode\":\"geojson-id\",\"lon\":[11.707,8.746],\"mode\":\"lines\",\"name\":\"0 GW Pipeline\",\"text\":\"0.0\",\"type\":\"scattergeo\",\"showlegend\":false},{\"lat\":[50.743,50.837],\"line\":{\"color\":\"red\",\"width\":2.9937019247790022e-05},\"locationmode\":\"geojson-id\",\"lon\":[4.799,7.683],\"mode\":\"lines\",\"name\":\"0 GW Pipeline\",\"text\":\"0.0\",\"type\":\"scattergeo\",\"showlegend\":false},{\"lat\":[53.282,52.374],\"line\":{\"color\":\"red\",\"width\":1.088344464609108e-05},\"locationmode\":\"geojson-id\",\"lon\":[-1.976,5.551],\"mode\":\"lines\",\"name\":\"0 GW Pipeline\",\"text\":\"0.0\",\"type\":\"scattergeo\",\"showlegend\":false},{\"lat\":[50.743,53.282],\"line\":{\"color\":\"red\",\"width\":1.0548060936175927e-05},\"locationmode\":\"geojson-id\",\"lon\":[4.799,-1.976],\"mode\":\"lines\",\"name\":\"0 GW Pipeline\",\"text\":\"0.0\",\"type\":\"scattergeo\",\"showlegend\":false},{\"lat\":[46.809,53.282],\"line\":{\"color\":\"red\",\"width\":6.832871588217286e-06},\"locationmode\":\"geojson-id\",\"lon\":[3.156,-1.976],\"mode\":\"lines\",\"name\":\"0 GW Pipeline\",\"text\":\"0.0\",\"type\":\"scattergeo\",\"showlegend\":false},{\"lat\":[55.99,55.51],\"line\":{\"color\":\"red\",\"width\":0.10039395249895058},\"locationmode\":\"geojson-id\",\"lon\":[9.732,12.284],\"mode\":\"lines\",\"name\":\"0 GW Pipeline\",\"text\":\"0.0\",\"type\":\"scattergeo\",\"showlegend\":false},{\"lat\":[53.273,55.51],\"line\":{\"color\":\"red\",\"width\":2.9712605961416996e-05},\"locationmode\":\"geojson-id\",\"lon\":[9.879,12.284],\"mode\":\"lines\",\"name\":\"0 GW Pipeline\",\"text\":\"0.0\",\"type\":\"scattergeo\",\"showlegend\":false},{\"lat\":[51.572,61.358],\"line\":{\"color\":\"red\",\"width\":4.893338488496109e-06},\"locationmode\":\"geojson-id\",\"lon\":[18.902,16.278],\"mode\":\"lines\",\"name\":\"0 GW Pipeline\",\"text\":\"0.0\",\"type\":\"scattergeo\",\"showlegend\":false},{\"lat\":[55.99,52.374],\"line\":{\"color\":\"red\",\"width\":1.4846983474389019e-05},\"locationmode\":\"geojson-id\",\"lon\":[9.732,5.551],\"mode\":\"lines\",\"name\":\"0 GW Pipeline\",\"text\":\"0.0\",\"type\":\"scattergeo\",\"showlegend\":false},{\"lat\":[52.374,60.979],\"line\":{\"color\":\"red\",\"width\":5.45570998111495e-06},\"locationmode\":\"geojson-id\",\"lon\":[5.551,8.605],\"mode\":\"lines\",\"name\":\"0 GW Pipeline\",\"text\":\"0.0\",\"type\":\"scattergeo\",\"showlegend\":false},{\"lat\":[53.273,60.979],\"line\":{\"color\":\"red\",\"width\":6.343174008855177e-06},\"locationmode\":\"geojson-id\",\"lon\":[9.879,8.605],\"mode\":\"lines\",\"name\":\"0 GW Pipeline\",\"text\":\"0.0\",\"type\":\"scattergeo\",\"showlegend\":false},{\"lat\":[54.669,53.282],\"line\":{\"color\":\"red\",\"width\":1.9681133861004082e-05},\"locationmode\":\"geojson-id\",\"lon\":[-6.098,-1.976],\"mode\":\"lines\",\"name\":\"0 GW Pipeline\",\"text\":\"0.0\",\"type\":\"scattergeo\",\"showlegend\":false},{\"lat\":[53.282,52.8],\"line\":{\"color\":\"red\",\"width\":1.5124349525400296e-05},\"locationmode\":\"geojson-id\",\"lon\":[-1.976,-7.631],\"mode\":\"lines\",\"name\":\"0 GW Pipeline\",\"text\":\"0.0\",\"type\":\"scattergeo\",\"showlegend\":false},{\"lat\":[55.99,61.358],\"line\":{\"color\":\"red\",\"width\":8.82992274316093e-06},\"locationmode\":\"geojson-id\",\"lon\":[9.732,16.278],\"mode\":\"lines\",\"name\":\"0 GW Pipeline\",\"text\":\"0.0\",\"type\":\"scattergeo\",\"showlegend\":false},{\"lat\":[58.98,62.869],\"line\":{\"color\":\"red\",\"width\":0.0001343930708486717},\"locationmode\":\"geojson-id\",\"lon\":[25.879,25.051],\"mode\":\"lines\",\"name\":\"0 GW Pipeline\",\"text\":\"0.0\",\"type\":\"scattergeo\",\"showlegend\":false},{\"lat\":[55.99,53.282],\"line\":{\"color\":\"red\",\"width\":6.752633807390768e-06},\"locationmode\":\"geojson-id\",\"lon\":[9.732,-1.976],\"mode\":\"lines\",\"name\":\"0 GW Pipeline\",\"text\":\"0.0\",\"type\":\"scattergeo\",\"showlegend\":false},{\"lat\":[53.282,60.979],\"line\":{\"color\":\"red\",\"width\":4.879260797467785e-06},\"locationmode\":\"geojson-id\",\"lon\":[-1.976,8.605],\"mode\":\"lines\",\"name\":\"0 GW Pipeline\",\"text\":\"0.0\",\"type\":\"scattergeo\",\"showlegend\":false},{\"lat\":[48.652,53.273],\"line\":{\"color\":\"red\",\"width\":1.0620289542483658e-05},\"locationmode\":\"geojson-id\",\"lon\":[9.005,9.879],\"mode\":\"lines\",\"name\":\"0 GW Pipeline\",\"text\":\"0.0\",\"type\":\"scattergeo\",\"showlegend\":false},{\"lat\":[53.273,53.282],\"line\":{\"color\":\"red\",\"width\":6.792838581343968e-06},\"locationmode\":\"geojson-id\",\"lon\":[9.879,-1.976],\"mode\":\"lines\",\"name\":\"0 GW Pipeline\",\"text\":\"0.0\",\"type\":\"scattergeo\",\"showlegend\":false},{\"lat\":[55.197,61.358],\"line\":{\"color\":\"red\",\"width\":1.0869531538269099e-05},\"locationmode\":\"geojson-id\",\"lon\":[23.114,16.278],\"mode\":\"lines\",\"name\":\"0 GW Pipeline\",\"text\":\"0.0\",\"type\":\"scattergeo\",\"showlegend\":false},{\"lat\":[55.197,51.572],\"line\":{\"color\":\"red\",\"width\":2.482463367564467},\"locationmode\":\"geojson-id\",\"lon\":[23.114,18.902],\"mode\":\"lines\",\"name\":\"2 GW Pipeline\",\"text\":\"0.0\",\"type\":\"scattergeo\",\"showlegend\":false},{\"lat\":[55.99,60.979],\"line\":{\"color\":\"red\",\"width\":1.1437910281189976e-05},\"locationmode\":\"geojson-id\",\"lon\":[9.732,8.605],\"mode\":\"lines\",\"name\":\"0 GW Pipeline\",\"text\":\"0.0\",\"type\":\"scattergeo\",\"showlegend\":false},{\"lat\":[53.273,61.358],\"line\":{\"color\":\"red\",\"width\":5.607681754280413e-06},\"locationmode\":\"geojson-id\",\"lon\":[9.879,16.278],\"mode\":\"lines\",\"name\":\"0 GW Pipeline\",\"text\":\"0.0\",\"type\":\"scattergeo\",\"showlegend\":false},{\"lat\":[48.952,53.273],\"line\":{\"color\":\"red\",\"width\":1.4387729139415955e-05},\"locationmode\":\"geojson-id\",\"lon\":[11.262,9.879],\"mode\":\"lines\",\"name\":\"0 GW Pipeline\",\"text\":\"0.0\",\"type\":\"scattergeo\",\"showlegend\":false},{\"hoverinfo\":\"text\",\"lat\":[41.562,38.949],\"line\":{\"color\":\"blue\",\"width\":1.7180248834013747},\"locationmode\":\"geojson-id\",\"lon\":[19.895,22.73],\"mode\":\"lines\",\"name\":\"1 GW retrofitted Pipeline\",\"text\":\"0.0\",\"type\":\"scattergeo\",\"showlegend\":false},{\"hoverinfo\":\"text\",\"lat\":[41.562,43.584],\"line\":{\"color\":\"blue\",\"width\":1.0488964216777268},\"locationmode\":\"geojson-id\",\"lon\":[19.895,11.707],\"mode\":\"lines\",\"name\":\"1 GW retrofitted Pipeline\",\"text\":\"0.0\",\"type\":\"scattergeo\",\"showlegend\":false},{\"hoverinfo\":\"text\",\"lat\":[47.746,47.217],\"line\":{\"color\":\"blue\",\"width\":1.6113245427724232},\"locationmode\":\"geojson-id\",\"lon\":[16.608,18.879],\"mode\":\"lines\",\"name\":\"1 GW retrofitted Pipeline\",\"text\":\"0.0\",\"type\":\"scattergeo\",\"showlegend\":false},{\"hoverinfo\":\"text\",\"lat\":[48.116,48.653],\"line\":{\"color\":\"blue\",\"width\":1.9379228918964497},\"locationmode\":\"geojson-id\",\"lon\":[15.661,19.028],\"mode\":\"lines\",\"name\":\"1 GW retrofitted Pipeline\",\"text\":\"0.0\",\"type\":\"scattergeo\",\"showlegend\":false},{\"hoverinfo\":\"text\",\"lat\":[46.615,43.584],\"line\":{\"color\":\"blue\",\"width\":1.1079212533282845},\"locationmode\":\"geojson-id\",\"lon\":[14.142,11.707],\"mode\":\"lines\",\"name\":\"1 GW retrofitted Pipeline\",\"text\":\"0.0\",\"type\":\"scattergeo\",\"showlegend\":false},{\"hoverinfo\":\"text\",\"lat\":[47.173,46.121],\"line\":{\"color\":\"blue\",\"width\":3.9854375},\"locationmode\":\"geojson-id\",\"lon\":[15.017,14.805],\"mode\":\"lines\",\"name\":\"3 GW retrofitted Pipeline\",\"text\":\"0.0\",\"type\":\"scattergeo\",\"showlegend\":true},{\"hoverinfo\":\"text\",\"lat\":[48.047,48.952],\"line\":{\"color\":\"blue\",\"width\":23.355353733117262},\"locationmode\":\"geojson-id\",\"lon\":[13.997,11.262],\"mode\":\"lines\",\"name\":\"23 GW retrofitted Pipeline\",\"text\":\"0.0\",\"type\":\"scattergeo\",\"showlegend\":false},{\"hoverinfo\":\"text\",\"lat\":[47.215,48.952],\"line\":{\"color\":\"blue\",\"width\":0.8216666666666667},\"locationmode\":\"geojson-id\",\"lon\":[10.935,11.262],\"mode\":\"lines\",\"name\":\"0 GW retrofitted Pipeline\",\"text\":\"0.0\",\"type\":\"scattergeo\",\"showlegend\":false},{\"hoverinfo\":\"text\",\"lat\":[43.811,44.073],\"line\":{\"color\":\"blue\",\"width\":0.5029166666666666},\"locationmode\":\"geojson-id\",\"lon\":[18.123,20.687],\"mode\":\"lines\",\"name\":\"0 GW retrofitted Pipeline\",\"text\":\"0.0\",\"type\":\"scattergeo\",\"showlegend\":false},{\"hoverinfo\":\"text\",\"lat\":[50.743,50.837],\"line\":{\"color\":\"blue\",\"width\":5.599340423788007},\"locationmode\":\"geojson-id\",\"lon\":[4.799,7.683],\"mode\":\"lines\",\"name\":\"5 GW retrofitted Pipeline\",\"text\":\"0.0\",\"type\":\"scattergeo\",\"showlegend\":false},{\"hoverinfo\":\"text\",\"lat\":[50.743,46.809],\"line\":{\"color\":\"blue\",\"width\":15.233053576185075},\"locationmode\":\"geojson-id\",\"lon\":[4.799,3.156],\"mode\":\"lines\",\"name\":\"15 GW retrofitted Pipeline\",\"text\":\"0.0\",\"type\":\"scattergeo\",\"showlegend\":false},{\"hoverinfo\":\"text\",\"lat\":[50.743,53.282],\"line\":{\"color\":\"blue\",\"width\":28.45375},\"locationmode\":\"geojson-id\",\"lon\":[4.799,-1.976],\"mode\":\"lines\",\"name\":\"28 GW retrofitted Pipeline\",\"text\":\"0.0\",\"type\":\"scattergeo\",\"showlegend\":false},{\"hoverinfo\":\"text\",\"lat\":[50.743,49.677],\"line\":{\"color\":\"blue\",\"width\":0.22357947954070753},\"locationmode\":\"geojson-id\",\"lon\":[4.799,6.131],\"mode\":\"lines\",\"name\":\"0 GW retrofitted Pipeline\",\"text\":\"0.0\",\"type\":\"scattergeo\",\"showlegend\":false},{\"hoverinfo\":\"text\",\"lat\":[50.743,52.374],\"line\":{\"color\":\"blue\",\"width\":35.263547988180584},\"locationmode\":\"geojson-id\",\"lon\":[4.799,5.551],\"mode\":\"lines\",\"name\":\"35 GW retrofitted Pipeline\",\"text\":\"0.0\",\"type\":\"scattergeo\",\"showlegend\":false},{\"hoverinfo\":\"text\",\"lat\":[42.765,38.949],\"line\":{\"color\":\"blue\",\"width\":3.825},\"locationmode\":\"geojson-id\",\"lon\":[24.674,22.73],\"mode\":\"lines\",\"name\":\"3 GW retrofitted Pipeline\",\"text\":\"0.0\",\"type\":\"scattergeo\",\"showlegend\":false},{\"hoverinfo\":\"text\",\"lat\":[42.765,41.581],\"line\":{\"color\":\"blue\",\"width\":0.108508140164181},\"locationmode\":\"geojson-id\",\"lon\":[24.674,21.587],\"mode\":\"lines\",\"name\":\"0 GW retrofitted Pipeline\",\"text\":\"0.0\",\"type\":\"scattergeo\",\"showlegend\":false},{\"hoverinfo\":\"text\",\"lat\":[42.765,45.56],\"line\":{\"color\":\"blue\",\"width\":4.258643186946945},\"locationmode\":\"geojson-id\",\"lon\":[24.674,25.046],\"mode\":\"lines\",\"name\":\"4 GW retrofitted Pipeline\",\"text\":\"0.0\",\"type\":\"scattergeo\",\"showlegend\":false},{\"hoverinfo\":\"text\",\"lat\":[46.823,48.652],\"line\":{\"color\":\"blue\",\"width\":20.612145833333336},\"locationmode\":\"geojson-id\",\"lon\":[8.208,9.005],\"mode\":\"lines\",\"name\":\"20 GW retrofitted Pipeline\",\"text\":\"0.0\",\"type\":\"scattergeo\",\"showlegend\":false},{\"hoverinfo\":\"text\",\"lat\":[46.823,46.809],\"line\":{\"color\":\"blue\",\"width\":9.35},\"locationmode\":\"geojson-id\",\"lon\":[8.208,3.156],\"mode\":\"lines\",\"name\":\"9 GW retrofitted Pipeline\",\"text\":\"0.0\",\"type\":\"scattergeo\",\"showlegend\":true},{\"hoverinfo\":\"text\",\"lat\":[46.823,43.584],\"line\":{\"color\":\"blue\",\"width\":10.895383667865007},\"locationmode\":\"geojson-id\",\"lon\":[8.208,11.707],\"mode\":\"lines\",\"name\":\"10 GW retrofitted Pipeline\",\"text\":\"0.0\",\"type\":\"scattergeo\",\"showlegend\":false},{\"hoverinfo\":\"text\",\"lat\":[49.843,48.952],\"line\":{\"color\":\"blue\",\"width\":14.724694594385493},\"locationmode\":\"geojson-id\",\"lon\":[15.238,11.262],\"mode\":\"lines\",\"name\":\"14 GW retrofitted Pipeline\",\"text\":\"0.0\",\"type\":\"scattergeo\",\"showlegend\":false},{\"hoverinfo\":\"text\",\"lat\":[49.843,51.879],\"line\":{\"color\":\"blue\",\"width\":31.63854735105509},\"locationmode\":\"geojson-id\",\"lon\":[15.238,12.917],\"mode\":\"lines\",\"name\":\"31 GW retrofitted Pipeline\",\"text\":\"0.0\",\"type\":\"scattergeo\",\"showlegend\":false},{\"hoverinfo\":\"text\",\"lat\":[49.843,51.572],\"line\":{\"color\":\"blue\",\"width\":1.4570694684940836e-05},\"locationmode\":\"geojson-id\",\"lon\":[15.238,18.902],\"mode\":\"lines\",\"name\":\"0 GW retrofitted Pipeline\",\"text\":\"0.0\",\"type\":\"scattergeo\",\"showlegend\":false},{\"hoverinfo\":\"text\",\"lat\":[49.843,48.653],\"line\":{\"color\":\"blue\",\"width\":12.529948987798655},\"locationmode\":\"geojson-id\",\"lon\":[15.238,19.028],\"mode\":\"lines\",\"name\":\"12 GW retrofitted Pipeline\",\"text\":\"0.0\",\"type\":\"scattergeo\",\"showlegend\":false},{\"hoverinfo\":\"text\",\"lat\":[48.952,48.652],\"line\":{\"color\":\"blue\",\"width\":3.881788446205749e-05},\"locationmode\":\"geojson-id\",\"lon\":[11.262,9.005],\"mode\":\"lines\",\"name\":\"0 GW retrofitted Pipeline\",\"text\":\"0.0\",\"type\":\"scattergeo\",\"showlegend\":false},{\"hoverinfo\":\"text\",\"lat\":[48.952,50.837],\"line\":{\"color\":\"blue\",\"width\":4.225290415500871},\"locationmode\":\"geojson-id\",\"lon\":[11.262,7.683],\"mode\":\"lines\",\"name\":\"4 GW retrofitted Pipeline\",\"text\":\"0.0\",\"type\":\"scattergeo\",\"showlegend\":false},{\"hoverinfo\":\"text\",\"lat\":[48.652,50.837],\"line\":{\"color\":\"blue\",\"width\":23.437261901761733},\"locationmode\":\"geojson-id\",\"lon\":[9.005,7.683],\"mode\":\"lines\",\"name\":\"23 GW retrofitted Pipeline\",\"text\":\"0.0\",\"type\":\"scattergeo\",\"showlegend\":false},{\"hoverinfo\":\"text\",\"lat\":[50.837,51.879],\"line\":{\"color\":\"blue\",\"width\":4.543075502327822e-05},\"locationmode\":\"geojson-id\",\"lon\":[7.683,12.917],\"mode\":\"lines\",\"name\":\"0 GW retrofitted Pipeline\",\"text\":\"0.0\",\"type\":\"scattergeo\",\"showlegend\":false},{\"hoverinfo\":\"text\",\"lat\":[50.837,53.273],\"line\":{\"color\":\"blue\",\"width\":15.420342022041751},\"locationmode\":\"geojson-id\",\"lon\":[7.683,9.879],\"mode\":\"lines\",\"name\":\"15 GW retrofitted Pipeline\",\"text\":\"0.0\",\"type\":\"scattergeo\",\"showlegend\":false},{\"hoverinfo\":\"text\",\"lat\":[50.837,46.809],\"line\":{\"color\":\"blue\",\"width\":20.576372533099875},\"locationmode\":\"geojson-id\",\"lon\":[7.683,3.156],\"mode\":\"lines\",\"name\":\"20 GW retrofitted Pipeline\",\"text\":\"0.0\",\"type\":\"scattergeo\",\"showlegend\":false},{\"hoverinfo\":\"text\",\"lat\":[50.837,49.677],\"line\":{\"color\":\"blue\",\"width\":0.2228534098411705},\"locationmode\":\"geojson-id\",\"lon\":[7.683,6.131],\"mode\":\"lines\",\"name\":\"0 GW retrofitted Pipeline\",\"text\":\"0.0\",\"type\":\"scattergeo\",\"showlegend\":false},{\"hoverinfo\":\"text\",\"lat\":[50.837,52.374],\"line\":{\"color\":\"blue\",\"width\":2.94125286872622},\"locationmode\":\"geojson-id\",\"lon\":[7.683,5.551],\"mode\":\"lines\",\"name\":\"2 GW retrofitted Pipeline\",\"text\":\"0.0\",\"type\":\"scattergeo\",\"showlegend\":false},{\"hoverinfo\":\"text\",\"lat\":[51.879,53.273],\"line\":{\"color\":\"blue\",\"width\":2.369869420986786},\"locationmode\":\"geojson-id\",\"lon\":[12.917,9.879],\"mode\":\"lines\",\"name\":\"2 GW retrofitted Pipeline\",\"text\":\"0.0\",\"type\":\"scattergeo\",\"showlegend\":false},{\"hoverinfo\":\"text\",\"lat\":[51.879,51.572],\"line\":{\"color\":\"blue\",\"width\":18.95815661652596},\"locationmode\":\"geojson-id\",\"lon\":[12.917,18.902],\"mode\":\"lines\",\"name\":\"18 GW retrofitted Pipeline\",\"text\":\"0.0\",\"type\":\"scattergeo\",\"showlegend\":false},{\"hoverinfo\":\"text\",\"lat\":[53.273,55.99],\"line\":{\"color\":\"blue\",\"width\":2.14625},\"locationmode\":\"geojson-id\",\"lon\":[9.879,9.732],\"mode\":\"lines\",\"name\":\"2 GW retrofitted Pipeline\",\"text\":\"0.0\",\"type\":\"scattergeo\",\"showlegend\":false},{\"hoverinfo\":\"text\",\"lat\":[53.273,52.374],\"line\":{\"color\":\"blue\",\"width\":0.9253154196770111},\"locationmode\":\"geojson-id\",\"lon\":[9.879,5.551],\"mode\":\"lines\",\"name\":\"0 GW retrofitted Pipeline\",\"text\":\"0.0\",\"type\":\"scattergeo\",\"showlegend\":false},{\"hoverinfo\":\"text\",\"lat\":[53.273,60.979],\"line\":{\"color\":\"blue\",\"width\":0.9616931345550492},\"locationmode\":\"geojson-id\",\"lon\":[9.879,8.605],\"mode\":\"lines\",\"name\":\"0 GW retrofitted Pipeline\",\"text\":\"0.0\",\"type\":\"scattergeo\",\"showlegend\":false},{\"hoverinfo\":\"text\",\"lat\":[55.51,61.358],\"line\":{\"color\":\"blue\",\"width\":3.1166666666666667},\"locationmode\":\"geojson-id\",\"lon\":[12.284,16.278],\"mode\":\"lines\",\"name\":\"3 GW retrofitted Pipeline\",\"text\":\"0.0\",\"type\":\"scattergeo\",\"showlegend\":false},{\"hoverinfo\":\"text\",\"lat\":[58.98,56.839],\"line\":{\"color\":\"blue\",\"width\":2.5145833333333334},\"locationmode\":\"geojson-id\",\"lon\":[25.879,23.725],\"mode\":\"lines\",\"name\":\"2 GW retrofitted Pipeline\",\"text\":\"0.0\",\"type\":\"scattergeo\",\"showlegend\":false},{\"hoverinfo\":\"text\",\"lat\":[40.601,46.809],\"line\":{\"color\":\"blue\",\"width\":6.020833333333333},\"locationmode\":\"geojson-id\",\"lon\":[-3.434,3.156],\"mode\":\"lines\",\"name\":\"6 GW retrofitted Pipeline\",\"text\":\"0.0\",\"type\":\"scattergeo\",\"showlegend\":false},{\"hoverinfo\":\"text\",\"lat\":[40.601,40.262],\"line\":{\"color\":\"blue\",\"width\":1.0845373430653127},\"locationmode\":\"geojson-id\",\"lon\":[-3.434,-8.299],\"mode\":\"lines\",\"name\":\"1 GW retrofitted Pipeline\",\"text\":\"0.0\",\"type\":\"scattergeo\",\"showlegend\":false},{\"hoverinfo\":\"text\",\"lat\":[54.669,53.282],\"line\":{\"color\":\"blue\",\"width\":3.1520833333333327},\"locationmode\":\"geojson-id\",\"lon\":[-6.098,-1.976],\"mode\":\"lines\",\"name\":\"3 GW retrofitted Pipeline\",\"text\":\"0.0\",\"type\":\"scattergeo\",\"showlegend\":false},{\"hoverinfo\":\"text\",\"lat\":[53.282,52.8],\"line\":{\"color\":\"blue\",\"width\":5.186782773817815},\"locationmode\":\"geojson-id\",\"lon\":[-1.976,-7.631],\"mode\":\"lines\",\"name\":\"5 GW retrofitted Pipeline\",\"text\":\"0.0\",\"type\":\"scattergeo\",\"showlegend\":false},{\"hoverinfo\":\"text\",\"lat\":[53.282,52.374],\"line\":{\"color\":\"blue\",\"width\":17.495833333333334},\"locationmode\":\"geojson-id\",\"lon\":[-1.976,5.551],\"mode\":\"lines\",\"name\":\"17 GW retrofitted Pipeline\",\"text\":\"0.0\",\"type\":\"scattergeo\",\"showlegend\":false},{\"hoverinfo\":\"text\",\"lat\":[38.949,43.584],\"line\":{\"color\":\"blue\",\"width\":13.90849629132628},\"locationmode\":\"geojson-id\",\"lon\":[22.73,11.707],\"mode\":\"lines\",\"name\":\"13 GW retrofitted Pipeline\",\"text\":\"0.0\",\"type\":\"scattergeo\",\"showlegend\":false},{\"hoverinfo\":\"text\",\"lat\":[45.207,47.217],\"line\":{\"color\":\"blue\",\"width\":0.66816407266962},\"locationmode\":\"geojson-id\",\"lon\":[16.158,18.879],\"mode\":\"lines\",\"name\":\"0 GW retrofitted Pipeline\",\"text\":\"0.0\",\"type\":\"scattergeo\",\"showlegend\":false},{\"hoverinfo\":\"text\",\"lat\":[45.207,46.121],\"line\":{\"color\":\"blue\",\"width\":1.8770833333333332},\"locationmode\":\"geojson-id\",\"lon\":[16.158,14.805],\"mode\":\"lines\",\"name\":\"1 GW retrofitted Pipeline\",\"text\":\"0.0\",\"type\":\"scattergeo\",\"showlegend\":false},{\"hoverinfo\":\"text\",\"lat\":[47.217,45.56],\"line\":{\"color\":\"blue\",\"width\":0.6378895098836601},\"locationmode\":\"geojson-id\",\"lon\":[18.879,25.046],\"mode\":\"lines\",\"name\":\"0 GW retrofitted Pipeline\",\"text\":\"0.0\",\"type\":\"scattergeo\",\"showlegend\":false},{\"hoverinfo\":\"text\",\"lat\":[47.217,44.073],\"line\":{\"color\":\"blue\",\"width\":1.556839549371921},\"locationmode\":\"geojson-id\",\"lon\":[18.879,20.687],\"mode\":\"lines\",\"name\":\"1 GW retrofitted Pipeline\",\"text\":\"0.0\",\"type\":\"scattergeo\",\"showlegend\":false},{\"hoverinfo\":\"text\",\"lat\":[47.217,48.653],\"line\":{\"color\":\"blue\",\"width\":4.493666666666667},\"locationmode\":\"geojson-id\",\"lon\":[18.879,19.028],\"mode\":\"lines\",\"name\":\"4 GW retrofitted Pipeline\",\"text\":\"0.0\",\"type\":\"scattergeo\",\"showlegend\":false},{\"hoverinfo\":\"text\",\"lat\":[43.584,46.121],\"line\":{\"color\":\"blue\",\"width\":1.3397913142942813e-05},\"locationmode\":\"geojson-id\",\"lon\":[11.707,14.805],\"mode\":\"lines\",\"name\":\"0 GW retrofitted Pipeline\",\"text\":\"0.0\",\"type\":\"scattergeo\",\"showlegend\":false},{\"hoverinfo\":\"text\",\"lat\":[55.197,56.839],\"line\":{\"color\":\"blue\",\"width\":2.3870833333333334},\"locationmode\":\"geojson-id\",\"lon\":[23.114,23.725],\"mode\":\"lines\",\"name\":\"2 GW retrofitted Pipeline\",\"text\":\"0.0\",\"type\":\"scattergeo\",\"showlegend\":false},{\"hoverinfo\":\"text\",\"lat\":[48.116,48.133],\"line\":{\"color\":\"blue\",\"width\":5.071581513560659},\"locationmode\":\"geojson-id\",\"lon\":[15.661,16.357],\"mode\":\"lines\",\"name\":\"5 GW retrofitted Pipeline\",\"text\":\"0.0\",\"type\":\"scattergeo\",\"showlegend\":false},{\"hoverinfo\":\"text\",\"lat\":[48.116,48.047],\"line\":{\"color\":\"blue\",\"width\":10.886651424799918},\"locationmode\":\"geojson-id\",\"lon\":[15.661,13.997],\"mode\":\"lines\",\"name\":\"10 GW retrofitted Pipeline\",\"text\":\"0.0\",\"type\":\"scattergeo\",\"showlegend\":false},{\"hoverinfo\":\"text\",\"lat\":[47.173,48.047],\"line\":{\"color\":\"blue\",\"width\":9.303919501321486},\"locationmode\":\"geojson-id\",\"lon\":[15.017,13.997],\"mode\":\"lines\",\"name\":\"9 GW retrofitted Pipeline\",\"text\":\"0.0\",\"type\":\"scattergeo\",\"showlegend\":false},{\"hoverinfo\":\"text\",\"lat\":[47.173,47.215],\"line\":{\"color\":\"blue\",\"width\":2.713505525649307},\"locationmode\":\"geojson-id\",\"lon\":[15.017,10.935],\"mode\":\"lines\",\"name\":\"2 GW retrofitted Pipeline\",\"text\":\"0.0\",\"type\":\"scattergeo\",\"showlegend\":false},{\"hoverinfo\":\"text\",\"lat\":[46.615,47.215],\"line\":{\"color\":\"blue\",\"width\":1.8334864332584686},\"locationmode\":\"geojson-id\",\"lon\":[14.142,10.935],\"mode\":\"lines\",\"name\":\"1 GW retrofitted Pipeline\",\"text\":\"0.0\",\"type\":\"scattergeo\",\"showlegend\":false},{\"hoverinfo\":\"text\",\"lat\":[46.615,47.562],\"line\":{\"color\":\"blue\",\"width\":1.1641587607858832},\"locationmode\":\"geojson-id\",\"lon\":[14.142,12.77],\"mode\":\"lines\",\"name\":\"1 GW retrofitted Pipeline\",\"text\":\"0.0\",\"type\":\"scattergeo\",\"showlegend\":false},{\"hoverinfo\":\"text\",\"lat\":[47.562,47.32],\"line\":{\"color\":\"blue\",\"width\":0.2860700337310086},\"locationmode\":\"geojson-id\",\"lon\":[12.77,9.717],\"mode\":\"lines\",\"name\":\"0 GW retrofitted Pipeline\",\"text\":\"0.0\",\"type\":\"scattergeo\",\"showlegend\":false},{\"hoverinfo\":\"text\",\"lat\":[47.746,47.32],\"line\":{\"color\":\"blue\",\"width\":0.01524551251315148},\"locationmode\":\"geojson-id\",\"lon\":[16.608,9.717],\"mode\":\"lines\",\"name\":\"0 GW retrofitted Pipeline\",\"text\":\"0.0\",\"type\":\"scattergeo\",\"showlegend\":false},{\"hoverinfo\":\"text\",\"lat\":[47.746,46.798],\"line\":{\"color\":\"blue\",\"width\":0.10862392414931346},\"locationmode\":\"geojson-id\",\"lon\":[16.608,12.693],\"mode\":\"lines\",\"name\":\"0 GW retrofitted Pipeline\",\"text\":\"0.0\",\"type\":\"scattergeo\",\"showlegend\":false},{\"hoverinfo\":\"text\",\"lat\":[55.99,55.51],\"line\":{\"color\":\"blue\",\"width\":1.9450149009108535},\"locationmode\":\"geojson-id\",\"lon\":[9.732,12.284],\"mode\":\"lines\",\"name\":\"1 GW retrofitted Pipeline\",\"text\":\"0.0\",\"type\":\"scattergeo\",\"showlegend\":false},{\"hoverinfo\":\"text\",\"lat\":[40.601,39.673],\"line\":{\"color\":\"blue\",\"width\":0.16613805162347964},\"locationmode\":\"geojson-id\",\"lon\":[-3.434,2.739],\"mode\":\"lines\",\"name\":\"0 GW retrofitted Pipeline\",\"text\":\"0.0\",\"type\":\"scattergeo\",\"showlegend\":false},{\"hoverinfo\":\"text\",\"lat\":[43.584,39.968],\"line\":{\"color\":\"blue\",\"width\":2.0299329511988384},\"locationmode\":\"geojson-id\",\"lon\":[11.707,8.746],\"mode\":\"lines\",\"name\":\"2 GW retrofitted Pipeline\",\"text\":\"0.0\",\"type\":\"scattergeo\",\"showlegend\":false}],                        {\"template\":{\"data\":{\"histogram2dcontour\":[{\"type\":\"histogram2dcontour\",\"colorbar\":{\"outlinewidth\":0,\"ticks\":\"\"},\"colorscale\":[[0.0,\"#0d0887\"],[0.1111111111111111,\"#46039f\"],[0.2222222222222222,\"#7201a8\"],[0.3333333333333333,\"#9c179e\"],[0.4444444444444444,\"#bd3786\"],[0.5555555555555556,\"#d8576b\"],[0.6666666666666666,\"#ed7953\"],[0.7777777777777778,\"#fb9f3a\"],[0.8888888888888888,\"#fdca26\"],[1.0,\"#f0f921\"]]}],\"choropleth\":[{\"type\":\"choropleth\",\"colorbar\":{\"outlinewidth\":0,\"ticks\":\"\"}}],\"histogram2d\":[{\"type\":\"histogram2d\",\"colorbar\":{\"outlinewidth\":0,\"ticks\":\"\"},\"colorscale\":[[0.0,\"#0d0887\"],[0.1111111111111111,\"#46039f\"],[0.2222222222222222,\"#7201a8\"],[0.3333333333333333,\"#9c179e\"],[0.4444444444444444,\"#bd3786\"],[0.5555555555555556,\"#d8576b\"],[0.6666666666666666,\"#ed7953\"],[0.7777777777777778,\"#fb9f3a\"],[0.8888888888888888,\"#fdca26\"],[1.0,\"#f0f921\"]]}],\"heatmap\":[{\"type\":\"heatmap\",\"colorbar\":{\"outlinewidth\":0,\"ticks\":\"\"},\"colorscale\":[[0.0,\"#0d0887\"],[0.1111111111111111,\"#46039f\"],[0.2222222222222222,\"#7201a8\"],[0.3333333333333333,\"#9c179e\"],[0.4444444444444444,\"#bd3786\"],[0.5555555555555556,\"#d8576b\"],[0.6666666666666666,\"#ed7953\"],[0.7777777777777778,\"#fb9f3a\"],[0.8888888888888888,\"#fdca26\"],[1.0,\"#f0f921\"]]}],\"heatmapgl\":[{\"type\":\"heatmapgl\",\"colorbar\":{\"outlinewidth\":0,\"ticks\":\"\"},\"colorscale\":[[0.0,\"#0d0887\"],[0.1111111111111111,\"#46039f\"],[0.2222222222222222,\"#7201a8\"],[0.3333333333333333,\"#9c179e\"],[0.4444444444444444,\"#bd3786\"],[0.5555555555555556,\"#d8576b\"],[0.6666666666666666,\"#ed7953\"],[0.7777777777777778,\"#fb9f3a\"],[0.8888888888888888,\"#fdca26\"],[1.0,\"#f0f921\"]]}],\"contourcarpet\":[{\"type\":\"contourcarpet\",\"colorbar\":{\"outlinewidth\":0,\"ticks\":\"\"}}],\"contour\":[{\"type\":\"contour\",\"colorbar\":{\"outlinewidth\":0,\"ticks\":\"\"},\"colorscale\":[[0.0,\"#0d0887\"],[0.1111111111111111,\"#46039f\"],[0.2222222222222222,\"#7201a8\"],[0.3333333333333333,\"#9c179e\"],[0.4444444444444444,\"#bd3786\"],[0.5555555555555556,\"#d8576b\"],[0.6666666666666666,\"#ed7953\"],[0.7777777777777778,\"#fb9f3a\"],[0.8888888888888888,\"#fdca26\"],[1.0,\"#f0f921\"]]}],\"surface\":[{\"type\":\"surface\",\"colorbar\":{\"outlinewidth\":0,\"ticks\":\"\"},\"colorscale\":[[0.0,\"#0d0887\"],[0.1111111111111111,\"#46039f\"],[0.2222222222222222,\"#7201a8\"],[0.3333333333333333,\"#9c179e\"],[0.4444444444444444,\"#bd3786\"],[0.5555555555555556,\"#d8576b\"],[0.6666666666666666,\"#ed7953\"],[0.7777777777777778,\"#fb9f3a\"],[0.8888888888888888,\"#fdca26\"],[1.0,\"#f0f921\"]]}],\"mesh3d\":[{\"type\":\"mesh3d\",\"colorbar\":{\"outlinewidth\":0,\"ticks\":\"\"}}],\"scatter\":[{\"fillpattern\":{\"fillmode\":\"overlay\",\"size\":10,\"solidity\":0.2},\"type\":\"scatter\"}],\"parcoords\":[{\"type\":\"parcoords\",\"line\":{\"colorbar\":{\"outlinewidth\":0,\"ticks\":\"\"}}}],\"scatterpolargl\":[{\"type\":\"scatterpolargl\",\"marker\":{\"colorbar\":{\"outlinewidth\":0,\"ticks\":\"\"}}}],\"bar\":[{\"error_x\":{\"color\":\"#2a3f5f\"},\"error_y\":{\"color\":\"#2a3f5f\"},\"marker\":{\"line\":{\"color\":\"#E5ECF6\",\"width\":0.5},\"pattern\":{\"fillmode\":\"overlay\",\"size\":10,\"solidity\":0.2}},\"type\":\"bar\"}],\"scattergeo\":[{\"type\":\"scattergeo\",\"marker\":{\"colorbar\":{\"outlinewidth\":0,\"ticks\":\"\"}}}],\"scatterpolar\":[{\"type\":\"scatterpolar\",\"marker\":{\"colorbar\":{\"outlinewidth\":0,\"ticks\":\"\"}}}],\"histogram\":[{\"marker\":{\"pattern\":{\"fillmode\":\"overlay\",\"size\":10,\"solidity\":0.2}},\"type\":\"histogram\"}],\"scattergl\":[{\"type\":\"scattergl\",\"marker\":{\"colorbar\":{\"outlinewidth\":0,\"ticks\":\"\"}}}],\"scatter3d\":[{\"type\":\"scatter3d\",\"line\":{\"colorbar\":{\"outlinewidth\":0,\"ticks\":\"\"}},\"marker\":{\"colorbar\":{\"outlinewidth\":0,\"ticks\":\"\"}}}],\"scattermapbox\":[{\"type\":\"scattermapbox\",\"marker\":{\"colorbar\":{\"outlinewidth\":0,\"ticks\":\"\"}}}],\"scatterternary\":[{\"type\":\"scatterternary\",\"marker\":{\"colorbar\":{\"outlinewidth\":0,\"ticks\":\"\"}}}],\"scattercarpet\":[{\"type\":\"scattercarpet\",\"marker\":{\"colorbar\":{\"outlinewidth\":0,\"ticks\":\"\"}}}],\"carpet\":[{\"aaxis\":{\"endlinecolor\":\"#2a3f5f\",\"gridcolor\":\"white\",\"linecolor\":\"white\",\"minorgridcolor\":\"white\",\"startlinecolor\":\"#2a3f5f\"},\"baxis\":{\"endlinecolor\":\"#2a3f5f\",\"gridcolor\":\"white\",\"linecolor\":\"white\",\"minorgridcolor\":\"white\",\"startlinecolor\":\"#2a3f5f\"},\"type\":\"carpet\"}],\"table\":[{\"cells\":{\"fill\":{\"color\":\"#EBF0F8\"},\"line\":{\"color\":\"white\"}},\"header\":{\"fill\":{\"color\":\"#C8D4E3\"},\"line\":{\"color\":\"white\"}},\"type\":\"table\"}],\"barpolar\":[{\"marker\":{\"line\":{\"color\":\"#E5ECF6\",\"width\":0.5},\"pattern\":{\"fillmode\":\"overlay\",\"size\":10,\"solidity\":0.2}},\"type\":\"barpolar\"}],\"pie\":[{\"automargin\":true,\"type\":\"pie\"}]},\"layout\":{\"autotypenumbers\":\"strict\",\"colorway\":[\"#636efa\",\"#EF553B\",\"#00cc96\",\"#ab63fa\",\"#FFA15A\",\"#19d3f3\",\"#FF6692\",\"#B6E880\",\"#FF97FF\",\"#FECB52\"],\"font\":{\"color\":\"#2a3f5f\"},\"hovermode\":\"closest\",\"hoverlabel\":{\"align\":\"left\"},\"paper_bgcolor\":\"white\",\"plot_bgcolor\":\"#E5ECF6\",\"polar\":{\"bgcolor\":\"#E5ECF6\",\"angularaxis\":{\"gridcolor\":\"white\",\"linecolor\":\"white\",\"ticks\":\"\"},\"radialaxis\":{\"gridcolor\":\"white\",\"linecolor\":\"white\",\"ticks\":\"\"}},\"ternary\":{\"bgcolor\":\"#E5ECF6\",\"aaxis\":{\"gridcolor\":\"white\",\"linecolor\":\"white\",\"ticks\":\"\"},\"baxis\":{\"gridcolor\":\"white\",\"linecolor\":\"white\",\"ticks\":\"\"},\"caxis\":{\"gridcolor\":\"white\",\"linecolor\":\"white\",\"ticks\":\"\"}},\"coloraxis\":{\"colorbar\":{\"outlinewidth\":0,\"ticks\":\"\"}},\"colorscale\":{\"sequential\":[[0.0,\"#0d0887\"],[0.1111111111111111,\"#46039f\"],[0.2222222222222222,\"#7201a8\"],[0.3333333333333333,\"#9c179e\"],[0.4444444444444444,\"#bd3786\"],[0.5555555555555556,\"#d8576b\"],[0.6666666666666666,\"#ed7953\"],[0.7777777777777778,\"#fb9f3a\"],[0.8888888888888888,\"#fdca26\"],[1.0,\"#f0f921\"]],\"sequentialminus\":[[0.0,\"#0d0887\"],[0.1111111111111111,\"#46039f\"],[0.2222222222222222,\"#7201a8\"],[0.3333333333333333,\"#9c179e\"],[0.4444444444444444,\"#bd3786\"],[0.5555555555555556,\"#d8576b\"],[0.6666666666666666,\"#ed7953\"],[0.7777777777777778,\"#fb9f3a\"],[0.8888888888888888,\"#fdca26\"],[1.0,\"#f0f921\"]],\"diverging\":[[0,\"#8e0152\"],[0.1,\"#c51b7d\"],[0.2,\"#de77ae\"],[0.3,\"#f1b6da\"],[0.4,\"#fde0ef\"],[0.5,\"#f7f7f7\"],[0.6,\"#e6f5d0\"],[0.7,\"#b8e186\"],[0.8,\"#7fbc41\"],[0.9,\"#4d9221\"],[1,\"#276419\"]]},\"xaxis\":{\"gridcolor\":\"white\",\"linecolor\":\"white\",\"ticks\":\"\",\"title\":{\"standoff\":15},\"zerolinecolor\":\"white\",\"automargin\":true,\"zerolinewidth\":2},\"yaxis\":{\"gridcolor\":\"white\",\"linecolor\":\"white\",\"ticks\":\"\",\"title\":{\"standoff\":15},\"zerolinecolor\":\"white\",\"automargin\":true,\"zerolinewidth\":2},\"scene\":{\"xaxis\":{\"backgroundcolor\":\"#E5ECF6\",\"gridcolor\":\"white\",\"linecolor\":\"white\",\"showbackground\":true,\"ticks\":\"\",\"zerolinecolor\":\"white\",\"gridwidth\":2},\"yaxis\":{\"backgroundcolor\":\"#E5ECF6\",\"gridcolor\":\"white\",\"linecolor\":\"white\",\"showbackground\":true,\"ticks\":\"\",\"zerolinecolor\":\"white\",\"gridwidth\":2},\"zaxis\":{\"backgroundcolor\":\"#E5ECF6\",\"gridcolor\":\"white\",\"linecolor\":\"white\",\"showbackground\":true,\"ticks\":\"\",\"zerolinecolor\":\"white\",\"gridwidth\":2}},\"shapedefaults\":{\"line\":{\"color\":\"#2a3f5f\"}},\"annotationdefaults\":{\"arrowcolor\":\"#2a3f5f\",\"arrowhead\":0,\"arrowwidth\":1},\"geo\":{\"bgcolor\":\"white\",\"landcolor\":\"#E5ECF6\",\"subunitcolor\":\"white\",\"showland\":true,\"showlakes\":true,\"lakecolor\":\"white\"},\"title\":{\"x\":0.05},\"mapbox\":{\"style\":\"light\"}}},\"geo\":{\"visible\":false,\"resolution\":50,\"scope\":\"europe\",\"showcountries\":true,\"countrycolor\":\"Black\"},\"title\":{\"text\":\" Grid Capacity in 2030\"},\"autosize\":false,\"width\":1000,\"height\":1000},                        {\"responsive\": true}                    ).then(function(){\n",
       "                            \n",
       "var gd = document.getElementById('5f96ca31-e00c-474a-b7e3-50e435b58b11');\n",
       "var x = new MutationObserver(function (mutations, observer) {{\n",
       "        var display = window.getComputedStyle(gd).display;\n",
       "        if (!display || display === 'none') {{\n",
       "            console.log([gd, 'removed!']);\n",
       "            Plotly.purge(gd);\n",
       "            observer.disconnect();\n",
       "        }}\n",
       "}});\n",
       "\n",
       "// Listen for the removal of the full notebook cells\n",
       "var notebookContainer = gd.closest('#notebook-container');\n",
       "if (notebookContainer) {{\n",
       "    x.observe(notebookContainer, {childList: true});\n",
       "}}\n",
       "\n",
       "// Listen for the clearing of the current output cell\n",
       "var outputEl = gd.closest('.output');\n",
       "if (outputEl) {{\n",
       "    x.observe(outputEl, {childList: true});\n",
       "}}\n",
       "\n",
       "                        })                };                });            </script>        </div>"
      ]
     },
     "metadata": {},
     "output_type": "display_data"
    }
   ],
   "source": [
    "carrier = 'H2 pipeline'\n",
    "year = '2030'\n",
    "normal, retro, dc = get_grid_df(n = networks['2050'], carrier = carrier)\n",
    "carrier= carrier[:3].strip()          #this part is unnecessary here should be deleted as soon as get_grid_df is modified \n",
    "df = normal.buses[normal.buses.carrier == carrier].copy()\n",
    "df['ct'] = df.index.str[:5]\n",
    "divisor = 1e3\n",
    "\n",
    "fig = go.Figure(data=go.Choropleth(\n",
    "    #geojson=j_file,\n",
    "    featureidkey= 'properties.COUNTRY_ID',\n",
    "    locationmode='geojson-id', # honestly no idea what this does\n",
    "    locations=df['ct'],\n",
    "    z=df['v_nom'], # Placeholder Variable for a later use could be colorcode for powerussage?  \n",
    "    autocolorscale=False,\n",
    "    showscale=False,\n",
    "    hoverinfo = 'text',\n",
    "    text = df['ct']\n",
    "\n",
    "))\n",
    "\n",
    "#Plot grid lines and set width, AC has to be treated specially \n",
    "if carrier == 'AC':\n",
    "\n",
    "    for i in range(len(normal.lines.s_nom_opt)):\n",
    "        fig.add_trace(\n",
    "            go.Scattergeo(\n",
    "                locationmode = 'geojson-id',# honestly no idea what this does\n",
    "                lon = [df.loc[normal.lines.bus0[i]]['x'].round(3), df.loc[normal.lines.bus1[i]]['x'].round(3)],\n",
    "                lat = [df.loc[normal.lines.bus0[i]]['y'].round(3), df.loc[normal.lines.bus1[i]]['y'].round(3)],\n",
    "                mode = 'lines',\n",
    "                line = dict(width = (normal.lines.s_nom_opt[i])/divisor,color = 'green'), #s_nom_opt nur Termische Kap = s_nom_opt * s_max_pu für net\n",
    "                # opacity = float(df_flight_paths['cnt'][i]) / float(df_flight_paths['cnt'].max()),  => Could be used later\n",
    "                name=\"{} GW AC-Grid\".format(int(round(normal.lines.s_nom_opt[i])/divisor))\n",
    "            )\n",
    "        )\n",
    "    for i in range(len(dc.links.p_nom_opt)):\n",
    "        fig.add_trace(\n",
    "            go.Scattergeo(\n",
    "                locationmode = 'geojson-id',# honestly no idea what this does\n",
    "                lon = [df.loc[normal.links.bus0[i]]['x'].round(3), df.loc[normal.links.bus1[i]]['x'].round(3)],\n",
    "                lat = [df.loc[normal.links.bus0[i]]['y'].round(3), df.loc[normal.links.bus1[i]]['y'].round(3)],\n",
    "                mode = 'lines',\n",
    "                line = dict(width = (dc.links.p_nom_opt[i])/divisor,color = 'red'),\n",
    "                hoverinfo = 'text',\n",
    "                text = dc.links.p_nom[i].round(0),\n",
    "                # opacity = float(df_flight_paths['cnt'][i]) / float(df_flight_paths['cnt'].max()),\n",
    "                name=\"{} GW DC-Grid\".format(int(round(dc.links.p_nom_opt[i])/divisor))\n",
    "            )\n",
    "        )\n",
    "\n",
    "else:\n",
    "\n",
    "    for i in range(len(normal.links.p_nom_opt)):\n",
    "        fig.add_trace(\n",
    "            go.Scattergeo(\n",
    "                locationmode = 'geojson-id',# honestly no idea what this does\n",
    "                lon = [df.loc[normal.links.bus0[i]]['x'].round(3), df.loc[normal.links.bus1[i]]['x'].round(3)],\n",
    "                lat = [df.loc[normal.links.bus0[i]]['y'].round(3), df.loc[normal.links.bus1[i]]['y'].round(3)],\n",
    "                mode = 'lines',\n",
    "                line = dict(width = (normal.links.p_nom_opt[i])/divisor,color = 'red'),\n",
    "                # opacity = float(df_flight_paths['cnt'][i]) / float(df_flight_paths['cnt'].max()),\n",
    "                text = normal.links.p_nom[i],\n",
    "                name=\"{} GW Pipeline\".format(int(round(normal.links.p_nom_opt[i]/divisor)))\n",
    "\n",
    "            )\n",
    "        )\n",
    "    for i in range(len(retro.links.p_nom_opt)):\n",
    "        fig.add_trace(\n",
    "            go.Scattergeo(\n",
    "                locationmode = 'geojson-id',# honestly no idea what this does\n",
    "                lon = [df.loc[retro.links.bus0[i]]['x'].round(3), df.loc[retro.links.bus1[i]]['x'].round(3)],\n",
    "                lat = [df.loc[retro.links.bus0[i]]['y'].round(3), df.loc[retro.links.bus1[i]]['y'].round(3)],\n",
    "                mode = 'lines',\n",
    "                line = dict(width = (retro.links.p_nom_opt[i])/divisor,color = 'blue'),\n",
    "                hoverinfo = 'text',\n",
    "                text = retro.links.p_nom[i].round(0),\n",
    "                name=\"{} GW retrofitted Pipeline\".format(int(round(retro.links.p_nom_opt[i])/divisor))\n",
    "                # opacity = float(df_flight_paths['cnt'][i]) / float(df_flight_paths['cnt'].max()),\n",
    "            )\n",
    "        )\n",
    "\n",
    "#centralize on europe\n",
    "fig.update_geos(\n",
    "    visible=False, resolution=50, \n",
    "    scope=\"europe\",\n",
    "    # center=dict(lon=11, lat=40), # this part is to zone to AT\n",
    "    # projection_rotation=dict(lon=30, lat=30, roll=30),\n",
    "    # lataxis_range=[10,11], lonaxis_range=[33,41],\n",
    "    showcountries=True, countrycolor=\"Black\",\n",
    "    #showsubunits=True, subunitcolor=\"Blue\"\n",
    ")\n",
    "\n",
    "\n",
    "#Scale Figure \n",
    "fig.update_layout(\n",
    "    title=f\" Grid Capacity in {year}\",\n",
    "    autosize=False,\n",
    "    width=1000,\n",
    "    height=1000,\n",
    "    #showlegend = True,\n",
    "    #hovermode='x unified',\n",
    "    #legend=dict(itemsizing='constant')\n",
    ")\n",
    "\n",
    "#the following part is only for legend edititng\n",
    "\n",
    "#create empty list to store legend labels\n",
    "labels_to_show_in_legend = []\n",
    "\n",
    "#as far as i understand plotly needs a geoobject to exist in the plot to be filtered in legend \n",
    "#therefor find the closest existing Capacity to 3 and 10 GW and store them in List\n",
    "for s in (10,3):\n",
    "    if carrier == 'AC':\n",
    "        a = int(round(min(dc.links.p_nom_opt/divisor, key=lambda x:abs(x-s))))\n",
    "        labels_to_show_in_legend.append(\"{} GW DC-Grid\".format(a))\n",
    "        b = int(round(min(normal.lines.s_nom_opt/divisor, key=lambda x:abs(x-s))/s)*s)\n",
    "        labels_to_show_in_legend.append(\"{} GW AC-Grid\".format(b))\n",
    "    elif carrier == 'gas':\n",
    "        c = int(round(min(normal.links.p_nom_opt/divisor, key=lambda x:abs(x-s))))\n",
    "        labels_to_show_in_legend.append(\"{} GW Pipeline\".format(c))\n",
    "    else:\n",
    "        c = int(round(min(normal.links.p_nom_opt/divisor, key=lambda x:abs(x-s))))\n",
    "        labels_to_show_in_legend.append(\"{} GW Pipeline\".format(c))\n",
    "        d = int(round(min(retro.links.p_nom_opt/divisor, key=lambda x:abs(x-s))))\n",
    "        labels_to_show_in_legend.append(\"{} GW retrofitted Pipeline\".format(d))\n",
    "\n",
    "#create empty set\n",
    "labels = set()\n",
    "\n",
    "#check if trace name is not in set and in list, if true enable showlegend and store in set\n",
    "for trace in fig['data']: \n",
    "    if ( not trace['name'] in labels) and (trace['name'] in labels_to_show_in_legend):\n",
    "        labels.add(trace['name'])\n",
    "        trace['showlegend'] = True\n",
    "        #print(trace['name'])   #enable print for troubleshooting\n",
    "    else:\n",
    "        trace['showlegend'] = False\n",
    "            \n",
    "\n",
    "fig.show()\n"
   ]
  },
  {
   "cell_type": "code",
   "execution_count": 162,
   "id": "500916fe-da6e-4c40-b5f3-f228543e95e8",
   "metadata": {},
   "outputs": [
    {
     "data": {
      "text/plain": [
       "(['10 GW Pipeline', '2 GW Pipeline'], {'2 GW Pipeline'})"
      ]
     },
     "execution_count": 162,
     "metadata": {},
     "output_type": "execute_result"
    }
   ],
   "source": [
    "labels_to_show_in_legend, labels"
   ]
  },
  {
   "cell_type": "code",
   "execution_count": 166,
   "id": "8f0bd80b-abd1-434d-8127-422c68b24dd4",
   "metadata": {},
   "outputs": [
    {
     "data": {
      "text/plain": [
       "9"
      ]
     },
     "execution_count": 166,
     "metadata": {},
     "output_type": "execute_result"
    }
   ],
   "source": [
    "s = 9\n",
    "int(round(min(normal.links.p_nom_opt/divisor, key=lambda x:abs(x-s))))"
   ]
  },
  {
   "cell_type": "code",
   "execution_count": 184,
   "id": "965408b4-b2c1-42c7-8b9e-8262fe3f757f",
   "metadata": {},
   "outputs": [
    {
     "name": "stdout",
     "output_type": "stream",
     "text": [
      "0 GW Pipeline 0 GW Pipeline\n",
      "0 GW Pipeline 0 GW Pipeline\n",
      "0 GW Pipeline 0 GW Pipeline\n",
      "2 GW Pipeline 2 GW Pipeline\n",
      "1 GW Pipeline 1 GW Pipeline\n",
      "0 GW Pipeline 0 GW Pipeline\n",
      "0 GW Pipeline 0 GW Pipeline\n",
      "0 GW Pipeline 0 GW Pipeline\n",
      "0 GW Pipeline 0 GW Pipeline\n",
      "9 GW Pipeline 9 GW Pipeline\n",
      "0 GW Pipeline 0 GW Pipeline\n",
      "0 GW Pipeline 0 GW Pipeline\n",
      "0 GW Pipeline 0 GW Pipeline\n",
      "0 GW Pipeline 0 GW Pipeline\n",
      "0 GW Pipeline 0 GW Pipeline\n",
      "0 GW Pipeline 0 GW Pipeline\n",
      "0 GW Pipeline 0 GW Pipeline\n",
      "0 GW Pipeline 0 GW Pipeline\n",
      "0 GW Pipeline 0 GW Pipeline\n",
      "2 GW Pipeline 2 GW Pipeline\n",
      "0 GW Pipeline 0 GW Pipeline\n",
      "0 GW Pipeline 0 GW Pipeline\n",
      "0 GW Pipeline 0 GW Pipeline\n",
      "1 GW Pipeline 1 GW Pipeline\n",
      "0 GW Pipeline 0 GW Pipeline\n",
      "0 GW Pipeline 0 GW Pipeline\n",
      "1 GW Pipeline 1 GW Pipeline\n",
      "0 GW Pipeline 0 GW Pipeline\n",
      "0 GW Pipeline 0 GW Pipeline\n",
      "0 GW Pipeline 0 GW Pipeline\n",
      "0 GW Pipeline 0 GW Pipeline\n",
      "0 GW Pipeline 0 GW Pipeline\n",
      "10 GW Pipeline 10 GW Pipeline\n",
      "0 GW Pipeline 0 GW Pipeline\n",
      "0 GW Pipeline 0 GW Pipeline\n",
      "0 GW Pipeline 0 GW Pipeline\n",
      "0 GW Pipeline 0 GW Pipeline\n",
      "0 GW Pipeline 0 GW Pipeline\n",
      "0 GW Pipeline 0 GW Pipeline\n",
      "0 GW Pipeline 0 GW Pipeline\n",
      "0 GW Pipeline 0 GW Pipeline\n",
      "0 GW Pipeline 0 GW Pipeline\n",
      "0 GW Pipeline 0 GW Pipeline\n",
      "0 GW Pipeline 0 GW Pipeline\n",
      "0 GW Pipeline 0 GW Pipeline\n",
      "0 GW Pipeline 0 GW Pipeline\n",
      "0 GW Pipeline 0 GW Pipeline\n",
      "0 GW Pipeline 0 GW Pipeline\n",
      "1 GW Pipeline 1 GW Pipeline\n",
      "1 GW Pipeline 1 GW Pipeline\n",
      "0 GW Pipeline 0 GW Pipeline\n",
      "0 GW Pipeline 0 GW Pipeline\n",
      "1 GW Pipeline 1 GW Pipeline\n",
      "1 GW Pipeline 1 GW Pipeline\n",
      "0 GW Pipeline 0 GW Pipeline\n",
      "0 GW Pipeline 0 GW Pipeline\n",
      "0 GW Pipeline 0 GW Pipeline\n",
      "0 GW Pipeline 0 GW Pipeline\n",
      "0 GW Pipeline 0 GW Pipeline\n",
      "0 GW Pipeline 0 GW Pipeline\n",
      "0 GW Pipeline 0 GW Pipeline\n",
      "0 GW Pipeline 0 GW Pipeline\n",
      "0 GW Pipeline 0 GW Pipeline\n",
      "0 GW Pipeline 0 GW Pipeline\n"
     ]
    }
   ],
   "source": [
    "for i in range(len(normal.links.p_nom_opt)):\n",
    "    print(\"{} GW Pipeline\".format(int(round(normal.links.p_nom_opt[i]/divisor,))), \"{} GW Pipeline\".format(int(round(normal.links.p_nom_opt[i])/divisor)))"
   ]
  },
  {
   "cell_type": "code",
   "execution_count": 159,
   "id": "c19b7cc8-4345-4e86-9128-ef491c9190ab",
   "metadata": {},
   "outputs": [
    {
     "name": "stdout",
     "output_type": "stream",
     "text": [
      "gas\n",
      "gas\n"
     ]
    }
   ],
   "source": [
    "\n",
    "labels_to_show_in_legend = []\n",
    "carrier = 'gas pipeline'\n",
    "for s in (10,3):\n",
    "    if carrier == 'AC':\n",
    "        a = int(round(min(dc.links.p_nom_opt/divisor, key=lambda x:abs(x-s))))\n",
    "        labels_to_show_in_legend.append(\"{} GW DC-Grid\".format(a))\n",
    "        b = int(round(min(normal.lines.s_nom_opt/divisor, key=lambda x:abs(x-s))/s)*s)\n",
    "        labels_to_show_in_legend.append(\"{} GW AC-Grid\".format(b))\n",
    "        print('AC')\n",
    "    elif carrier == 'gas pipeline':\n",
    "        c = int(round(min(normal.links.p_nom_opt/divisor, key=lambda x:abs(x-s))/s)*s)\n",
    "        labels_to_show_in_legend.append(\"{} GW Pipeline\".format(c))\n",
    "        print('gas')\n",
    "    else:\n",
    "        c = int(round(min(normal.links.p_nom_opt/divisor, key=lambda x:abs(x-s))))\n",
    "        labels_to_show_in_legend.append(\"{} GW Pipeline\".format(c))\n",
    "        d = int(round(min(retro.links.p_nom_opt/divisor, key=lambda x:abs(x-s))))\n",
    "        labels_to_show_in_legend.append(\"{} GW retrofitted Pipeline\".format(d))\n",
    "        print('H2')"
   ]
  },
  {
   "cell_type": "code",
   "execution_count": 204,
   "id": "1fba8fd8-416c-46c0-8952-2659ef74e9e2",
   "metadata": {},
   "outputs": [
    {
     "data": {
      "text/plain": [
       "plotly.graph_objs._scattergeo.Scattergeo"
      ]
     },
     "execution_count": 204,
     "metadata": {},
     "output_type": "execute_result"
    }
   ],
   "source": [
    "type(trace)"
   ]
  },
  {
   "cell_type": "code",
   "execution_count": 217,
   "id": "baeeb97a-d7ac-4a23-be11-16c57211646a",
   "metadata": {},
   "outputs": [
    {
     "ename": "TypeError",
     "evalue": "tuple expected at most 1 argument, got 2",
     "output_type": "error",
     "traceback": [
      "\u001b[1;31m---------------------------------------------------------------------------\u001b[0m",
      "\u001b[1;31mTypeError\u001b[0m                                 Traceback (most recent call last)",
      "Cell \u001b[1;32mIn [217], line 1\u001b[0m\n\u001b[1;32m----> 1\u001b[0m a \u001b[38;5;241m=\u001b[39m \u001b[38;5;28;43mtuple\u001b[39;49m\u001b[43m(\u001b[49m\u001b[38;5;124;43m'\u001b[39;49m\u001b[38;5;124;43mScattergeo\u001b[39;49m\u001b[38;5;124;43m'\u001b[39;49m\u001b[43m,\u001b[49m\u001b[43m(\u001b[49m\u001b[43m{\u001b[49m\n\u001b[0;32m      2\u001b[0m \u001b[43m     \u001b[49m\u001b[38;5;124;43m'\u001b[39;49m\u001b[38;5;124;43mlat\u001b[39;49m\u001b[38;5;124;43m'\u001b[39;49m\u001b[43m:\u001b[49m\u001b[43m \u001b[49m\u001b[43m[\u001b[49m\u001b[38;5;241;43m41.562\u001b[39;49m\u001b[43m,\u001b[49m\u001b[43m \u001b[49m\u001b[38;5;241;43m38.949\u001b[39;49m\u001b[43m]\u001b[49m\u001b[43m,\u001b[49m\n\u001b[0;32m      3\u001b[0m \u001b[43m     \u001b[49m\u001b[38;5;124;43m'\u001b[39;49m\u001b[38;5;124;43mline\u001b[39;49m\u001b[38;5;124;43m'\u001b[39;49m\u001b[43m:\u001b[49m\u001b[43m \u001b[49m\u001b[43m{\u001b[49m\u001b[38;5;124;43m'\u001b[39;49m\u001b[38;5;124;43mcolor\u001b[39;49m\u001b[38;5;124;43m'\u001b[39;49m\u001b[43m:\u001b[49m\u001b[43m \u001b[49m\u001b[38;5;124;43m'\u001b[39;49m\u001b[38;5;124;43mred\u001b[39;49m\u001b[38;5;124;43m'\u001b[39;49m\u001b[43m,\u001b[49m\u001b[43m \u001b[49m\u001b[38;5;124;43m'\u001b[39;49m\u001b[38;5;124;43mwidth\u001b[39;49m\u001b[38;5;124;43m'\u001b[39;49m\u001b[43m:\u001b[49m\u001b[43m \u001b[49m\u001b[38;5;241;43m1.4904281931348493e-05\u001b[39;49m\u001b[43m}\u001b[49m\u001b[43m,\u001b[49m\n\u001b[0;32m      4\u001b[0m \u001b[43m     \u001b[49m\u001b[38;5;124;43m'\u001b[39;49m\u001b[38;5;124;43mlocationmode\u001b[39;49m\u001b[38;5;124;43m'\u001b[39;49m\u001b[43m:\u001b[49m\u001b[43m \u001b[49m\u001b[38;5;124;43m'\u001b[39;49m\u001b[38;5;124;43mgeojson-id\u001b[39;49m\u001b[38;5;124;43m'\u001b[39;49m\u001b[43m,\u001b[49m\n\u001b[0;32m      5\u001b[0m \u001b[43m     \u001b[49m\u001b[38;5;124;43m'\u001b[39;49m\u001b[38;5;124;43mlon\u001b[39;49m\u001b[38;5;124;43m'\u001b[39;49m\u001b[43m:\u001b[49m\u001b[43m \u001b[49m\u001b[43m[\u001b[49m\u001b[38;5;241;43m19.895\u001b[39;49m\u001b[43m,\u001b[49m\u001b[43m \u001b[49m\u001b[38;5;241;43m22.73\u001b[39;49m\u001b[43m]\u001b[49m\u001b[43m,\u001b[49m\n\u001b[0;32m      6\u001b[0m \u001b[43m     \u001b[49m\u001b[38;5;124;43m'\u001b[39;49m\u001b[38;5;124;43mmode\u001b[39;49m\u001b[38;5;124;43m'\u001b[39;49m\u001b[43m:\u001b[49m\u001b[43m \u001b[49m\u001b[38;5;124;43m'\u001b[39;49m\u001b[38;5;124;43mlines\u001b[39;49m\u001b[38;5;124;43m'\u001b[39;49m\u001b[43m,\u001b[49m\n\u001b[0;32m      7\u001b[0m \u001b[43m     \u001b[49m\u001b[38;5;124;43m'\u001b[39;49m\u001b[38;5;124;43mname\u001b[39;49m\u001b[38;5;124;43m'\u001b[39;49m\u001b[43m:\u001b[49m\u001b[43m \u001b[49m\u001b[38;5;124;43m'\u001b[39;49m\u001b[38;5;124;43m0 GW Pipeline\u001b[39;49m\u001b[38;5;124;43m'\u001b[39;49m\u001b[43m,\u001b[49m\n\u001b[0;32m      8\u001b[0m \u001b[43m     \u001b[49m\u001b[38;5;124;43m'\u001b[39;49m\u001b[38;5;124;43mshowlegend\u001b[39;49m\u001b[38;5;124;43m'\u001b[39;49m\u001b[43m:\u001b[49m\u001b[43m \u001b[49m\u001b[38;5;28;43;01mFalse\u001b[39;49;00m\u001b[43m,\u001b[49m\n\u001b[0;32m      9\u001b[0m \u001b[43m     \u001b[49m\u001b[38;5;124;43m'\u001b[39;49m\u001b[38;5;124;43mtext\u001b[39;49m\u001b[38;5;124;43m'\u001b[39;49m\u001b[43m:\u001b[49m\u001b[43m \u001b[49m\u001b[38;5;124;43m'\u001b[39;49m\u001b[38;5;124;43m0.0\u001b[39;49m\u001b[38;5;124;43m'\u001b[39;49m\n\u001b[0;32m     10\u001b[0m \u001b[43m \u001b[49m\u001b[43m}\u001b[49m\u001b[43m)\u001b[49m\u001b[43m)\u001b[49m\n\u001b[0;32m     12\u001b[0m fig[\u001b[38;5;124m'\u001b[39m\u001b[38;5;124mdata\u001b[39m\u001b[38;5;124m'\u001b[39m] \u001b[38;5;241m=\u001b[39mfig[\u001b[38;5;124m'\u001b[39m\u001b[38;5;124mdata\u001b[39m\u001b[38;5;124m'\u001b[39m] \u001b[38;5;241m+\u001b[39m a\n",
      "\u001b[1;31mTypeError\u001b[0m: tuple expected at most 1 argument, got 2"
     ]
    }
   ],
   "source": [
    "a = tuple('Scattergeo',({\n",
    "     'lat': [41.562, 38.949],\n",
    "     'line': {'color': 'red', 'width': 1.4904281931348493e-05},\n",
    "     'locationmode': 'geojson-id',\n",
    "     'lon': [19.895, 22.73],\n",
    "     'mode': 'lines',\n",
    "     'name': '0 GW Pipeline',\n",
    "     'showlegend': False,\n",
    "     'text': '0.0'\n",
    " }))\n",
    "\n",
    "fig['data'] =fig['data'] + a"
   ]
  },
  {
   "cell_type": "code",
   "execution_count": 215,
   "id": "bf7f6c41-f114-4bb2-b2cd-64d30bc16b30",
   "metadata": {},
   "outputs": [
    {
     "data": {
      "text/plain": [
       "Scattergeo({\n",
       "    'lat': [41.562, 38.949],\n",
       "    'line': {'color': 'red', 'width': 1.4904281931348493e-05},\n",
       "    'locationmode': 'geojson-id',\n",
       "    'lon': [19.895, 22.73],\n",
       "    'mode': 'lines',\n",
       "    'name': '0 GW Pipeline',\n",
       "    'showlegend': False,\n",
       "    'text': '0.0'\n",
       "})"
      ]
     },
     "execution_count": 215,
     "metadata": {},
     "output_type": "execute_result"
    }
   ],
   "source": [
    "fig['data'][1]"
   ]
  },
  {
   "cell_type": "code",
   "execution_count": 143,
   "id": "8c6d3b98-9c1f-4073-9981-c0acb05371ba",
   "metadata": {},
   "outputs": [
    {
     "name": "stdout",
     "output_type": "stream",
     "text": [
      "0 GW retrofitted Pipeline\n",
      "0 GW retrofitted Pipeline\n",
      "0 GW retrofitted Pipeline\n",
      "2 GW retrofitted Pipeline\n",
      "0 GW retrofitted Pipeline\n",
      "0 GW retrofitted Pipeline\n",
      "0 GW retrofitted Pipeline\n",
      "0 GW retrofitted Pipeline\n",
      "0 GW retrofitted Pipeline\n",
      "9 GW retrofitted Pipeline\n",
      "0 GW retrofitted Pipeline\n",
      "0 GW retrofitted Pipeline\n",
      "0 GW retrofitted Pipeline\n",
      "0 GW retrofitted Pipeline\n",
      "0 GW retrofitted Pipeline\n",
      "0 GW retrofitted Pipeline\n",
      "0 GW retrofitted Pipeline\n",
      "0 GW retrofitted Pipeline\n",
      "0 GW retrofitted Pipeline\n",
      "1 GW retrofitted Pipeline\n",
      "0 GW retrofitted Pipeline\n",
      "0 GW retrofitted Pipeline\n",
      "0 GW retrofitted Pipeline\n",
      "0 GW retrofitted Pipeline\n",
      "0 GW retrofitted Pipeline\n",
      "0 GW retrofitted Pipeline\n",
      "0 GW retrofitted Pipeline\n",
      "0 GW retrofitted Pipeline\n",
      "0 GW retrofitted Pipeline\n",
      "0 GW retrofitted Pipeline\n",
      "0 GW retrofitted Pipeline\n",
      "0 GW retrofitted Pipeline\n",
      "9 GW retrofitted Pipeline\n",
      "0 GW retrofitted Pipeline\n",
      "0 GW retrofitted Pipeline\n",
      "0 GW retrofitted Pipeline\n",
      "0 GW retrofitted Pipeline\n",
      "0 GW retrofitted Pipeline\n",
      "0 GW retrofitted Pipeline\n",
      "0 GW retrofitted Pipeline\n",
      "0 GW retrofitted Pipeline\n",
      "0 GW retrofitted Pipeline\n",
      "0 GW retrofitted Pipeline\n",
      "0 GW retrofitted Pipeline\n",
      "0 GW retrofitted Pipeline\n",
      "0 GW retrofitted Pipeline\n",
      "0 GW retrofitted Pipeline\n",
      "0 GW retrofitted Pipeline\n",
      "0 GW retrofitted Pipeline\n",
      "0 GW retrofitted Pipeline\n",
      "0 GW retrofitted Pipeline\n",
      "0 GW retrofitted Pipeline\n",
      "0 GW retrofitted Pipeline\n",
      "0 GW retrofitted Pipeline\n",
      "0 GW retrofitted Pipeline\n",
      "0 GW retrofitted Pipeline\n",
      "0 GW retrofitted Pipeline\n",
      "0 GW retrofitted Pipeline\n",
      "0 GW retrofitted Pipeline\n",
      "0 GW retrofitted Pipeline\n",
      "0 GW retrofitted Pipeline\n",
      "0 GW retrofitted Pipeline\n",
      "0 GW retrofitted Pipeline\n",
      "0 GW retrofitted Pipeline\n"
     ]
    }
   ],
   "source": [
    "for i in range(len(normal.links.p_nom_opt)):\n",
    "    name=\"{} GW retrofitted Pipeline\".format(int(round(normal.links.p_nom_opt[i])/divisor))\n",
    "    print(name)"
   ]
  },
  {
   "cell_type": "code",
   "execution_count": 132,
   "id": "ce6e4d02-8433-4006-b238-8f4eee7dbd3f",
   "metadata": {},
   "outputs": [
    {
     "data": {
      "text/plain": [
       "2"
      ]
     },
     "execution_count": 132,
     "metadata": {},
     "output_type": "execute_result"
    }
   ],
   "source": [
    "s = 10\n",
    "int(round(min(normal.links.p_nom_opt/divisor, key=lambda x:abs(x-s))))"
   ]
  },
  {
   "cell_type": "code",
   "execution_count": 70,
   "id": "c43d88f1-03b2-4be2-a8e5-d53241e808ce",
   "metadata": {},
   "outputs": [
    {
     "data": {
      "text/plain": [
       "['10 AC GW', '8 DC GW', '3 AC GW', '3 DC GW']"
      ]
     },
     "execution_count": 70,
     "metadata": {},
     "output_type": "execute_result"
    }
   ],
   "source": [
    "import math\n",
    "\n",
    "labels = []\n",
    "for s in (10,3):\n",
    "    b = int(round(min(normal.lines.s_nom_opt/divisor, key=lambda x:abs(x-s))/s)*s)\n",
    "    labels.append(\"{} AC GW\".format(b))\n",
    "    a = int(round(min(dc.links.p_nom_opt/divisor, key=lambda x:abs(x-s))))\n",
    "    labels.append(\"{} DC GW\".format(a))\n",
    "#\n",
    "\n",
    "labels"
   ]
  },
  {
   "cell_type": "code",
   "execution_count": 194,
   "id": "700c6991-504b-419c-aae8-7e4bf8853cfa",
   "metadata": {
    "tags": []
   },
   "outputs": [],
   "source": [
    "def plot_grid(normal, retro, dc, carrier, year):\n",
    "    \"\"\"Plots a Geo. Figure in Plotly containing all clusters and a given grid\n",
    "    Parameters\n",
    "    ----------\n",
    "    normal : Dataframe containing Links and Buses for AC and H2/gas grid, should be provided by get_grid_df funktion\n",
    "    retro : Dataframe containing Links and Buses for retrofitted H2 grid, should be provided by get_grid_df funktion\n",
    "    carrier : string (== \"gas pipeline\", \"AC\", \"H2 pipeline\")\n",
    "        carrier (e.g. \"gas pipeline\", \"AC\") used to differenciate what grid to plot\n",
    "    \n",
    "    Returns\n",
    "    -------\n",
    "    Grid plot of a given carrier\n",
    "    \"\"\"\n",
    "    carrier= carrier[:3].strip()          #this part is unnecessary here should be deleted as soon as get_grid_df is modified \n",
    "    df = normal.buses[normal.buses.carrier == carrier].copy()\n",
    "    df['ct'] = df.index.str[:5]\n",
    "    divisor = 1e3\n",
    "\n",
    "    fig = go.Figure(data=go.Choropleth(\n",
    "        #geojson=j_file,\n",
    "        featureidkey= 'properties.COUNTRY_ID',\n",
    "        locationmode='geojson-id', # honestly no idea what this does\n",
    "        locations=df['ct'],\n",
    "        z=df['v_nom'], # Placeholder Variable for a later use could be colorcode for powerussage?  \n",
    "        autocolorscale=False,\n",
    "        showscale=False,\n",
    "        hoverinfo = 'text',\n",
    "        text = df['ct']\n",
    "\n",
    "    ))\n",
    "\n",
    "    #Plot grid lines and set width, AC has to be treated specially \n",
    "    if carrier == 'AC':\n",
    "\n",
    "        for i in range(len(normal.lines.s_nom_opt)):\n",
    "            fig.add_trace(\n",
    "                go.Scattergeo(\n",
    "                    locationmode = 'geojson-id',# honestly no idea what this does\n",
    "                    lon = [df.loc[normal.lines.bus0[i]]['x'].round(3), df.loc[normal.lines.bus1[i]]['x'].round(3)],\n",
    "                    lat = [df.loc[normal.lines.bus0[i]]['y'].round(3), df.loc[normal.lines.bus1[i]]['y'].round(3)],\n",
    "                    mode = 'lines',\n",
    "                    line = dict(width = (normal.lines.s_nom_opt[i])/divisor,color = 'green'), #s_nom_opt nur Termische Kap = s_nom_opt * s_max_pu für net\n",
    "                    # opacity = float(df_flight_paths['cnt'][i]) / float(df_flight_paths['cnt'].max()),  => Could be used later\n",
    "                    name=\"{} GW AC-Grid\".format(int(round(normal.lines.s_nom_opt[i])/divisor))\n",
    "                )\n",
    "            )\n",
    "        for i in range(len(dc.links.p_nom_opt)):\n",
    "            fig.add_trace(\n",
    "                go.Scattergeo(\n",
    "                    locationmode = 'geojson-id',# honestly no idea what this does\n",
    "                    lon = [df.loc[normal.links.bus0[i]]['x'].round(3), df.loc[normal.links.bus1[i]]['x'].round(3)],\n",
    "                    lat = [df.loc[normal.links.bus0[i]]['y'].round(3), df.loc[normal.links.bus1[i]]['y'].round(3)],\n",
    "                    mode = 'lines',\n",
    "                    line = dict(width = (dc.links.p_nom_opt[i])/divisor,color = 'red'),\n",
    "                    hoverinfo = 'text',\n",
    "                    text = dc.links.p_nom[i].round(0),\n",
    "                    # opacity = float(df_flight_paths['cnt'][i]) / float(df_flight_paths['cnt'].max()),\n",
    "                    name=\"{} GW DC-Grid\".format(int(round(dc.links.p_nom_opt[i])/divisor))\n",
    "                )\n",
    "            )\n",
    "\n",
    "    else:\n",
    "\n",
    "        for i in range(len(normal.links.p_nom_opt)):\n",
    "            fig.add_trace(\n",
    "                go.Scattergeo(\n",
    "                    locationmode = 'geojson-id',# honestly no idea what this does\n",
    "                    lon = [df.loc[normal.links.bus0[i]]['x'].round(3), df.loc[normal.links.bus1[i]]['x'].round(3)],\n",
    "                    lat = [df.loc[normal.links.bus0[i]]['y'].round(3), df.loc[normal.links.bus1[i]]['y'].round(3)],\n",
    "                    mode = 'lines',\n",
    "                    line = dict(width = (normal.links.p_nom_opt[i])/divisor,color = 'red'),\n",
    "                    # opacity = float(df_flight_paths['cnt'][i]) / float(df_flight_paths['cnt'].max()),\n",
    "                    text = normal.links.p_nom[i],\n",
    "                    name=\"{} GW Pipeline\".format(int(round(normal.links.p_nom_opt[i]/divisor)))\n",
    "\n",
    "                )\n",
    "            )\n",
    "        for i in range(len(retro.links.p_nom_opt)):\n",
    "            fig.add_trace(\n",
    "                go.Scattergeo(\n",
    "                    locationmode = 'geojson-id',# honestly no idea what this does\n",
    "                    lon = [df.loc[retro.links.bus0[i]]['x'].round(3), df.loc[retro.links.bus1[i]]['x'].round(3)],\n",
    "                    lat = [df.loc[retro.links.bus0[i]]['y'].round(3), df.loc[retro.links.bus1[i]]['y'].round(3)],\n",
    "                    mode = 'lines',\n",
    "                    line = dict(width = (retro.links.p_nom_opt[i])/divisor,color = 'blue'),\n",
    "                    hoverinfo = 'text',\n",
    "                    text = retro.links.p_nom[i].round(0),\n",
    "                    name=\"{} GW retrofitted Pipeline\".format(int(round(retro.links.p_nom_opt[i])/divisor))\n",
    "                    # opacity = float(df_flight_paths['cnt'][i]) / float(df_flight_paths['cnt'].max()),\n",
    "                )\n",
    "            )\n",
    "\n",
    "    #centralize on europe\n",
    "    fig.update_geos(\n",
    "        visible=False, resolution=50, \n",
    "        scope=\"europe\",\n",
    "        # center=dict(lon=11, lat=40), # this part is to zone to AT\n",
    "        # projection_rotation=dict(lon=30, lat=30, roll=30),\n",
    "        # lataxis_range=[10,11], lonaxis_range=[33,41],\n",
    "        showcountries=True, countrycolor=\"Black\",\n",
    "        #showsubunits=True, subunitcolor=\"Blue\"\n",
    "    )\n",
    "\n",
    "\n",
    "    #Scale Figure \n",
    "    fig.update_layout(\n",
    "        title=f\" Grid Capacity in {year}\",\n",
    "        autosize=False,\n",
    "        width=1000,\n",
    "        height=1000,\n",
    "        #showlegend = True,\n",
    "        #hovermode='x unified',\n",
    "        #legend=dict(itemsizing='constant')\n",
    "    )\n",
    "\n",
    "    #the following part is only for legend edititng\n",
    "\n",
    "    #create empty list to store legend labels\n",
    "    labels_to_show_in_legend = []\n",
    "\n",
    "    #as far as i understand plotly needs a geoobject to exist in the plot to be filtered in legend \n",
    "    #therefor find the closest existing Capacity to 3 and 10 GW and store them in List\n",
    "    for s in (10,3):\n",
    "        if carrier == 'AC':\n",
    "            a = int(round(min(dc.links.p_nom_opt/divisor, key=lambda x:abs(x-s))))\n",
    "            labels_to_show_in_legend.append(\"{} GW DC-Grid\".format(a))\n",
    "            b = int(round(min(normal.lines.s_nom_opt/divisor, key=lambda x:abs(x-s))/s)*s)\n",
    "            labels_to_show_in_legend.append(\"{} GW AC-Grid\".format(b))\n",
    "        elif carrier == 'gas':\n",
    "            c = int(round(min(normal.links.p_nom_opt/divisor, key=lambda x:abs(x-s))))\n",
    "            labels_to_show_in_legend.append(\"{} GW Pipeline\".format(c))\n",
    "        else:\n",
    "            c = int(round(min(normal.links.p_nom_opt/divisor, key=lambda x:abs(x-s))))\n",
    "            labels_to_show_in_legend.append(\"{} GW Pipeline\".format(c))\n",
    "            d = int(round(min(retro.links.p_nom_opt/divisor, key=lambda x:abs(x-s))))\n",
    "            labels_to_show_in_legend.append(\"{} GW retrofitted Pipeline\".format(d))\n",
    "\n",
    "    #create empty set\n",
    "    labels = set()\n",
    "\n",
    "    #check if trace name is not in set and in list, if true enable showlegend and store in set\n",
    "    for trace in fig['data']: \n",
    "        if ( not trace['name'] in labels) and (trace['name'] in labels_to_show_in_legend):\n",
    "            labels.add(trace['name'])\n",
    "            trace['showlegend'] = True\n",
    "            #print(trace['name'])   #enable print for troubleshooting\n",
    "        else:\n",
    "            trace['showlegend'] = False\n",
    "\n",
    "    return(fig)"
   ]
  },
  {
   "cell_type": "code",
   "execution_count": 195,
   "id": "eed52d85-5891-47dc-9bec-7f8c0346a83a",
   "metadata": {},
   "outputs": [],
   "source": [
    "#pip install dash-bootstrap-components"
   ]
  },
  {
   "cell_type": "code",
   "execution_count": 196,
   "id": "ed15c8d6-e2aa-43ca-86a7-dd6ef862a674",
   "metadata": {},
   "outputs": [],
   "source": [
    "from dash import Dash, dcc, Output, Input  # pip install dash\n",
    "import dash_bootstrap_components as dbc    # pip install dash-bootstrap-components\n",
    "import plotly.express as px\n",
    "\n",
    "# incorporate data into app\n",
    "#df = px.data.medals_long()\n",
    "\n",
    "# Build your components\n",
    "app = Dash(__name__, external_stylesheets=[dbc.themes.SOLAR])\n",
    "mytitle = dcc.Markdown(children='# TEST TEST')\n",
    "mygraph = dcc.Graph(figure={})\n",
    "dropdown = dcc.Dropdown(options=['H2 pipeline', 'gas pipeline', \"AC\"],\n",
    "                        value='H2 pipeline',  # initial value displayed when page first loads\n",
    "                        clearable=False)\n",
    "dropdown_year = dcc.Dropdown(options=['2015','2020','2030','2040','2050'],\n",
    "                        value='2015',  # initial value displayed when page first loads\n",
    "                        clearable=False)\n",
    "\n",
    "# Customize your own Layout\n",
    "app.layout = dbc.Container([mytitle, dropdown, dropdown_year, mygraph])\n",
    "\n",
    "# Callback allows components to interact\n",
    "@app.callback(\n",
    "    Output(mygraph, component_property='figure'),\n",
    "    Input(dropdown, component_property='value'),\n",
    "    Input(dropdown_year, component_property='value')\n",
    ")\n",
    "def update_graph(user_input, dropdown_year):  # function arguments come from the component property of the Input\n",
    "    carrier = user_input\n",
    "    n = networks[dropdown_year]\n",
    "    normal,retro,dc = get_grid_df(n,carrier)\n",
    "    fig = plot_grid(normal, retro, dc, carrier, dropdown_year)\n",
    "    return fig  # returned objects are assigned to the component property of the Output\n",
    "\n",
    "\n"
   ]
  },
  {
   "cell_type": "code",
   "execution_count": 197,
   "id": "f0191be4-f3b6-46b0-88ac-66b808f27f4b",
   "metadata": {},
   "outputs": [
    {
     "name": "stdout",
     "output_type": "stream",
     "text": [
      "Dash is running on http://127.0.0.1:9993/\n",
      "\n"
     ]
    },
    {
     "name": "stderr",
     "output_type": "stream",
     "text": [
      "INFO:__main__:Dash is running on http://127.0.0.1:9993/\n",
      "\n"
     ]
    },
    {
     "name": "stdout",
     "output_type": "stream",
     "text": [
      " * Serving Flask app '__main__'\n",
      " * Debug mode: off\n"
     ]
    },
    {
     "name": "stderr",
     "output_type": "stream",
     "text": [
      "INFO:werkzeug:\u001b[31m\u001b[1mWARNING: This is a development server. Do not use it in a production deployment. Use a production WSGI server instead.\u001b[0m\n",
      " * Running on http://127.0.0.1:9993\n",
      "INFO:werkzeug:\u001b[33mPress CTRL+C to quit\u001b[0m\n",
      "INFO:werkzeug:127.0.0.1 - - [02/Feb/2023 12:27:38] \"GET / HTTP/1.1\" 200 -\n",
      "INFO:werkzeug:127.0.0.1 - - [02/Feb/2023 12:27:38] \"GET /_dash-component-suites/dash/deps/react@16.v2_7_1m1671627520.14.0.min.js HTTP/1.1\" 200 -\n",
      "INFO:werkzeug:127.0.0.1 - - [02/Feb/2023 12:27:38] \"GET /_dash-component-suites/dash/deps/polyfill@7.v2_7_1m1671627520.12.1.min.js HTTP/1.1\" 200 -\n",
      "INFO:werkzeug:127.0.0.1 - - [02/Feb/2023 12:27:38] \"GET /_dash-component-suites/dash/deps/react-dom@16.v2_7_1m1671627520.14.0.min.js HTTP/1.1\" 200 -\n",
      "INFO:werkzeug:127.0.0.1 - - [02/Feb/2023 12:27:38] \"GET /_dash-component-suites/dash/deps/prop-types@15.v2_7_1m1671627520.8.1.min.js HTTP/1.1\" 200 -\n",
      "INFO:werkzeug:127.0.0.1 - - [02/Feb/2023 12:27:38] \"GET /_dash-component-suites/dash_bootstrap_components/_components/dash_bootstrap_components.v1_3_0m1672759783.min.js HTTP/1.1\" 200 -\n",
      "INFO:werkzeug:127.0.0.1 - - [02/Feb/2023 12:27:38] \"GET /_dash-component-suites/dash/dash-renderer/build/dash_renderer.v2_7_1m1671627520.min.js HTTP/1.1\" 200 -\n",
      "INFO:werkzeug:127.0.0.1 - - [02/Feb/2023 12:27:38] \"GET /_dash-component-suites/dash/dcc/dash_core_components.v2_7_1m1671627520.js HTTP/1.1\" 200 -\n",
      "INFO:werkzeug:127.0.0.1 - - [02/Feb/2023 12:27:38] \"GET /_dash-component-suites/dash/dcc/dash_core_components-shared.v2_7_1m1671627520.js HTTP/1.1\" 200 -\n",
      "INFO:werkzeug:127.0.0.1 - - [02/Feb/2023 12:27:38] \"GET /_dash-component-suites/dash/html/dash_html_components.v2_0_7m1671627520.min.js HTTP/1.1\" 200 -\n",
      "INFO:werkzeug:127.0.0.1 - - [02/Feb/2023 12:27:38] \"GET /_dash-component-suites/dash/dash_table/bundle.v5_2_1m1671627520.js HTTP/1.1\" 200 -\n",
      "INFO:werkzeug:127.0.0.1 - - [02/Feb/2023 12:27:39] \"GET /_dash-layout HTTP/1.1\" 200 -\n",
      "INFO:werkzeug:127.0.0.1 - - [02/Feb/2023 12:27:39] \"GET /_dash-dependencies HTTP/1.1\" 200 -\n",
      "INFO:werkzeug:127.0.0.1 - - [02/Feb/2023 12:27:39] \"GET /_dash-component-suites/dash/dcc/async-markdown.js HTTP/1.1\" 200 -\n",
      "INFO:werkzeug:127.0.0.1 - - [02/Feb/2023 12:27:39] \"GET /_dash-component-suites/dash/dcc/async-dropdown.js HTTP/1.1\" 200 -\n",
      "INFO:werkzeug:127.0.0.1 - - [02/Feb/2023 12:27:39] \"GET /_dash-component-suites/dash/dcc/async-graph.js HTTP/1.1\" 200 -\n",
      "INFO:werkzeug:127.0.0.1 - - [02/Feb/2023 12:27:39] \"GET /_dash-component-suites/dash/dcc/async-plotlyjs.js HTTP/1.1\" 200 -\n",
      "INFO:werkzeug:127.0.0.1 - - [02/Feb/2023 12:27:39] \"GET /_dash-component-suites/dash/dcc/async-highlight.js HTTP/1.1\" 200 -\n",
      "INFO:werkzeug:127.0.0.1 - - [02/Feb/2023 12:27:40] \"POST /_dash-update-component HTTP/1.1\" 200 -\n",
      "INFO:werkzeug:127.0.0.1 - - [02/Feb/2023 12:27:44] \"POST /_dash-update-component HTTP/1.1\" 200 -\n",
      "INFO:werkzeug:127.0.0.1 - - [02/Feb/2023 12:27:50] \"POST /_dash-update-component HTTP/1.1\" 200 -\n",
      "INFO:werkzeug:127.0.0.1 - - [02/Feb/2023 12:27:55] \"POST /_dash-update-component HTTP/1.1\" 200 -\n",
      "INFO:werkzeug:127.0.0.1 - - [02/Feb/2023 12:27:59] \"POST /_dash-update-component HTTP/1.1\" 200 -\n",
      "INFO:werkzeug:127.0.0.1 - - [02/Feb/2023 12:28:02] \"POST /_dash-update-component HTTP/1.1\" 200 -\n",
      "INFO:werkzeug:127.0.0.1 - - [02/Feb/2023 12:28:11] \"POST /_dash-update-component HTTP/1.1\" 200 -\n",
      "INFO:werkzeug:127.0.0.1 - - [02/Feb/2023 12:28:29] \"POST /_dash-update-component HTTP/1.1\" 200 -\n",
      "INFO:werkzeug:127.0.0.1 - - [02/Feb/2023 12:28:35] \"POST /_dash-update-component HTTP/1.1\" 200 -\n",
      "INFO:werkzeug:127.0.0.1 - - [02/Feb/2023 12:28:38] \"POST /_dash-update-component HTTP/1.1\" 200 -\n",
      "INFO:werkzeug:127.0.0.1 - - [02/Feb/2023 12:28:45] \"POST /_dash-update-component HTTP/1.1\" 200 -\n",
      "INFO:werkzeug:127.0.0.1 - - [02/Feb/2023 12:28:49] \"POST /_dash-update-component HTTP/1.1\" 200 -\n",
      "INFO:werkzeug:127.0.0.1 - - [02/Feb/2023 12:28:53] \"POST /_dash-update-component HTTP/1.1\" 200 -\n",
      "INFO:werkzeug:127.0.0.1 - - [02/Feb/2023 12:28:57] \"POST /_dash-update-component HTTP/1.1\" 200 -\n"
     ]
    }
   ],
   "source": [
    "# Run app\n",
    "if __name__=='__main__':\n",
    "    app.run_server( port=9993)"
   ]
  },
  {
   "cell_type": "markdown",
   "id": "2891c80b-4ef4-4df1-9363-c0b272da11d3",
   "metadata": {},
   "source": [
    "## Sachen die noch fehlen:\n",
    "\n",
    "1) Österreich richtig plotten\n",
    "2) Legende\n",
    "3) AC und DC addieren\n"
   ]
  },
  {
   "cell_type": "code",
   "execution_count": 13,
   "id": "a5a0c7cb-9283-45d5-919c-f5cc0ec58517",
   "metadata": {},
   "outputs": [],
   "source": [
    "handles = []\n",
    "labels = []\n",
    "line_factor = 1e3\n",
    "for s in (10, 3): # these values define the legend, change for different scaling\n",
    "    handles.append(plt.Line2D([0], [0], color=\"green\",\n",
    "                                linewidth=s * 1e3 / line_factor))\n",
    "    labels.append(\"{} GW\".format(s))"
   ]
  },
  {
   "cell_type": "code",
   "execution_count": 15,
   "id": "c9b3e72b-b25d-4084-8a92-420d172e80f9",
   "metadata": {},
   "outputs": [
    {
     "data": {
      "text/plain": [
       "[<matplotlib.lines.Line2D at 0x1213a8c2160>,\n",
       " <matplotlib.lines.Line2D at 0x12100351c70>]"
      ]
     },
     "execution_count": 15,
     "metadata": {},
     "output_type": "execute_result"
    }
   ],
   "source": [
    "handles"
   ]
  },
  {
   "cell_type": "code",
   "execution_count": null,
   "id": "9479ef34-7b20-4165-a417-42f34e720ada",
   "metadata": {},
   "outputs": [],
   "source": []
  }
 ],
 "metadata": {
  "kernelspec": {
   "display_name": "knep",
   "language": "python",
   "name": "knep"
  },
  "language_info": {
   "codemirror_mode": {
    "name": "ipython",
    "version": 3
   },
   "file_extension": ".py",
   "mimetype": "text/x-python",
   "name": "python",
   "nbconvert_exporter": "python",
   "pygments_lexer": "ipython3",
   "version": "3.8.13"
  }
 },
 "nbformat": 4,
 "nbformat_minor": 5
}
